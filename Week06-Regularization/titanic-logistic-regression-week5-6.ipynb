{
  "cells": [
    {
      "cell_type": "markdown",
      "metadata": {
        "id": "view-in-github",
        "colab_type": "text"
      },
      "source": [
        "<a href=\"https://colab.research.google.com/github/macgyver121/DADS6003/blob/main/Week06-Regularization/titanic-logistic-regression-week5-6.ipynb\" target=\"_parent\"><img src=\"https://colab.research.google.com/assets/colab-badge.svg\" alt=\"Open In Colab\"/></a>"
      ]
    },
    {
      "source": [
        "<a href=\"https://www.kaggle.com/pokekarat/titanic-logistic-regression-week5-6?scriptVersionId=87653531\" target=\"_blank\"><img align=\"left\" alt=\"Kaggle\" title=\"Open in Kaggle\" src=\"https://kaggle.com/static/images/open-in-kaggle.svg\"></a>"
      ],
      "metadata": {
        "id": "3o7XzLJx5Yiz"
      },
      "cell_type": "markdown"
    },
    {
      "cell_type": "markdown",
      "metadata": {
        "_cell_guid": "37ba0279-ea65-4a63-a38b-eb4f938f1147",
        "_uuid": "bfa6e3f8-8186-446b-8cc8-7ace15b758e9",
        "id": "qh6o1CXe5Yi0"
      },
      "source": [
        "# **Introduction**\n",
        "\n",
        "This kernel was inspired in part by the work of [SarahG](https://www.kaggle.com/sgus1318/titanic-analysis-learning-to-swim-with-python)'s analysis that I thank very much for the quality of her analysis. This work represents a deeper analysis by playing on several parameters while using only logistic regression estimator. In a future work, I will discuss other techniques. I am open to any criticism and proposal. You do not hesitate to evaluate this analysis.\n",
        "The following kernel contains the steps enumerated below for assessing the Titanic survival dataset:\n",
        "\n",
        "1. [Import data and python packages](#t1.)\n",
        "2. [Assess Data Quality & Missing Values](#t2.)\n",
        "    * 2.1. [Age - Missing Values](#t2.1.)\n",
        "    * 2.2. [Cabin - Missing Values](#t2.2.)\n",
        "    * 2.3. [Embarked - Missing Values](#t2.3.)\n",
        "    * 2.4. [Final Adjustments to Data](#t2.4.)\n",
        "        * 2.4.1 [Additional Variables](#t2.4.1.)\n",
        "3. [Exploratory Data Analysis](#t3.)\n",
        "4. [Logistic Regression and Results](#t4.)\n",
        "    * 4.1. [Feature selection](#t4.1.)\n",
        "        * 4.1.1. [Recursive feature elimination](#t4.1.1.)\n",
        "        * 4.1.2. [Feature ranking with recursive feature elimination and cross-validation](#t4.1.2.)\n",
        "    * 4.2. [Review of model evaluation procedures](#t4.2.)\n",
        "        * 4.2.1. [Model evaluation based on simple train/test split using `train_test_split()`](#t4.2.1.)\n",
        "        * 4.2.2. [Model evaluation based on K-fold cross-validation using `cross_val_score()`](#t4.2.2.)\n",
        "        * 4.2.3. [Model evaluation based on K-fold cross-validation using `cross_validate()`](#t4.2.3.)\n",
        "    * 4.3. [GridSearchCV evaluating using multiple scorers simultaneously](#t4.3.)\n",
        "    * 4.4. [GridSearchCV evaluating using multiple scorers, RepeatedStratifiedKFold and pipeline for preprocessing simultaneously](#t4.4.)"
      ]
    },
    {
      "cell_type": "markdown",
      "metadata": {
        "_cell_guid": "09c43566-2e5a-4a9b-a07d-b3fc13f6b8ef",
        "_uuid": "64f0b42f-6d43-4d8d-b129-7aeb207b9c3b",
        "id": "aaAQyiSd5Yi1"
      },
      "source": [
        "<a id=\"t1.\"></a>\n",
        "# 1. Import Data & Python Packages"
      ]
    },
    {
      "cell_type": "code",
      "execution_count": null,
      "metadata": {
        "_cell_guid": "64833e88-5db2-4c4e-a9fa-a23ccdeccfa7",
        "_uuid": "5b27215f-16b2-462e-bd48-16a4d2bdfe64",
        "execution": {
          "iopub.execute_input": "2022-02-12T15:21:03.228332Z",
          "iopub.status.busy": "2022-02-12T15:21:03.227688Z",
          "iopub.status.idle": "2022-02-12T15:21:03.23984Z",
          "shell.execute_reply": "2022-02-12T15:21:03.238547Z",
          "shell.execute_reply.started": "2022-02-12T15:21:03.228266Z"
        },
        "jupyter": {
          "outputs_hidden": false
        },
        "id": "TCLWUeYX5Yi1"
      },
      "outputs": [],
      "source": [
        "import numpy as np \n",
        "import pandas as pd \n",
        "\n",
        "from sklearn import preprocessing\n",
        "import matplotlib.pyplot as plt \n",
        "plt.rc(\"font\", size=14) #dictionary objects\n",
        "import seaborn as sns\n",
        "sns.set(style=\"white\") #white background style for seaborn plots\n",
        "sns.set(style=\"whitegrid\", color_codes=True)\n",
        "\n",
        "import warnings\n",
        "warnings.simplefilter(action='ignore')"
      ]
    },
    {
      "cell_type": "code",
      "execution_count": null,
      "metadata": {
        "_cell_guid": "490a3602-e206-4cef-8a24-5a47cbaaa6c7",
        "_uuid": "038bd245-b239-4a6a-a5da-e2b096ef9879",
        "execution": {
          "iopub.execute_input": "2022-02-12T15:21:03.241783Z",
          "iopub.status.busy": "2022-02-12T15:21:03.241279Z",
          "iopub.status.idle": "2022-02-12T15:21:03.287226Z",
          "shell.execute_reply": "2022-02-12T15:21:03.286173Z",
          "shell.execute_reply.started": "2022-02-12T15:21:03.241739Z"
        },
        "jupyter": {
          "outputs_hidden": false
        },
        "id": "8kPkFIRG5Yi2",
        "outputId": "9fc3bf2d-3724-4b90-9ec5-6df9b5519059"
      },
      "outputs": [
        {
          "data": {
            "text/html": [
              "<div>\n",
              "<style scoped>\n",
              "    .dataframe tbody tr th:only-of-type {\n",
              "        vertical-align: middle;\n",
              "    }\n",
              "\n",
              "    .dataframe tbody tr th {\n",
              "        vertical-align: top;\n",
              "    }\n",
              "\n",
              "    .dataframe thead th {\n",
              "        text-align: right;\n",
              "    }\n",
              "</style>\n",
              "<table border=\"1\" class=\"dataframe\">\n",
              "  <thead>\n",
              "    <tr style=\"text-align: right;\">\n",
              "      <th></th>\n",
              "      <th>PassengerId</th>\n",
              "      <th>Survived</th>\n",
              "      <th>Pclass</th>\n",
              "      <th>Name</th>\n",
              "      <th>Sex</th>\n",
              "      <th>Age</th>\n",
              "      <th>SibSp</th>\n",
              "      <th>Parch</th>\n",
              "      <th>Ticket</th>\n",
              "      <th>Fare</th>\n",
              "      <th>Cabin</th>\n",
              "      <th>Embarked</th>\n",
              "    </tr>\n",
              "  </thead>\n",
              "  <tbody>\n",
              "    <tr>\n",
              "      <th>0</th>\n",
              "      <td>1</td>\n",
              "      <td>0</td>\n",
              "      <td>3</td>\n",
              "      <td>Braund, Mr. Owen Harris</td>\n",
              "      <td>male</td>\n",
              "      <td>22.0</td>\n",
              "      <td>1</td>\n",
              "      <td>0</td>\n",
              "      <td>A/5 21171</td>\n",
              "      <td>7.2500</td>\n",
              "      <td>NaN</td>\n",
              "      <td>S</td>\n",
              "    </tr>\n",
              "    <tr>\n",
              "      <th>1</th>\n",
              "      <td>2</td>\n",
              "      <td>1</td>\n",
              "      <td>1</td>\n",
              "      <td>Cumings, Mrs. John Bradley (Florence Briggs Th...</td>\n",
              "      <td>female</td>\n",
              "      <td>38.0</td>\n",
              "      <td>1</td>\n",
              "      <td>0</td>\n",
              "      <td>PC 17599</td>\n",
              "      <td>71.2833</td>\n",
              "      <td>C85</td>\n",
              "      <td>C</td>\n",
              "    </tr>\n",
              "    <tr>\n",
              "      <th>2</th>\n",
              "      <td>3</td>\n",
              "      <td>1</td>\n",
              "      <td>3</td>\n",
              "      <td>Heikkinen, Miss. Laina</td>\n",
              "      <td>female</td>\n",
              "      <td>26.0</td>\n",
              "      <td>0</td>\n",
              "      <td>0</td>\n",
              "      <td>STON/O2. 3101282</td>\n",
              "      <td>7.9250</td>\n",
              "      <td>NaN</td>\n",
              "      <td>S</td>\n",
              "    </tr>\n",
              "    <tr>\n",
              "      <th>3</th>\n",
              "      <td>4</td>\n",
              "      <td>1</td>\n",
              "      <td>1</td>\n",
              "      <td>Futrelle, Mrs. Jacques Heath (Lily May Peel)</td>\n",
              "      <td>female</td>\n",
              "      <td>35.0</td>\n",
              "      <td>1</td>\n",
              "      <td>0</td>\n",
              "      <td>113803</td>\n",
              "      <td>53.1000</td>\n",
              "      <td>C123</td>\n",
              "      <td>S</td>\n",
              "    </tr>\n",
              "    <tr>\n",
              "      <th>4</th>\n",
              "      <td>5</td>\n",
              "      <td>0</td>\n",
              "      <td>3</td>\n",
              "      <td>Allen, Mr. William Henry</td>\n",
              "      <td>male</td>\n",
              "      <td>35.0</td>\n",
              "      <td>0</td>\n",
              "      <td>0</td>\n",
              "      <td>373450</td>\n",
              "      <td>8.0500</td>\n",
              "      <td>NaN</td>\n",
              "      <td>S</td>\n",
              "    </tr>\n",
              "  </tbody>\n",
              "</table>\n",
              "</div>"
            ],
            "text/plain": [
              "   PassengerId  Survived  Pclass    ...        Fare Cabin  Embarked\n",
              "0            1         0       3    ...      7.2500   NaN         S\n",
              "1            2         1       1    ...     71.2833   C85         C\n",
              "2            3         1       3    ...      7.9250   NaN         S\n",
              "3            4         1       1    ...     53.1000  C123         S\n",
              "4            5         0       3    ...      8.0500   NaN         S\n",
              "\n",
              "[5 rows x 12 columns]"
            ]
          },
          "execution_count": 2,
          "metadata": {},
          "output_type": "execute_result"
        }
      ],
      "source": [
        "# Read CSV train data file into DataFrame\n",
        "train_df = pd.read_csv(\"../input/titanic/train.csv\")\n",
        "\n",
        "# Read CSV test data file into DataFrame\n",
        "test_df = pd.read_csv(\"../input/titanic/test.csv\")\n",
        "\n",
        "# preview train data\n",
        "train_df.head()"
      ]
    },
    {
      "cell_type": "code",
      "execution_count": null,
      "metadata": {
        "_cell_guid": "02697b3b-11e3-4f26-abfa-20965bec5ce3",
        "_uuid": "8a1e5d5e-a0f0-4886-bf77-22bd8bc2251f",
        "execution": {
          "iopub.execute_input": "2022-02-12T15:21:03.28852Z",
          "iopub.status.busy": "2022-02-12T15:21:03.288298Z",
          "iopub.status.idle": "2022-02-12T15:21:03.29268Z",
          "shell.execute_reply": "2022-02-12T15:21:03.291925Z",
          "shell.execute_reply.started": "2022-02-12T15:21:03.28848Z"
        },
        "jupyter": {
          "outputs_hidden": false
        },
        "id": "23pOBDfW5Yi2",
        "outputId": "eb040e15-25b5-4bed-bf68-f5c95b433404"
      },
      "outputs": [
        {
          "name": "stdout",
          "output_type": "stream",
          "text": [
            "The number of samples into the train data is 891.\n"
          ]
        }
      ],
      "source": [
        "print('The number of samples into the train data is {}.'.format(train_df.shape[0]))"
      ]
    },
    {
      "cell_type": "code",
      "execution_count": null,
      "metadata": {
        "_cell_guid": "94ce3354-612d-4551-a7c1-d3e10484d7bd",
        "_uuid": "c96c50a9-14b4-428c-979a-704d10a888e8",
        "execution": {
          "iopub.execute_input": "2022-02-12T15:21:03.294684Z",
          "iopub.status.busy": "2022-02-12T15:21:03.294419Z",
          "iopub.status.idle": "2022-02-12T15:21:03.332628Z",
          "shell.execute_reply": "2022-02-12T15:21:03.331752Z",
          "shell.execute_reply.started": "2022-02-12T15:21:03.294633Z"
        },
        "jupyter": {
          "outputs_hidden": false
        },
        "id": "Hhg-hWSA5Yi3",
        "outputId": "17dc3ee9-000d-4572-de9a-dbe62e52e3ab"
      },
      "outputs": [
        {
          "data": {
            "text/html": [
              "<div>\n",
              "<style scoped>\n",
              "    .dataframe tbody tr th:only-of-type {\n",
              "        vertical-align: middle;\n",
              "    }\n",
              "\n",
              "    .dataframe tbody tr th {\n",
              "        vertical-align: top;\n",
              "    }\n",
              "\n",
              "    .dataframe thead th {\n",
              "        text-align: right;\n",
              "    }\n",
              "</style>\n",
              "<table border=\"1\" class=\"dataframe\">\n",
              "  <thead>\n",
              "    <tr style=\"text-align: right;\">\n",
              "      <th></th>\n",
              "      <th>PassengerId</th>\n",
              "      <th>Pclass</th>\n",
              "      <th>Name</th>\n",
              "      <th>Sex</th>\n",
              "      <th>Age</th>\n",
              "      <th>SibSp</th>\n",
              "      <th>Parch</th>\n",
              "      <th>Ticket</th>\n",
              "      <th>Fare</th>\n",
              "      <th>Cabin</th>\n",
              "      <th>Embarked</th>\n",
              "    </tr>\n",
              "  </thead>\n",
              "  <tbody>\n",
              "    <tr>\n",
              "      <th>0</th>\n",
              "      <td>892</td>\n",
              "      <td>3</td>\n",
              "      <td>Kelly, Mr. James</td>\n",
              "      <td>male</td>\n",
              "      <td>34.5</td>\n",
              "      <td>0</td>\n",
              "      <td>0</td>\n",
              "      <td>330911</td>\n",
              "      <td>7.8292</td>\n",
              "      <td>NaN</td>\n",
              "      <td>Q</td>\n",
              "    </tr>\n",
              "    <tr>\n",
              "      <th>1</th>\n",
              "      <td>893</td>\n",
              "      <td>3</td>\n",
              "      <td>Wilkes, Mrs. James (Ellen Needs)</td>\n",
              "      <td>female</td>\n",
              "      <td>47.0</td>\n",
              "      <td>1</td>\n",
              "      <td>0</td>\n",
              "      <td>363272</td>\n",
              "      <td>7.0000</td>\n",
              "      <td>NaN</td>\n",
              "      <td>S</td>\n",
              "    </tr>\n",
              "    <tr>\n",
              "      <th>2</th>\n",
              "      <td>894</td>\n",
              "      <td>2</td>\n",
              "      <td>Myles, Mr. Thomas Francis</td>\n",
              "      <td>male</td>\n",
              "      <td>62.0</td>\n",
              "      <td>0</td>\n",
              "      <td>0</td>\n",
              "      <td>240276</td>\n",
              "      <td>9.6875</td>\n",
              "      <td>NaN</td>\n",
              "      <td>Q</td>\n",
              "    </tr>\n",
              "    <tr>\n",
              "      <th>3</th>\n",
              "      <td>895</td>\n",
              "      <td>3</td>\n",
              "      <td>Wirz, Mr. Albert</td>\n",
              "      <td>male</td>\n",
              "      <td>27.0</td>\n",
              "      <td>0</td>\n",
              "      <td>0</td>\n",
              "      <td>315154</td>\n",
              "      <td>8.6625</td>\n",
              "      <td>NaN</td>\n",
              "      <td>S</td>\n",
              "    </tr>\n",
              "    <tr>\n",
              "      <th>4</th>\n",
              "      <td>896</td>\n",
              "      <td>3</td>\n",
              "      <td>Hirvonen, Mrs. Alexander (Helga E Lindqvist)</td>\n",
              "      <td>female</td>\n",
              "      <td>22.0</td>\n",
              "      <td>1</td>\n",
              "      <td>1</td>\n",
              "      <td>3101298</td>\n",
              "      <td>12.2875</td>\n",
              "      <td>NaN</td>\n",
              "      <td>S</td>\n",
              "    </tr>\n",
              "  </tbody>\n",
              "</table>\n",
              "</div>"
            ],
            "text/plain": [
              "   PassengerId  Pclass   ...    Cabin Embarked\n",
              "0          892       3   ...      NaN        Q\n",
              "1          893       3   ...      NaN        S\n",
              "2          894       2   ...      NaN        Q\n",
              "3          895       3   ...      NaN        S\n",
              "4          896       3   ...      NaN        S\n",
              "\n",
              "[5 rows x 11 columns]"
            ]
          },
          "execution_count": 4,
          "metadata": {},
          "output_type": "execute_result"
        }
      ],
      "source": [
        "# preview test data\n",
        "test_df.head()"
      ]
    },
    {
      "cell_type": "code",
      "execution_count": null,
      "metadata": {
        "_cell_guid": "3a8978e9-f8cb-4681-826f-e7900167fd5a",
        "_uuid": "56591436-c212-42d8-acdb-ab686c1ae264",
        "execution": {
          "iopub.execute_input": "2022-02-12T15:21:03.33409Z",
          "iopub.status.busy": "2022-02-12T15:21:03.333833Z",
          "iopub.status.idle": "2022-02-12T15:21:03.338744Z",
          "shell.execute_reply": "2022-02-12T15:21:03.338023Z",
          "shell.execute_reply.started": "2022-02-12T15:21:03.334042Z"
        },
        "jupyter": {
          "outputs_hidden": false
        },
        "id": "AgwLwHkF5Yi3",
        "outputId": "3dabb5da-c81e-44a8-f775-d42485b9d1c8"
      },
      "outputs": [
        {
          "name": "stdout",
          "output_type": "stream",
          "text": [
            "The number of samples into the test data is 418.\n"
          ]
        }
      ],
      "source": [
        "print('The number of samples into the test data is {}.'.format(test_df.shape[0]))"
      ]
    },
    {
      "cell_type": "markdown",
      "metadata": {
        "_cell_guid": "291e87b3-d68c-410e-9ff2-f416d77b2e05",
        "_uuid": "0611cfe7-858f-4772-b175-081b582357dd",
        "id": "DZIEwjyO5Yi3"
      },
      "source": [
        "<font color=red>  Note: there is no target variable into test data (i.e. \"Survival\" column is missing), so the goal is to predict this target using different machine learning algorithms such as logistic regression. </font>"
      ]
    },
    {
      "cell_type": "markdown",
      "metadata": {
        "_cell_guid": "1f69f1f3-b52f-4a66-9a58-7c0f1ae8b500",
        "_uuid": "aef185ec-615d-4b2a-a80d-29934d8a1964",
        "id": "GSRT3x8U5Yi3"
      },
      "source": [
        "<a id=\"t2.\"></a>\n",
        "# 2. Data Quality & Missing Value Assessment"
      ]
    },
    {
      "cell_type": "code",
      "execution_count": null,
      "metadata": {
        "_cell_guid": "05347729-08e4-4d47-b780-f163fcfc1f55",
        "_uuid": "b8e82f9d-d585-4ace-ba74-6d9078a56d0e",
        "execution": {
          "iopub.execute_input": "2022-02-12T15:21:03.340379Z",
          "iopub.status.busy": "2022-02-12T15:21:03.340062Z",
          "iopub.status.idle": "2022-02-12T15:21:03.35452Z",
          "shell.execute_reply": "2022-02-12T15:21:03.353897Z",
          "shell.execute_reply.started": "2022-02-12T15:21:03.340329Z"
        },
        "jupyter": {
          "outputs_hidden": false
        },
        "id": "PncUt_tq5Yi4",
        "outputId": "9c1cfd83-a54d-4bf7-8edc-cc4bb37da56c"
      },
      "outputs": [
        {
          "data": {
            "text/plain": [
              "PassengerId      0\n",
              "Survived         0\n",
              "Pclass           0\n",
              "Name             0\n",
              "Sex              0\n",
              "Age            177\n",
              "SibSp            0\n",
              "Parch            0\n",
              "Ticket           0\n",
              "Fare             0\n",
              "Cabin          687\n",
              "Embarked         2\n",
              "dtype: int64"
            ]
          },
          "execution_count": 6,
          "metadata": {},
          "output_type": "execute_result"
        }
      ],
      "source": [
        "# check missing values in train data\n",
        "train_df.isnull().sum()"
      ]
    },
    {
      "cell_type": "markdown",
      "metadata": {
        "_cell_guid": "f82ec46b-cb91-4e84-afef-e458b0108d3b",
        "_uuid": "7773c762-6ef7-4a3a-9489-630c660496e8",
        "id": "EffXw_lT5Yi4"
      },
      "source": [
        "<a id=\"t2.1.\"></a>\n",
        "## 2.1.    Age - Missing Values"
      ]
    },
    {
      "cell_type": "code",
      "execution_count": null,
      "metadata": {
        "_cell_guid": "6b7cc6a5-97e5-47c8-86ea-3da9b5b4153c",
        "_uuid": "430c1cfb-9352-4ab3-af25-e0e0025619cc",
        "execution": {
          "iopub.execute_input": "2022-02-12T15:21:03.355885Z",
          "iopub.status.busy": "2022-02-12T15:21:03.355439Z",
          "iopub.status.idle": "2022-02-12T15:21:03.365503Z",
          "shell.execute_reply": "2022-02-12T15:21:03.364349Z",
          "shell.execute_reply.started": "2022-02-12T15:21:03.355766Z"
        },
        "jupyter": {
          "outputs_hidden": false
        },
        "id": "wwvt1STJ5Yi4",
        "outputId": "e1902e24-3af0-46fd-cd7c-e1113ed23d65"
      },
      "outputs": [
        {
          "name": "stdout",
          "output_type": "stream",
          "text": [
            "Percent of missing \"Age\" records is 19.87%\n"
          ]
        }
      ],
      "source": [
        "# percent of missing \"Age\" \n",
        "print('Percent of missing \"Age\" records is %.2f%%' %((train_df['Age'].isnull().sum()/train_df.shape[0])*100))"
      ]
    },
    {
      "cell_type": "markdown",
      "metadata": {
        "_cell_guid": "27e5fcf4-0c3e-463a-bcd8-5a17c9ac8aed",
        "_uuid": "a0c32a34-89bc-4ac1-9134-47b2e7eca579",
        "id": "RkMnMKRc5Yi4"
      },
      "source": [
        "~20% of entries for passenger age are missing. Let's see what the 'Age' variable looks like in general."
      ]
    },
    {
      "cell_type": "markdown",
      "metadata": {
        "_cell_guid": "c8b5c3ae-721e-407b-9424-6e37db3cd132",
        "_uuid": "051d522e-7842-4bcf-9aa1-a59d09479392",
        "id": "5Df_r9Vb5Yi5"
      },
      "source": [
        "Since \"Age\" is (right) skewed, using the mean might give us biased results by filling in ages that are older than desired. To deal with this, we'll use the median to impute the missing values."
      ]
    },
    {
      "cell_type": "code",
      "execution_count": null,
      "metadata": {
        "_cell_guid": "05995b3a-89c3-4e53-9f58-db9de3547541",
        "_uuid": "eee70435-f321-4fef-9daf-c25192c544a8",
        "execution": {
          "iopub.execute_input": "2022-02-12T15:21:03.367823Z",
          "iopub.status.busy": "2022-02-12T15:21:03.367219Z",
          "iopub.status.idle": "2022-02-12T15:21:03.375608Z",
          "shell.execute_reply": "2022-02-12T15:21:03.374638Z",
          "shell.execute_reply.started": "2022-02-12T15:21:03.367766Z"
        },
        "jupyter": {
          "outputs_hidden": false
        },
        "id": "4I11FAHx5Yi5",
        "outputId": "a31472a0-d0ab-4b4f-9dcd-a271dbe2cd63"
      },
      "outputs": [
        {
          "name": "stdout",
          "output_type": "stream",
          "text": [
            "The mean of \"Age\" is 29.70\n",
            "The median of \"Age\" is 28.00\n"
          ]
        }
      ],
      "source": [
        "# mean age\n",
        "print('The mean of \"Age\" is %.2f' %(train_df[\"Age\"].mean(skipna=True)))\n",
        "# median age\n",
        "print('The median of \"Age\" is %.2f' %(train_df[\"Age\"].median(skipna=True)))"
      ]
    },
    {
      "cell_type": "markdown",
      "metadata": {
        "_cell_guid": "2a631bca-5409-4bf8-834e-a202fcf39d7d",
        "_uuid": "8c76bc8f-9593-478e-97fa-78333c08e170",
        "id": "nxzPlsx15Yi5"
      },
      "source": [
        "Any better ideas for \"Age\" imputation?"
      ]
    },
    {
      "cell_type": "markdown",
      "metadata": {
        "_cell_guid": "99befbb9-ecbe-4cc3-b0e9-d9133d9b77ad",
        "_uuid": "b810b126-2608-45a3-bdda-65d0803caff3",
        "id": "DF1IFIpo5Yi5"
      },
      "source": [
        "<a id=\"t2.2.\"></a>\n",
        "## 2.2. Cabin - Missing Values"
      ]
    },
    {
      "cell_type": "code",
      "execution_count": null,
      "metadata": {
        "_cell_guid": "2358f54c-99ae-4bf6-9c8d-1c92b2a2ef1f",
        "_uuid": "6d0eeb11-1fe0-4515-af13-79abaaac6952",
        "execution": {
          "iopub.execute_input": "2022-02-12T15:21:03.377383Z",
          "iopub.status.busy": "2022-02-12T15:21:03.377094Z",
          "iopub.status.idle": "2022-02-12T15:21:03.387859Z",
          "shell.execute_reply": "2022-02-12T15:21:03.387003Z",
          "shell.execute_reply.started": "2022-02-12T15:21:03.37732Z"
        },
        "jupyter": {
          "outputs_hidden": false
        },
        "id": "0OhwmaHI5Yi5",
        "outputId": "ede13e87-aa4d-43ee-fb99-5e62438b3af7"
      },
      "outputs": [
        {
          "name": "stdout",
          "output_type": "stream",
          "text": [
            "Percent of missing \"Cabin\" records is 77.10%\n"
          ]
        }
      ],
      "source": [
        "# percent of missing \"Cabin\" \n",
        "print('Percent of missing \"Cabin\" records is %.2f%%' %((train_df['Cabin'].isnull().sum()/train_df.shape[0])*100))"
      ]
    },
    {
      "cell_type": "markdown",
      "metadata": {
        "_cell_guid": "124fe43c-9fdb-4f0b-a373-13f601cacfa6",
        "_uuid": "cbd66844-fdf7-4082-a1ff-26ff1025bb53",
        "id": "DqN5cjJy5Yi6"
      },
      "source": [
        "77% of records are missing, which means that imputing information and using this variable for prediction is probably not wise.  We'll ignore this variable in our model."
      ]
    },
    {
      "cell_type": "markdown",
      "metadata": {
        "_cell_guid": "58ecc9a1-3088-4ccb-aa9b-4fad945c916b",
        "_uuid": "bcba75c6-e8c8-47f1-ba80-07145e6906f2",
        "id": "_VB2ztia5Yi6"
      },
      "source": [
        "<a id=\"t2.3.\"></a>\n",
        "## 2.3. Embarked - Missing Values"
      ]
    },
    {
      "cell_type": "code",
      "execution_count": null,
      "metadata": {
        "_cell_guid": "51a157c1-d2fe-40f4-af44-5587d7825a80",
        "_uuid": "1553abae-3004-40c0-8fad-6972aca2135d",
        "execution": {
          "iopub.execute_input": "2022-02-12T15:21:03.389485Z",
          "iopub.status.busy": "2022-02-12T15:21:03.389192Z",
          "iopub.status.idle": "2022-02-12T15:21:03.400299Z",
          "shell.execute_reply": "2022-02-12T15:21:03.399299Z",
          "shell.execute_reply.started": "2022-02-12T15:21:03.389433Z"
        },
        "jupyter": {
          "outputs_hidden": false
        },
        "id": "ehRAgRMr5Yi6",
        "outputId": "b8694868-d9ed-4690-8114-9405aab3b35d"
      },
      "outputs": [
        {
          "name": "stdout",
          "output_type": "stream",
          "text": [
            "Percent of missing \"Embarked\" records is 0.22%\n"
          ]
        }
      ],
      "source": [
        "# percent of missing \"Embarked\" \n",
        "print('Percent of missing \"Embarked\" records is %.2f%%' %((train_df['Embarked'].isnull().sum()/train_df.shape[0])*100))"
      ]
    },
    {
      "cell_type": "markdown",
      "metadata": {
        "_cell_guid": "76b6285f-a0c9-4ed5-9d6f-b08cc7209ece",
        "_uuid": "e7aa726c-1971-42e1-b039-b33a3adb8866",
        "id": "gBV2cjIs5Yi6"
      },
      "source": [
        "There are only 2 (0.22%) missing values for \"Embarked\", so we can just impute with the port where most people boarded."
      ]
    },
    {
      "cell_type": "code",
      "execution_count": null,
      "metadata": {
        "_cell_guid": "22f9f452-e1aa-475f-993c-ffdbd034156b",
        "_uuid": "f9958485-578e-4795-ba48-70a0258f90a4",
        "execution": {
          "iopub.execute_input": "2022-02-12T15:21:03.47692Z",
          "iopub.status.busy": "2022-02-12T15:21:03.476353Z",
          "iopub.status.idle": "2022-02-12T15:21:03.63652Z",
          "shell.execute_reply": "2022-02-12T15:21:03.635138Z",
          "shell.execute_reply.started": "2022-02-12T15:21:03.47686Z"
        },
        "jupyter": {
          "outputs_hidden": false
        },
        "id": "BZU8_8sH5Yi7",
        "outputId": "481f9d8e-21e6-4aee-c49f-73a4f1350bd0"
      },
      "outputs": [
        {
          "name": "stdout",
          "output_type": "stream",
          "text": [
            "Boarded passengers grouped by port of embarkation (C = Cherbourg, Q = Queenstown, S = Southampton):\n",
            "S    644\n",
            "C    168\n",
            "Q     77\n",
            "Name: Embarked, dtype: int64\n"
          ]
        },
        {
          "data": {
            "image/png": "[encoded data removed]",
            "text/plain": [
              "<Figure size 432x288 with 1 Axes>"
            ]
          },
          "metadata": {
            "needs_background": "light"
          },
          "output_type": "display_data"
        }
      ],
      "source": [
        "print('Boarded passengers grouped by port of embarkation (C = Cherbourg, Q = Queenstown, S = Southampton):')\n",
        "print(train_df['Embarked'].value_counts())\n",
        "sns.countplot(x='Embarked', data=train_df, palette='Set2')\n",
        "plt.show()"
      ]
    },
    {
      "cell_type": "code",
      "execution_count": null,
      "metadata": {
        "_cell_guid": "c546b1f7-9af0-42b9-a32f-592d149eefd8",
        "_uuid": "72b1735e-54f0-4f6c-83cc-7e10f3ed7fab",
        "execution": {
          "iopub.execute_input": "2022-02-12T15:21:03.638397Z",
          "iopub.status.busy": "2022-02-12T15:21:03.638038Z",
          "iopub.status.idle": "2022-02-12T15:21:03.649482Z",
          "shell.execute_reply": "2022-02-12T15:21:03.647189Z",
          "shell.execute_reply.started": "2022-02-12T15:21:03.63834Z"
        },
        "jupyter": {
          "outputs_hidden": false
        },
        "id": "sdi1p2OH5Yi7",
        "outputId": "a109a04a-ba48-427a-b709-9fb9d5e15e79"
      },
      "outputs": [
        {
          "name": "stdout",
          "output_type": "stream",
          "text": [
            "The most common boarding port of embarkation is S.\n"
          ]
        }
      ],
      "source": [
        "print('The most common boarding port of embarkation is %s.' %train_df['Embarked'].value_counts().idxmax())"
      ]
    },
    {
      "cell_type": "markdown",
      "metadata": {
        "_cell_guid": "607a3e71-53c1-44e1-82df-899e9652da96",
        "_uuid": "04b5797e-66bb-411f-a261-29ff1c19e6fe",
        "id": "OVTQRm3p5Yi7"
      },
      "source": [
        "By far the most passengers boarded in Southhampton, so we'll impute those 2 NaN's w/ \"S\"."
      ]
    },
    {
      "cell_type": "markdown",
      "metadata": {
        "_cell_guid": "13710396-df9e-4ebc-bb9d-602a8873442a",
        "_uuid": "1f175b68-f8d8-4802-bb89-2fd1640d3829",
        "id": "O7k_gfXV5Yi7"
      },
      "source": [
        "<a id=\"t2.4.\"></a>\n",
        "## 2.4. Final Adjustments to Data (Train & Test)"
      ]
    },
    {
      "cell_type": "markdown",
      "metadata": {
        "_cell_guid": "eeeb1033-12aa-4d59-8827-91cce7516d8a",
        "_uuid": "f1b78116-8102-4c62-8901-c334856a94fe",
        "id": "NXyB6uow5Yi7"
      },
      "source": [
        "Based on my assessment of the missing values in the dataset, I'll make the following changes to the data:\n",
        "* If \"Age\" is missing for a given row, I'll impute with 28 (median age).\n",
        "* If \"Embarked\" is missing for a riven row, I'll impute with \"S\" (the most common boarding port).\n",
        "* I'll ignore \"Cabin\" as a variable. There are too many missing values for imputation. Based on the information available, it appears that this value is associated with the passenger's class and fare paid."
      ]
    },
    {
      "cell_type": "code",
      "execution_count": null,
      "metadata": {
        "_cell_guid": "46f3418c-d003-449f-8297-d0d47c5591f1",
        "_uuid": "d21412e7-244c-4cec-9d12-0b20b767abee",
        "execution": {
          "iopub.execute_input": "2022-02-12T15:21:03.652302Z",
          "iopub.status.busy": "2022-02-12T15:21:03.651545Z",
          "iopub.status.idle": "2022-02-12T15:21:03.671437Z",
          "shell.execute_reply": "2022-02-12T15:21:03.66989Z",
          "shell.execute_reply.started": "2022-02-12T15:21:03.65214Z"
        },
        "jupyter": {
          "outputs_hidden": false
        },
        "id": "YOj-K4dn5Yi8"
      },
      "outputs": [],
      "source": [
        "train_data = train_df.copy()\n",
        "train_data[\"Age\"].fillna(train_df[\"Age\"].median(skipna=True), inplace=True)\n",
        "train_data[\"Embarked\"].fillna(train_df['Embarked'].value_counts().idxmax(), inplace=True)\n",
        "train_data.drop('Cabin', axis=1, inplace=True)"
      ]
    },
    {
      "cell_type": "code",
      "execution_count": null,
      "metadata": {
        "_cell_guid": "bed75703-f89e-44a6-97b4-6ef0c96dab49",
        "_uuid": "53c76d90-4175-425a-a3fd-cacb050108ec",
        "execution": {
          "iopub.execute_input": "2022-02-12T15:21:03.673754Z",
          "iopub.status.busy": "2022-02-12T15:21:03.673226Z",
          "iopub.status.idle": "2022-02-12T15:21:03.716809Z",
          "shell.execute_reply": "2022-02-12T15:21:03.71606Z",
          "shell.execute_reply.started": "2022-02-12T15:21:03.673698Z"
        },
        "jupyter": {
          "outputs_hidden": false
        },
        "id": "wrvcu1ls5Yi8",
        "outputId": "7e8f478e-ffe4-4433-8f1f-994214079eaa"
      },
      "outputs": [
        {
          "data": {
            "text/html": [
              "<div>\n",
              "<style scoped>\n",
              "    .dataframe tbody tr th:only-of-type {\n",
              "        vertical-align: middle;\n",
              "    }\n",
              "\n",
              "    .dataframe tbody tr th {\n",
              "        vertical-align: top;\n",
              "    }\n",
              "\n",
              "    .dataframe thead th {\n",
              "        text-align: right;\n",
              "    }\n",
              "</style>\n",
              "<table border=\"1\" class=\"dataframe\">\n",
              "  <thead>\n",
              "    <tr style=\"text-align: right;\">\n",
              "      <th></th>\n",
              "      <th>PassengerId</th>\n",
              "      <th>Survived</th>\n",
              "      <th>Pclass</th>\n",
              "      <th>Name</th>\n",
              "      <th>Sex</th>\n",
              "      <th>Age</th>\n",
              "      <th>SibSp</th>\n",
              "      <th>Parch</th>\n",
              "      <th>Ticket</th>\n",
              "      <th>Fare</th>\n",
              "      <th>Embarked</th>\n",
              "    </tr>\n",
              "  </thead>\n",
              "  <tbody>\n",
              "    <tr>\n",
              "      <th>0</th>\n",
              "      <td>1</td>\n",
              "      <td>0</td>\n",
              "      <td>3</td>\n",
              "      <td>Braund, Mr. Owen Harris</td>\n",
              "      <td>male</td>\n",
              "      <td>22.0</td>\n",
              "      <td>1</td>\n",
              "      <td>0</td>\n",
              "      <td>A/5 21171</td>\n",
              "      <td>7.2500</td>\n",
              "      <td>S</td>\n",
              "    </tr>\n",
              "    <tr>\n",
              "      <th>1</th>\n",
              "      <td>2</td>\n",
              "      <td>1</td>\n",
              "      <td>1</td>\n",
              "      <td>Cumings, Mrs. John Bradley (Florence Briggs Th...</td>\n",
              "      <td>female</td>\n",
              "      <td>38.0</td>\n",
              "      <td>1</td>\n",
              "      <td>0</td>\n",
              "      <td>PC 17599</td>\n",
              "      <td>71.2833</td>\n",
              "      <td>C</td>\n",
              "    </tr>\n",
              "    <tr>\n",
              "      <th>2</th>\n",
              "      <td>3</td>\n",
              "      <td>1</td>\n",
              "      <td>3</td>\n",
              "      <td>Heikkinen, Miss. Laina</td>\n",
              "      <td>female</td>\n",
              "      <td>26.0</td>\n",
              "      <td>0</td>\n",
              "      <td>0</td>\n",
              "      <td>STON/O2. 3101282</td>\n",
              "      <td>7.9250</td>\n",
              "      <td>S</td>\n",
              "    </tr>\n",
              "    <tr>\n",
              "      <th>3</th>\n",
              "      <td>4</td>\n",
              "      <td>1</td>\n",
              "      <td>1</td>\n",
              "      <td>Futrelle, Mrs. Jacques Heath (Lily May Peel)</td>\n",
              "      <td>female</td>\n",
              "      <td>35.0</td>\n",
              "      <td>1</td>\n",
              "      <td>0</td>\n",
              "      <td>113803</td>\n",
              "      <td>53.1000</td>\n",
              "      <td>S</td>\n",
              "    </tr>\n",
              "    <tr>\n",
              "      <th>4</th>\n",
              "      <td>5</td>\n",
              "      <td>0</td>\n",
              "      <td>3</td>\n",
              "      <td>Allen, Mr. William Henry</td>\n",
              "      <td>male</td>\n",
              "      <td>35.0</td>\n",
              "      <td>0</td>\n",
              "      <td>0</td>\n",
              "      <td>373450</td>\n",
              "      <td>8.0500</td>\n",
              "      <td>S</td>\n",
              "    </tr>\n",
              "  </tbody>\n",
              "</table>\n",
              "</div>"
            ],
            "text/plain": [
              "   PassengerId  Survived  Pclass    ...               Ticket     Fare  Embarked\n",
              "0            1         0       3    ...            A/5 21171   7.2500         S\n",
              "1            2         1       1    ...             PC 17599  71.2833         C\n",
              "2            3         1       3    ...     STON/O2. 3101282   7.9250         S\n",
              "3            4         1       1    ...               113803  53.1000         S\n",
              "4            5         0       3    ...               373450   8.0500         S\n",
              "\n",
              "[5 rows x 11 columns]"
            ]
          },
          "execution_count": 14,
          "metadata": {},
          "output_type": "execute_result"
        }
      ],
      "source": [
        "# check missing values in adjusted train data\n",
        "train_data.isnull().sum()\n",
        "train_data.head()"
      ]
    },
    {
      "cell_type": "code",
      "execution_count": null,
      "metadata": {
        "_cell_guid": "e613b556-a5b5-4959-8397-7d7ff93066e3",
        "_uuid": "1deda016-c80f-47f6-8e9c-5518e5019acb",
        "execution": {
          "iopub.execute_input": "2022-02-12T15:21:03.718104Z",
          "iopub.status.busy": "2022-02-12T15:21:03.717761Z",
          "iopub.status.idle": "2022-02-12T15:21:03.748077Z",
          "shell.execute_reply": "2022-02-12T15:21:03.747192Z",
          "shell.execute_reply.started": "2022-02-12T15:21:03.718066Z"
        },
        "jupyter": {
          "outputs_hidden": false
        },
        "id": "S0rKafZI5Yi8",
        "outputId": "fcf3dc6a-1165-428e-e043-06b186d7841a"
      },
      "outputs": [
        {
          "data": {
            "text/html": [
              "<div>\n",
              "<style scoped>\n",
              "    .dataframe tbody tr th:only-of-type {\n",
              "        vertical-align: middle;\n",
              "    }\n",
              "\n",
              "    .dataframe tbody tr th {\n",
              "        vertical-align: top;\n",
              "    }\n",
              "\n",
              "    .dataframe thead th {\n",
              "        text-align: right;\n",
              "    }\n",
              "</style>\n",
              "<table border=\"1\" class=\"dataframe\">\n",
              "  <thead>\n",
              "    <tr style=\"text-align: right;\">\n",
              "      <th></th>\n",
              "      <th>PassengerId</th>\n",
              "      <th>Survived</th>\n",
              "      <th>Pclass</th>\n",
              "      <th>Name</th>\n",
              "      <th>Sex</th>\n",
              "      <th>Age</th>\n",
              "      <th>SibSp</th>\n",
              "      <th>Parch</th>\n",
              "      <th>Ticket</th>\n",
              "      <th>Fare</th>\n",
              "      <th>Embarked</th>\n",
              "    </tr>\n",
              "  </thead>\n",
              "  <tbody>\n",
              "    <tr>\n",
              "      <th>0</th>\n",
              "      <td>1</td>\n",
              "      <td>0</td>\n",
              "      <td>3</td>\n",
              "      <td>Braund, Mr. Owen Harris</td>\n",
              "      <td>male</td>\n",
              "      <td>22.0</td>\n",
              "      <td>1</td>\n",
              "      <td>0</td>\n",
              "      <td>A/5 21171</td>\n",
              "      <td>7.2500</td>\n",
              "      <td>S</td>\n",
              "    </tr>\n",
              "    <tr>\n",
              "      <th>1</th>\n",
              "      <td>2</td>\n",
              "      <td>1</td>\n",
              "      <td>1</td>\n",
              "      <td>Cumings, Mrs. John Bradley (Florence Briggs Th...</td>\n",
              "      <td>female</td>\n",
              "      <td>38.0</td>\n",
              "      <td>1</td>\n",
              "      <td>0</td>\n",
              "      <td>PC 17599</td>\n",
              "      <td>71.2833</td>\n",
              "      <td>C</td>\n",
              "    </tr>\n",
              "    <tr>\n",
              "      <th>2</th>\n",
              "      <td>3</td>\n",
              "      <td>1</td>\n",
              "      <td>3</td>\n",
              "      <td>Heikkinen, Miss. Laina</td>\n",
              "      <td>female</td>\n",
              "      <td>26.0</td>\n",
              "      <td>0</td>\n",
              "      <td>0</td>\n",
              "      <td>STON/O2. 3101282</td>\n",
              "      <td>7.9250</td>\n",
              "      <td>S</td>\n",
              "    </tr>\n",
              "    <tr>\n",
              "      <th>3</th>\n",
              "      <td>4</td>\n",
              "      <td>1</td>\n",
              "      <td>1</td>\n",
              "      <td>Futrelle, Mrs. Jacques Heath (Lily May Peel)</td>\n",
              "      <td>female</td>\n",
              "      <td>35.0</td>\n",
              "      <td>1</td>\n",
              "      <td>0</td>\n",
              "      <td>113803</td>\n",
              "      <td>53.1000</td>\n",
              "      <td>S</td>\n",
              "    </tr>\n",
              "    <tr>\n",
              "      <th>4</th>\n",
              "      <td>5</td>\n",
              "      <td>0</td>\n",
              "      <td>3</td>\n",
              "      <td>Allen, Mr. William Henry</td>\n",
              "      <td>male</td>\n",
              "      <td>35.0</td>\n",
              "      <td>0</td>\n",
              "      <td>0</td>\n",
              "      <td>373450</td>\n",
              "      <td>8.0500</td>\n",
              "      <td>S</td>\n",
              "    </tr>\n",
              "  </tbody>\n",
              "</table>\n",
              "</div>"
            ],
            "text/plain": [
              "   PassengerId  Survived  Pclass    ...               Ticket     Fare  Embarked\n",
              "0            1         0       3    ...            A/5 21171   7.2500         S\n",
              "1            2         1       1    ...             PC 17599  71.2833         C\n",
              "2            3         1       3    ...     STON/O2. 3101282   7.9250         S\n",
              "3            4         1       1    ...               113803  53.1000         S\n",
              "4            5         0       3    ...               373450   8.0500         S\n",
              "\n",
              "[5 rows x 11 columns]"
            ]
          },
          "execution_count": 15,
          "metadata": {},
          "output_type": "execute_result"
        }
      ],
      "source": [
        "# preview adjusted train data\n",
        "train_data.head()"
      ]
    },
    {
      "cell_type": "code",
      "execution_count": null,
      "metadata": {
        "_cell_guid": "f557ad47-5d94-452b-be30-608faa78fddc",
        "_uuid": "3b6cf134-8e0e-48bc-9c33-5909beb4bdb3",
        "execution": {
          "iopub.execute_input": "2022-02-12T15:21:03.74966Z",
          "iopub.status.busy": "2022-02-12T15:21:03.74923Z",
          "iopub.status.idle": "2022-02-12T15:21:04.210824Z",
          "shell.execute_reply": "2022-02-12T15:21:04.209714Z",
          "shell.execute_reply.started": "2022-02-12T15:21:03.749498Z"
        },
        "jupyter": {
          "outputs_hidden": false
        },
        "id": "5rb21Ci-5Yi8",
        "outputId": "ab43e0a5-8455-49c5-eabc-9b7619fc84c3"
      },
      "outputs": [
        {
          "data": {
            "image/png": "[encoded data removed]",
            "text/plain": [
              "<Figure size 1080x576 with 1 Axes>"
            ]
          },
          "metadata": {
            "needs_background": "light"
          },
          "output_type": "display_data"
        }
      ],
      "source": [
        "plt.figure(figsize=(15,8))\n",
        "ax = train_df[\"Age\"].hist(bins=15, density=True, stacked=True, color='teal', alpha=0.6)\n",
        "train_df[\"Age\"].plot(kind='density', color='teal')\n",
        "ax = train_data[\"Age\"].hist(bins=15, density=True, stacked=True, color='orange', alpha=0.5)\n",
        "train_data[\"Age\"].plot(kind='density', color='orange')\n",
        "ax.legend(['Raw Age', 'Adjusted Age'])\n",
        "ax.set(xlabel='Age')\n",
        "plt.xlim(-10,85)\n",
        "plt.show()"
      ]
    },
    {
      "cell_type": "markdown",
      "metadata": {
        "_cell_guid": "ca395b6c-f91d-49a4-9814-c894449407f2",
        "_uuid": "6f4ec4e6-a819-4584-9a8c-3b584613f424",
        "id": "zQu6Ge6b5Yi8"
      },
      "source": [
        "<a id=\"t2.4.1.\"></a>\n",
        "## 2.4.1. Additional Variables"
      ]
    },
    {
      "cell_type": "markdown",
      "metadata": {
        "_cell_guid": "7ca30876-e62d-4493-ba46-6588111702f1",
        "_uuid": "bf9ddddd-e929-4b15-a800-ea9bb089674d",
        "id": "CUUQ3trt5Yi8"
      },
      "source": [
        "According to the Kaggle data dictionary, both SibSp and Parch relate to traveling with family.  For simplicity's sake (and to account for possible multicollinearity), I'll combine the effect of these variables into one categorical predictor: whether or not that individual was traveling alone."
      ]
    },
    {
      "cell_type": "code",
      "execution_count": null,
      "metadata": {
        "_cell_guid": "402da594-c39d-448d-a026-d6c44fc5068e",
        "_uuid": "34e78e90-b023-43c4-87e5-2b01aee0a19e",
        "execution": {
          "iopub.execute_input": "2022-02-12T15:21:04.213291Z",
          "iopub.status.busy": "2022-02-12T15:21:04.212814Z",
          "iopub.status.idle": "2022-02-12T15:21:04.247716Z",
          "shell.execute_reply": "2022-02-12T15:21:04.246838Z",
          "shell.execute_reply.started": "2022-02-12T15:21:04.213082Z"
        },
        "jupyter": {
          "outputs_hidden": false
        },
        "id": "swqMXNwu5Yi9",
        "outputId": "d216586e-d78e-4868-d393-e32e99d46eb5"
      },
      "outputs": [
        {
          "data": {
            "text/html": [
              "<div>\n",
              "<style scoped>\n",
              "    .dataframe tbody tr th:only-of-type {\n",
              "        vertical-align: middle;\n",
              "    }\n",
              "\n",
              "    .dataframe tbody tr th {\n",
              "        vertical-align: top;\n",
              "    }\n",
              "\n",
              "    .dataframe thead th {\n",
              "        text-align: right;\n",
              "    }\n",
              "</style>\n",
              "<table border=\"1\" class=\"dataframe\">\n",
              "  <thead>\n",
              "    <tr style=\"text-align: right;\">\n",
              "      <th></th>\n",
              "      <th>PassengerId</th>\n",
              "      <th>Survived</th>\n",
              "      <th>Pclass</th>\n",
              "      <th>Name</th>\n",
              "      <th>Sex</th>\n",
              "      <th>Age</th>\n",
              "      <th>Ticket</th>\n",
              "      <th>Fare</th>\n",
              "      <th>Embarked</th>\n",
              "      <th>TravelAlone</th>\n",
              "    </tr>\n",
              "  </thead>\n",
              "  <tbody>\n",
              "    <tr>\n",
              "      <th>0</th>\n",
              "      <td>1</td>\n",
              "      <td>0</td>\n",
              "      <td>3</td>\n",
              "      <td>Braund, Mr. Owen Harris</td>\n",
              "      <td>male</td>\n",
              "      <td>22.0</td>\n",
              "      <td>A/5 21171</td>\n",
              "      <td>7.2500</td>\n",
              "      <td>S</td>\n",
              "      <td>0</td>\n",
              "    </tr>\n",
              "    <tr>\n",
              "      <th>1</th>\n",
              "      <td>2</td>\n",
              "      <td>1</td>\n",
              "      <td>1</td>\n",
              "      <td>Cumings, Mrs. John Bradley (Florence Briggs Th...</td>\n",
              "      <td>female</td>\n",
              "      <td>38.0</td>\n",
              "      <td>PC 17599</td>\n",
              "      <td>71.2833</td>\n",
              "      <td>C</td>\n",
              "      <td>0</td>\n",
              "    </tr>\n",
              "    <tr>\n",
              "      <th>2</th>\n",
              "      <td>3</td>\n",
              "      <td>1</td>\n",
              "      <td>3</td>\n",
              "      <td>Heikkinen, Miss. Laina</td>\n",
              "      <td>female</td>\n",
              "      <td>26.0</td>\n",
              "      <td>STON/O2. 3101282</td>\n",
              "      <td>7.9250</td>\n",
              "      <td>S</td>\n",
              "      <td>1</td>\n",
              "    </tr>\n",
              "    <tr>\n",
              "      <th>3</th>\n",
              "      <td>4</td>\n",
              "      <td>1</td>\n",
              "      <td>1</td>\n",
              "      <td>Futrelle, Mrs. Jacques Heath (Lily May Peel)</td>\n",
              "      <td>female</td>\n",
              "      <td>35.0</td>\n",
              "      <td>113803</td>\n",
              "      <td>53.1000</td>\n",
              "      <td>S</td>\n",
              "      <td>0</td>\n",
              "    </tr>\n",
              "    <tr>\n",
              "      <th>4</th>\n",
              "      <td>5</td>\n",
              "      <td>0</td>\n",
              "      <td>3</td>\n",
              "      <td>Allen, Mr. William Henry</td>\n",
              "      <td>male</td>\n",
              "      <td>35.0</td>\n",
              "      <td>373450</td>\n",
              "      <td>8.0500</td>\n",
              "      <td>S</td>\n",
              "      <td>1</td>\n",
              "    </tr>\n",
              "  </tbody>\n",
              "</table>\n",
              "</div>"
            ],
            "text/plain": [
              "   PassengerId  Survived  Pclass     ...          Fare Embarked  TravelAlone\n",
              "0            1         0       3     ...        7.2500        S            0\n",
              "1            2         1       1     ...       71.2833        C            0\n",
              "2            3         1       3     ...        7.9250        S            1\n",
              "3            4         1       1     ...       53.1000        S            0\n",
              "4            5         0       3     ...        8.0500        S            1\n",
              "\n",
              "[5 rows x 10 columns]"
            ]
          },
          "execution_count": 17,
          "metadata": {},
          "output_type": "execute_result"
        }
      ],
      "source": [
        "## Create categorical variable for traveling alone\n",
        "train_data['TravelAlone']=np.where((train_data[\"SibSp\"]+train_data[\"Parch\"])>0, 0, 1)\n",
        "train_data.drop('SibSp', axis=1, inplace=True)\n",
        "train_data.drop('Parch', axis=1, inplace=True)\n",
        "train_data.head()"
      ]
    },
    {
      "cell_type": "markdown",
      "metadata": {
        "_cell_guid": "52573e26-c51f-44ea-9549-dda9a20ab24b",
        "_uuid": "36632587-ebe6-4457-a7bb-67788214d6cb",
        "id": "Xc6aq3Zi5Yi9"
      },
      "source": [
        "I'll also create categorical variables for Passenger Class (\"Pclass\"), Gender (\"Sex\"), and Port Embarked (\"Embarked\")."
      ]
    },
    {
      "cell_type": "code",
      "execution_count": null,
      "metadata": {
        "_cell_guid": "75b2adff-3922-4500-93d8-ca619b382b61",
        "_uuid": "e31fd48d-c275-4b3f-afa9-6a88e9fc1b10",
        "execution": {
          "iopub.execute_input": "2022-02-12T15:21:04.249752Z",
          "iopub.status.busy": "2022-02-12T15:21:04.249391Z",
          "iopub.status.idle": "2022-02-12T15:21:04.292683Z",
          "shell.execute_reply": "2022-02-12T15:21:04.291749Z",
          "shell.execute_reply.started": "2022-02-12T15:21:04.249676Z"
        },
        "jupyter": {
          "outputs_hidden": false
        },
        "id": "JqW3uW3U5Yi9",
        "outputId": "0b24b616-ded1-4706-c0b9-b3c014758f8d"
      },
      "outputs": [
        {
          "data": {
            "text/html": [
              "<div>\n",
              "<style scoped>\n",
              "    .dataframe tbody tr th:only-of-type {\n",
              "        vertical-align: middle;\n",
              "    }\n",
              "\n",
              "    .dataframe tbody tr th {\n",
              "        vertical-align: top;\n",
              "    }\n",
              "\n",
              "    .dataframe thead th {\n",
              "        text-align: right;\n",
              "    }\n",
              "</style>\n",
              "<table border=\"1\" class=\"dataframe\">\n",
              "  <thead>\n",
              "    <tr style=\"text-align: right;\">\n",
              "      <th></th>\n",
              "      <th>Survived</th>\n",
              "      <th>Age</th>\n",
              "      <th>Fare</th>\n",
              "      <th>TravelAlone</th>\n",
              "      <th>Pclass_1</th>\n",
              "      <th>Pclass_2</th>\n",
              "      <th>Pclass_3</th>\n",
              "      <th>Embarked_C</th>\n",
              "      <th>Embarked_Q</th>\n",
              "      <th>Embarked_S</th>\n",
              "      <th>Sex_male</th>\n",
              "    </tr>\n",
              "  </thead>\n",
              "  <tbody>\n",
              "    <tr>\n",
              "      <th>0</th>\n",
              "      <td>0</td>\n",
              "      <td>22.0</td>\n",
              "      <td>7.2500</td>\n",
              "      <td>0</td>\n",
              "      <td>0</td>\n",
              "      <td>0</td>\n",
              "      <td>1</td>\n",
              "      <td>0</td>\n",
              "      <td>0</td>\n",
              "      <td>1</td>\n",
              "      <td>1</td>\n",
              "    </tr>\n",
              "    <tr>\n",
              "      <th>1</th>\n",
              "      <td>1</td>\n",
              "      <td>38.0</td>\n",
              "      <td>71.2833</td>\n",
              "      <td>0</td>\n",
              "      <td>1</td>\n",
              "      <td>0</td>\n",
              "      <td>0</td>\n",
              "      <td>1</td>\n",
              "      <td>0</td>\n",
              "      <td>0</td>\n",
              "      <td>0</td>\n",
              "    </tr>\n",
              "    <tr>\n",
              "      <th>2</th>\n",
              "      <td>1</td>\n",
              "      <td>26.0</td>\n",
              "      <td>7.9250</td>\n",
              "      <td>1</td>\n",
              "      <td>0</td>\n",
              "      <td>0</td>\n",
              "      <td>1</td>\n",
              "      <td>0</td>\n",
              "      <td>0</td>\n",
              "      <td>1</td>\n",
              "      <td>0</td>\n",
              "    </tr>\n",
              "    <tr>\n",
              "      <th>3</th>\n",
              "      <td>1</td>\n",
              "      <td>35.0</td>\n",
              "      <td>53.1000</td>\n",
              "      <td>0</td>\n",
              "      <td>1</td>\n",
              "      <td>0</td>\n",
              "      <td>0</td>\n",
              "      <td>0</td>\n",
              "      <td>0</td>\n",
              "      <td>1</td>\n",
              "      <td>0</td>\n",
              "    </tr>\n",
              "    <tr>\n",
              "      <th>4</th>\n",
              "      <td>0</td>\n",
              "      <td>35.0</td>\n",
              "      <td>8.0500</td>\n",
              "      <td>1</td>\n",
              "      <td>0</td>\n",
              "      <td>0</td>\n",
              "      <td>1</td>\n",
              "      <td>0</td>\n",
              "      <td>0</td>\n",
              "      <td>1</td>\n",
              "      <td>1</td>\n",
              "    </tr>\n",
              "  </tbody>\n",
              "</table>\n",
              "</div>"
            ],
            "text/plain": [
              "   Survived   Age     Fare    ...     Embarked_Q  Embarked_S  Sex_male\n",
              "0         0  22.0   7.2500    ...              0           1         1\n",
              "1         1  38.0  71.2833    ...              0           0         0\n",
              "2         1  26.0   7.9250    ...              0           1         0\n",
              "3         1  35.0  53.1000    ...              0           1         0\n",
              "4         0  35.0   8.0500    ...              0           1         1\n",
              "\n",
              "[5 rows x 11 columns]"
            ]
          },
          "execution_count": 18,
          "metadata": {},
          "output_type": "execute_result"
        }
      ],
      "source": [
        "train_data.head()\n",
        "#create categorical variables and drop some variables\n",
        "# Convert categorical variable into dummy/indicator variables.\n",
        "training=pd.get_dummies(train_data, columns=[\"Pclass\",\"Embarked\",\"Sex\"])\n",
        "training.drop('Sex_female', axis=1, inplace=True)\n",
        "training.drop('PassengerId', axis=1, inplace=True)\n",
        "training.drop('Name', axis=1, inplace=True)\n",
        "training.drop('Ticket', axis=1, inplace=True)\n",
        "\n",
        "final_train = training\n",
        "final_train.head()"
      ]
    },
    {
      "cell_type": "markdown",
      "metadata": {
        "_cell_guid": "8e618396-ba52-42e4-a1d4-f0541a7fac0c",
        "_uuid": "7c3f470e-c4e8-4d52-b114-542d5bdc48b5",
        "id": "F-ReNDqq5Yi9"
      },
      "source": [
        "### Now, apply the same changes to the test data. <br>\n",
        "I will apply to same imputation for \"Age\" in the Test data as I did for my Training data (if missing, Age = 28).  <br> I'll also remove the \"Cabin\" variable from the test data, as I've decided not to include it in my analysis. <br> There were no missing values in the \"Embarked\" port variable. <br> I'll add the dummy variables to finalize the test set.  <br> Finally, I'll impute the 1 missing value for \"Fare\" with the median, 14.45."
      ]
    },
    {
      "cell_type": "code",
      "execution_count": null,
      "metadata": {
        "_cell_guid": "ace51f10-c3ea-4079-a2be-bbffe671e27f",
        "_uuid": "b233d81d-0985-428c-8008-a1917659a394",
        "execution": {
          "iopub.execute_input": "2022-02-12T15:21:04.295268Z",
          "iopub.status.busy": "2022-02-12T15:21:04.294894Z",
          "iopub.status.idle": "2022-02-12T15:21:04.305824Z",
          "shell.execute_reply": "2022-02-12T15:21:04.304732Z",
          "shell.execute_reply.started": "2022-02-12T15:21:04.295197Z"
        },
        "jupyter": {
          "outputs_hidden": false
        },
        "id": "jvuL2qZZ5Yi9",
        "outputId": "586aab59-17bf-4d51-aafc-edcbc47cb567"
      },
      "outputs": [
        {
          "data": {
            "text/plain": [
              "PassengerId      0\n",
              "Pclass           0\n",
              "Name             0\n",
              "Sex              0\n",
              "Age             86\n",
              "SibSp            0\n",
              "Parch            0\n",
              "Ticket           0\n",
              "Fare             1\n",
              "Cabin          327\n",
              "Embarked         0\n",
              "dtype: int64"
            ]
          },
          "execution_count": 19,
          "metadata": {},
          "output_type": "execute_result"
        }
      ],
      "source": [
        "test_df.isnull().sum()"
      ]
    },
    {
      "cell_type": "code",
      "execution_count": null,
      "metadata": {
        "_cell_guid": "2f12e09c-1888-4c9e-93cf-9e0b7b3d215b",
        "_uuid": "d7a2f62d-b63e-4a8f-8cb6-d0eb7e8131b8",
        "execution": {
          "iopub.execute_input": "2022-02-12T15:21:04.309838Z",
          "iopub.status.busy": "2022-02-12T15:21:04.309564Z",
          "iopub.status.idle": "2022-02-12T15:21:04.494195Z",
          "shell.execute_reply": "2022-02-12T15:21:04.493414Z",
          "shell.execute_reply.started": "2022-02-12T15:21:04.309798Z"
        },
        "jupyter": {
          "outputs_hidden": false
        },
        "id": "fO3bnJEY5Yi9",
        "outputId": "aaca6bc1-d067-478d-bb2a-673a34a60124"
      },
      "outputs": [
        {
          "data": {
            "text/html": [
              "<div>\n",
              "<style scoped>\n",
              "    .dataframe tbody tr th:only-of-type {\n",
              "        vertical-align: middle;\n",
              "    }\n",
              "\n",
              "    .dataframe tbody tr th {\n",
              "        vertical-align: top;\n",
              "    }\n",
              "\n",
              "    .dataframe thead th {\n",
              "        text-align: right;\n",
              "    }\n",
              "</style>\n",
              "<table border=\"1\" class=\"dataframe\">\n",
              "  <thead>\n",
              "    <tr style=\"text-align: right;\">\n",
              "      <th></th>\n",
              "      <th>Age</th>\n",
              "      <th>Fare</th>\n",
              "      <th>TravelAlone</th>\n",
              "      <th>Pclass_1</th>\n",
              "      <th>Pclass_2</th>\n",
              "      <th>Pclass_3</th>\n",
              "      <th>Embarked_C</th>\n",
              "      <th>Embarked_Q</th>\n",
              "      <th>Embarked_S</th>\n",
              "      <th>Sex_male</th>\n",
              "    </tr>\n",
              "  </thead>\n",
              "  <tbody>\n",
              "    <tr>\n",
              "      <th>0</th>\n",
              "      <td>34.5</td>\n",
              "      <td>7.8292</td>\n",
              "      <td>1</td>\n",
              "      <td>0</td>\n",
              "      <td>0</td>\n",
              "      <td>1</td>\n",
              "      <td>0</td>\n",
              "      <td>1</td>\n",
              "      <td>0</td>\n",
              "      <td>1</td>\n",
              "    </tr>\n",
              "    <tr>\n",
              "      <th>1</th>\n",
              "      <td>47.0</td>\n",
              "      <td>7.0000</td>\n",
              "      <td>0</td>\n",
              "      <td>0</td>\n",
              "      <td>0</td>\n",
              "      <td>1</td>\n",
              "      <td>0</td>\n",
              "      <td>0</td>\n",
              "      <td>1</td>\n",
              "      <td>0</td>\n",
              "    </tr>\n",
              "    <tr>\n",
              "      <th>2</th>\n",
              "      <td>62.0</td>\n",
              "      <td>9.6875</td>\n",
              "      <td>1</td>\n",
              "      <td>0</td>\n",
              "      <td>1</td>\n",
              "      <td>0</td>\n",
              "      <td>0</td>\n",
              "      <td>1</td>\n",
              "      <td>0</td>\n",
              "      <td>1</td>\n",
              "    </tr>\n",
              "    <tr>\n",
              "      <th>3</th>\n",
              "      <td>27.0</td>\n",
              "      <td>8.6625</td>\n",
              "      <td>1</td>\n",
              "      <td>0</td>\n",
              "      <td>0</td>\n",
              "      <td>1</td>\n",
              "      <td>0</td>\n",
              "      <td>0</td>\n",
              "      <td>1</td>\n",
              "      <td>1</td>\n",
              "    </tr>\n",
              "    <tr>\n",
              "      <th>4</th>\n",
              "      <td>22.0</td>\n",
              "      <td>12.2875</td>\n",
              "      <td>0</td>\n",
              "      <td>0</td>\n",
              "      <td>0</td>\n",
              "      <td>1</td>\n",
              "      <td>0</td>\n",
              "      <td>0</td>\n",
              "      <td>1</td>\n",
              "      <td>0</td>\n",
              "    </tr>\n",
              "  </tbody>\n",
              "</table>\n",
              "</div>"
            ],
            "text/plain": [
              "    Age     Fare  TravelAlone    ...     Embarked_Q  Embarked_S  Sex_male\n",
              "0  34.5   7.8292            1    ...              1           0         1\n",
              "1  47.0   7.0000            0    ...              0           1         0\n",
              "2  62.0   9.6875            1    ...              1           0         1\n",
              "3  27.0   8.6625            1    ...              0           1         1\n",
              "4  22.0  12.2875            0    ...              0           1         0\n",
              "\n",
              "[5 rows x 10 columns]"
            ]
          },
          "execution_count": 20,
          "metadata": {},
          "output_type": "execute_result"
        }
      ],
      "source": [
        "test_data = test_df.copy()\n",
        "test_data[\"Age\"].fillna(train_df[\"Age\"].median(skipna=True), inplace=True) #inplace=True -> overwrite the existing dataframe\n",
        "test_data[\"Fare\"].fillna(train_df[\"Fare\"].median(skipna=True), inplace=True)\n",
        "test_data.drop('Cabin', axis=1, inplace=True)\n",
        "\n",
        "test_data['TravelAlone']=np.where((test_data[\"SibSp\"]+test_data[\"Parch\"])>0, 0, 1)\n",
        "\n",
        "test_data.drop('SibSp', axis=1, inplace=True)\n",
        "test_data.drop('Parch', axis=1, inplace=True)\n",
        "\n",
        "testing = pd.get_dummies(test_data, columns=[\"Pclass\",\"Embarked\",\"Sex\"])\n",
        "testing.drop('Sex_female', axis=1, inplace=True)\n",
        "testing.drop('PassengerId', axis=1, inplace=True)\n",
        "testing.drop('Name', axis=1, inplace=True)\n",
        "testing.drop('Ticket', axis=1, inplace=True)\n",
        "\n",
        "final_test = testing\n",
        "final_test.head()"
      ]
    },
    {
      "cell_type": "markdown",
      "metadata": {
        "_cell_guid": "17476701-7422-48f5-8398-bcc1354addc8",
        "_uuid": "c10da315-fc7c-491e-a07c-8ddcd30f7e77",
        "id": "XF3FuHw75Yi-"
      },
      "source": [
        "<a id=\"t3.\"></a>\n",
        "# 3. Exploratory Data Analysis"
      ]
    },
    {
      "cell_type": "markdown",
      "metadata": {
        "_cell_guid": "73c07e10-984b-4df7-a255-8f4a02c9b231",
        "_uuid": "d7d45f94-5278-4472-8e25-95697368d800",
        "id": "nwvIpUb_5Yi-"
      },
      "source": [
        "<a id=\"t3.1.\"></a>\n",
        "## 3.1. Exploration of Age"
      ]
    },
    {
      "cell_type": "code",
      "execution_count": null,
      "metadata": {
        "_cell_guid": "31171c49-3b12-48ad-9bb2-842e33841afc",
        "_uuid": "357f21ca-323f-4f31-93e1-7201deda1d2b",
        "execution": {
          "iopub.execute_input": "2022-02-12T15:21:04.49541Z",
          "iopub.status.busy": "2022-02-12T15:21:04.495191Z",
          "iopub.status.idle": "2022-02-12T15:21:04.818201Z",
          "shell.execute_reply": "2022-02-12T15:21:04.817196Z",
          "shell.execute_reply.started": "2022-02-12T15:21:04.495371Z"
        },
        "jupyter": {
          "outputs_hidden": false
        },
        "id": "uYyz80xu5Yi-",
        "outputId": "d9859ced-02b4-45b1-98c3-237e505a6ba6"
      },
      "outputs": [
        {
          "data": {
            "image/png": "[encoded data removed]",
            "text/plain": [
              "<Figure size 1080x576 with 1 Axes>"
            ]
          },
          "metadata": {
            "needs_background": "light"
          },
          "output_type": "display_data"
        }
      ],
      "source": [
        "plt.figure(figsize=(15,8))\n",
        "ax = sns.kdeplot(final_train[\"Age\"][final_train.Survived == 1], color=\"darkturquoise\", shade=True)\n",
        "sns.kdeplot(final_train[\"Age\"][final_train.Survived == 0], color=\"lightcoral\", shade=True)\n",
        "plt.legend(['Survived', 'Died'])\n",
        "plt.title('Density Plot of Age for Surviving Population and Deceased Population')\n",
        "ax.set(xlabel='Age')\n",
        "plt.xlim(-10,85)\n",
        "plt.show()"
      ]
    },
    {
      "cell_type": "markdown",
      "metadata": {
        "_cell_guid": "f40d594b-aecc-47c1-b8bc-44f987b5abbb",
        "_uuid": "d3b3cc61-e29b-4cc2-8c5d-451fc0321782",
        "id": "pa39hvML5Yi-"
      },
      "source": [
        "The age distribution for survivors and deceased is actually very similar.  One notable difference is that, of the survivors, a larger proportion were children.  The passengers evidently made an attempt to save children by giving them a place on the life rafts."
      ]
    },
    {
      "cell_type": "code",
      "execution_count": null,
      "metadata": {
        "_cell_guid": "74ccfa80-351e-4e01-bca6-595240a74418",
        "_uuid": "ebfe9ba3-a8a1-48bb-b09c-8c5448806784",
        "execution": {
          "iopub.execute_input": "2022-02-12T15:21:04.819631Z",
          "iopub.status.busy": "2022-02-12T15:21:04.819261Z",
          "iopub.status.idle": "2022-02-12T15:21:05.814314Z",
          "shell.execute_reply": "2022-02-12T15:21:05.813702Z",
          "shell.execute_reply.started": "2022-02-12T15:21:04.819565Z"
        },
        "jupyter": {
          "outputs_hidden": false
        },
        "id": "M5i9n0_-5Yi-",
        "outputId": "2447788c-d68d-4fef-d0f4-940e714c9556"
      },
      "outputs": [
        {
          "data": {
            "image/png": "[encoded data removed]",
            "text/plain": [
              "<Figure size 1440x576 with 1 Axes>"
            ]
          },
          "metadata": {
            "needs_background": "light"
          },
          "output_type": "display_data"
        }
      ],
      "source": [
        "plt.figure(figsize=(20,8))\n",
        "avg_survival_byage = final_train[[\"Age\", \"Survived\"]].groupby(['Age'], as_index=False).mean()\n",
        "g = sns.barplot(x='Age', y='Survived', data=avg_survival_byage, color=\"LightSeaGreen\")\n",
        "g.set_xticklabels(avg_survival_byage[\"Age\"], rotation=90)\n",
        "plt.show()"
      ]
    },
    {
      "cell_type": "markdown",
      "metadata": {
        "_cell_guid": "24e2554e-56eb-48a3-ae7e-14313a6d077c",
        "_uuid": "489a45f2-2baa-492f-abf8-df13e8df1dc3",
        "id": "_-XEFauJ5Yi-"
      },
      "source": [
        "Considering the survival rate of passengers under 16, I'll also include another categorical variable in my dataset: \"Minor\""
      ]
    },
    {
      "cell_type": "code",
      "execution_count": null,
      "metadata": {
        "_cell_guid": "5f5a3ab3-c18e-4009-a2c4-3abbda30aeac",
        "_uuid": "288e9a8b-a7e5-4967-b5b7-305e85bd4f15",
        "execution": {
          "iopub.execute_input": "2022-02-12T15:21:05.815696Z",
          "iopub.status.busy": "2022-02-12T15:21:05.81533Z",
          "iopub.status.idle": "2022-02-12T15:21:05.821877Z",
          "shell.execute_reply": "2022-02-12T15:21:05.820821Z",
          "shell.execute_reply.started": "2022-02-12T15:21:05.815651Z"
        },
        "jupyter": {
          "outputs_hidden": false
        },
        "id": "wTmqayTI5Yi-"
      },
      "outputs": [],
      "source": [
        "final_train['IsMinor']=np.where(final_train['Age']<=16, 1, 0)\n",
        "\n",
        "final_test['IsMinor']=np.where(final_test['Age']<=16, 1, 0)"
      ]
    },
    {
      "cell_type": "markdown",
      "metadata": {
        "_cell_guid": "44992e7b-e339-4ae1-896a-211cb16b8a7e",
        "_uuid": "39a08183-1a9e-4776-8596-1a08b0b14d00",
        "id": "tptykFbG5Yi_"
      },
      "source": [
        "<a id=\"t3.2.\"></a>\n",
        "## 3.2. Exploration of Fare"
      ]
    },
    {
      "cell_type": "code",
      "execution_count": null,
      "metadata": {
        "_cell_guid": "61af377d-3cb2-45cb-bbcc-468340443c62",
        "_uuid": "6e527907-9455-429b-8962-2a1baee89c1b",
        "execution": {
          "iopub.execute_input": "2022-02-12T15:21:05.823966Z",
          "iopub.status.busy": "2022-02-12T15:21:05.823569Z",
          "iopub.status.idle": "2022-02-12T15:21:06.147028Z",
          "shell.execute_reply": "2022-02-12T15:21:06.146086Z",
          "shell.execute_reply.started": "2022-02-12T15:21:05.823894Z"
        },
        "jupyter": {
          "outputs_hidden": false
        },
        "id": "_l50DitR5Yi_",
        "outputId": "ea3d58da-d449-43cc-88eb-68d4de9b315e"
      },
      "outputs": [
        {
          "data": {
            "image/png": "[encoded data removed]",
            "text/plain": [
              "<Figure size 1080x576 with 1 Axes>"
            ]
          },
          "metadata": {
            "needs_background": "light"
          },
          "output_type": "display_data"
        }
      ],
      "source": [
        "plt.figure(figsize=(15,8))\n",
        "ax = sns.kdeplot(final_train[\"Fare\"][final_train.Survived == 1], color=\"darkturquoise\", shade=True)\n",
        "sns.kdeplot(final_train[\"Fare\"][final_train.Survived == 0], color=\"lightcoral\", shade=True)\n",
        "plt.legend(['Survived', 'Died'])\n",
        "plt.title('Density Plot of Fare for Surviving Population and Deceased Population')\n",
        "ax.set(xlabel='Fare')\n",
        "plt.xlim(-20,200)\n",
        "plt.show()"
      ]
    },
    {
      "cell_type": "markdown",
      "metadata": {
        "_cell_guid": "c7893d60-4835-41c7-a1f5-8737a391bbc6",
        "_uuid": "35223a34-5c50-49ec-ac93-082c302ceb7e",
        "id": "GFCtkkqk5Yi_"
      },
      "source": [
        "As the distributions are clearly different for the fares of survivors vs. deceased, it's likely that this would be a significant predictor in our final model.  Passengers who paid lower fare appear to have been less likely to survive.  This is probably strongly correlated with Passenger Class, which we'll look at next."
      ]
    },
    {
      "cell_type": "markdown",
      "metadata": {
        "_cell_guid": "9b800309-9bd6-45b6-9df2-1f7300167723",
        "_uuid": "05e2e005-92bf-45be-9c08-775de7b9ffd6",
        "id": "kdR-n4KL5Yi_"
      },
      "source": [
        "<a id=\"t3.3.\"></a>\n",
        "## 3.3. Exploration of Passenger Class"
      ]
    },
    {
      "cell_type": "code",
      "execution_count": null,
      "metadata": {
        "_cell_guid": "8b6b46e4-e64b-44e2-91f3-e787b157acf1",
        "_uuid": "5779e6af-8a68-4a1c-870c-4311049dfd67",
        "execution": {
          "iopub.execute_input": "2022-02-12T15:21:06.148893Z",
          "iopub.status.busy": "2022-02-12T15:21:06.148388Z",
          "iopub.status.idle": "2022-02-12T15:21:06.339689Z",
          "shell.execute_reply": "2022-02-12T15:21:06.338992Z",
          "shell.execute_reply.started": "2022-02-12T15:21:06.148834Z"
        },
        "jupyter": {
          "outputs_hidden": false
        },
        "id": "NfeC5b1Q5Yi_",
        "outputId": "e791100c-9f46-41d7-c6f2-fff551edf50c"
      },
      "outputs": [
        {
          "data": {
            "image/png": "[encoded data removed]",
            "text/plain": [
              "<Figure size 432x288 with 1 Axes>"
            ]
          },
          "metadata": {
            "needs_background": "light"
          },
          "output_type": "display_data"
        }
      ],
      "source": [
        "sns.barplot('Pclass', 'Survived', data=train_df, color=\"darkturquoise\")\n",
        "plt.show()"
      ]
    },
    {
      "cell_type": "markdown",
      "metadata": {
        "_cell_guid": "637825bb-d0ef-4b85-8582-d1ec4e37c3e5",
        "_uuid": "96f46332-0472-40f0-b3b8-74381d878b71",
        "id": "V1s47z4Q5Yi_"
      },
      "source": [
        "Unsurprisingly, being a first class passenger was safest."
      ]
    },
    {
      "cell_type": "markdown",
      "metadata": {
        "_cell_guid": "ef159dca-f854-4a58-9a7d-7466751754db",
        "_uuid": "eec193e5-012a-4832-91ca-00d085fc7866",
        "id": "ICTbf3qe5YjA"
      },
      "source": [
        "<a id=\"t3.4.\"></a>\n",
        "## 3.4. Exploration of Embarked Port"
      ]
    },
    {
      "cell_type": "code",
      "execution_count": null,
      "metadata": {
        "_cell_guid": "056e276f-9422-4872-b2b7-ca707ed393d8",
        "_uuid": "a43dcd61-62a6-41c5-8da5-d9ea996775bc",
        "execution": {
          "iopub.execute_input": "2022-02-12T15:21:06.343798Z",
          "iopub.status.busy": "2022-02-12T15:21:06.340905Z",
          "iopub.status.idle": "2022-02-12T15:21:06.538658Z",
          "shell.execute_reply": "2022-02-12T15:21:06.537782Z",
          "shell.execute_reply.started": "2022-02-12T15:21:06.343729Z"
        },
        "jupyter": {
          "outputs_hidden": false
        },
        "id": "1QigtVZX5YjA",
        "outputId": "70aa3e53-b0a0-4ad3-962d-334e690e8bd8"
      },
      "outputs": [
        {
          "data": {
            "image/png": "[encoded data removed]",
            "text/plain": [
              "<Figure size 432x288 with 1 Axes>"
            ]
          },
          "metadata": {
            "needs_background": "light"
          },
          "output_type": "display_data"
        }
      ],
      "source": [
        "sns.barplot('Embarked', 'Survived', data=train_df, color=\"teal\")\n",
        "plt.show()"
      ]
    },
    {
      "cell_type": "markdown",
      "metadata": {
        "_cell_guid": "75d9cad3-a687-4614-9c75-bd2eaa7f850f",
        "_uuid": "16b43b22-928e-45a6-ad42-66664e132b78",
        "id": "zlrVfZ165YjA"
      },
      "source": [
        "Passengers who boarded in Cherbourg, France, appear to have the highest survival rate.  Passengers who boarded in Southhampton were marginally less likely to survive than those who boarded in Queenstown.  This is probably related to passenger class, or maybe even the order of room assignments (e.g. maybe earlier passengers were more likely to have rooms closer to deck)."
      ]
    },
    {
      "cell_type": "markdown",
      "metadata": {
        "_cell_guid": "79142a41-a666-4d4e-b501-bebb37d075e5",
        "_uuid": "cdf8bf6e-805f-45c7-aec9-d514de1a698a",
        "id": "lQU__pzI5YjA"
      },
      "source": [
        "<a id=\"t3.5.\"></a>\n",
        "## 3.5. Exploration of Traveling Alone vs. With Family"
      ]
    },
    {
      "cell_type": "code",
      "execution_count": null,
      "metadata": {
        "_cell_guid": "5eb09b45-0278-4845-80f0-041762126bde",
        "_uuid": "900ec402-1d51-49a2-8911-92491486a8b0",
        "execution": {
          "iopub.execute_input": "2022-02-12T15:21:06.540556Z",
          "iopub.status.busy": "2022-02-12T15:21:06.540044Z",
          "iopub.status.idle": "2022-02-12T15:21:06.697519Z",
          "shell.execute_reply": "2022-02-12T15:21:06.696631Z",
          "shell.execute_reply.started": "2022-02-12T15:21:06.540494Z"
        },
        "jupyter": {
          "outputs_hidden": false
        },
        "id": "3VrkxwsA5YjA",
        "outputId": "0d3fb780-6f04-4aba-ec02-866fbf0d1b07"
      },
      "outputs": [
        {
          "data": {
            "image/png": "[encoded data removed]",
            "text/plain": [
              "<Figure size 432x288 with 1 Axes>"
            ]
          },
          "metadata": {
            "needs_background": "light"
          },
          "output_type": "display_data"
        }
      ],
      "source": [
        "sns.barplot('TravelAlone', 'Survived', data=final_train, color=\"mediumturquoise\")\n",
        "plt.show()"
      ]
    },
    {
      "cell_type": "markdown",
      "metadata": {
        "_cell_guid": "6d180288-dbf1-4bc4-8694-64766afba2cd",
        "_uuid": "87f9c640-e765-44f6-a022-1826f38d0c24",
        "id": "y_aQqHNH5YjA"
      },
      "source": [
        "Individuals traveling without family were more likely to die in the disaster than those with family aboard. Given the era, it's likely that individuals traveling alone were likely male."
      ]
    },
    {
      "cell_type": "markdown",
      "metadata": {
        "_cell_guid": "855e8a39-2246-4374-b77d-625df7bd05ba",
        "_uuid": "8384356a-5bfc-4215-8e90-5d44012866bf",
        "id": "xDnYrJR45YjB"
      },
      "source": [
        "<a id=\"t3.6.\"></a>\n",
        "## 3.6. Exploration of Gender Variable"
      ]
    },
    {
      "cell_type": "code",
      "execution_count": null,
      "metadata": {
        "_cell_guid": "b5f0fbc0-c571-406c-9b52-cb9c2d495dff",
        "_uuid": "f63df1cc-6d98-4f2b-bc65-2365de90c730",
        "execution": {
          "iopub.execute_input": "2022-02-12T15:21:06.701939Z",
          "iopub.status.busy": "2022-02-12T15:21:06.701479Z",
          "iopub.status.idle": "2022-02-12T15:21:06.869779Z",
          "shell.execute_reply": "2022-02-12T15:21:06.868795Z",
          "shell.execute_reply.started": "2022-02-12T15:21:06.701872Z"
        },
        "jupyter": {
          "outputs_hidden": false
        },
        "id": "YWkcMekA5YjB",
        "outputId": "c60a1d1d-dc8a-4bb0-b845-044757b988b5"
      },
      "outputs": [
        {
          "data": {
            "image/png": "[encoded data removed]",
            "text/plain": [
              "<Figure size 432x288 with 1 Axes>"
            ]
          },
          "metadata": {
            "needs_background": "light"
          },
          "output_type": "display_data"
        }
      ],
      "source": [
        "sns.barplot('Sex', 'Survived', data=train_df, color=\"aquamarine\")\n",
        "plt.show()"
      ]
    },
    {
      "cell_type": "markdown",
      "metadata": {
        "_cell_guid": "4f727ca5-0f36-4c90-b70c-f1607235bf2c",
        "_uuid": "62e44c05-8589-4930-aa65-9a249876e47f",
        "id": "6Dy5ttwL5YjB"
      },
      "source": [
        "This is a very obvious difference.  Clearly being female greatly increased your chances of survival."
      ]
    },
    {
      "cell_type": "markdown",
      "metadata": {
        "_cell_guid": "fb3c90b2-3ed7-4a6f-9901-b0af568e50e2",
        "_uuid": "8de139da-c602-4acb-b5e9-6d97b9dc109f",
        "id": "RwD_qZrE5YjB"
      },
      "source": [
        "<a id=\"t4.\"></a>\n",
        "# 4. Logistic Regression and Results"
      ]
    },
    {
      "cell_type": "code",
      "execution_count": null,
      "metadata": {
        "_cell_guid": "4c2e73dc-d2aa-4ac3-9bf1-efbcc926e784",
        "_uuid": "db841724-296f-4d30-bda9-d7ee9cf86ff3",
        "execution": {
          "iopub.execute_input": "2022-02-12T15:21:06.872254Z",
          "iopub.status.busy": "2022-02-12T15:21:06.87171Z",
          "iopub.status.idle": "2022-02-12T15:21:06.941877Z",
          "shell.execute_reply": "2022-02-12T15:21:06.940954Z",
          "shell.execute_reply.started": "2022-02-12T15:21:06.872009Z"
        },
        "jupyter": {
          "outputs_hidden": false
        },
        "id": "0sf-2LjZ5YjB",
        "outputId": "0acca1aa-9c42-4e32-dd12-642bd931ccf6"
      },
      "outputs": [
        {
          "name": "stdout",
          "output_type": "stream",
          "text": [
            "(891, 11)\n",
            "X =      Age     Fare  TravelAlone   ...     Embarked_S  Sex_male  IsMinor\n",
            "0  22.0   7.2500            0   ...              1         1        0\n",
            "1  38.0  71.2833            0   ...              0         0        0\n",
            "2  26.0   7.9250            1   ...              1         0        0\n",
            "3  35.0  53.1000            0   ...              1         0        0\n",
            "4  35.0   8.0500            1   ...              1         1        0\n",
            "\n",
            "[5 rows x 11 columns]\n",
            "y =  0    0\n",
            "1    1\n",
            "2    1\n",
            "3    1\n",
            "4    0\n",
            "Name: Survived, dtype: int64\n",
            "    Age     Fare  TravelAlone   ...     Embarked_S  Sex_male  IsMinor\n",
            "0  34.5   7.8292            1   ...              0         1        0\n",
            "1  47.0   7.0000            0   ...              1         0        0\n",
            "2  62.0   9.6875            1   ...              0         1        0\n",
            "3  27.0   8.6625            1   ...              1         1        0\n",
            "4  22.0  12.2875            0   ...              1         0        0\n",
            "\n",
            "[5 rows x 11 columns]\n"
          ]
        },
        {
          "data": {
            "text/html": [
              "<div>\n",
              "<style scoped>\n",
              "    .dataframe tbody tr th:only-of-type {\n",
              "        vertical-align: middle;\n",
              "    }\n",
              "\n",
              "    .dataframe tbody tr th {\n",
              "        vertical-align: top;\n",
              "    }\n",
              "\n",
              "    .dataframe thead th {\n",
              "        text-align: right;\n",
              "    }\n",
              "</style>\n",
              "<table border=\"1\" class=\"dataframe\">\n",
              "  <thead>\n",
              "    <tr style=\"text-align: right;\">\n",
              "      <th></th>\n",
              "      <th>PassengerId</th>\n",
              "      <th>Survived</th>\n",
              "    </tr>\n",
              "  </thead>\n",
              "  <tbody>\n",
              "    <tr>\n",
              "      <th>413</th>\n",
              "      <td>1305</td>\n",
              "      <td>0</td>\n",
              "    </tr>\n",
              "    <tr>\n",
              "      <th>414</th>\n",
              "      <td>1306</td>\n",
              "      <td>1</td>\n",
              "    </tr>\n",
              "    <tr>\n",
              "      <th>415</th>\n",
              "      <td>1307</td>\n",
              "      <td>0</td>\n",
              "    </tr>\n",
              "    <tr>\n",
              "      <th>416</th>\n",
              "      <td>1308</td>\n",
              "      <td>0</td>\n",
              "    </tr>\n",
              "    <tr>\n",
              "      <th>417</th>\n",
              "      <td>1309</td>\n",
              "      <td>0</td>\n",
              "    </tr>\n",
              "  </tbody>\n",
              "</table>\n",
              "</div>"
            ],
            "text/plain": [
              "     PassengerId  Survived\n",
              "413         1305         0\n",
              "414         1306         1\n",
              "415         1307         0\n",
              "416         1308         0\n",
              "417         1309         0"
            ]
          },
          "execution_count": 29,
          "metadata": {},
          "output_type": "execute_result"
        }
      ],
      "source": [
        "from sklearn.linear_model import LogisticRegression\n",
        "\n",
        "X = final_train.loc[:, final_train.columns != 'Survived']\n",
        "print(X.shape)\n",
        "print(\"X = \", X.head())\n",
        "\n",
        "y = final_train['Survived']\n",
        "print(\"y = \", y.head())\n",
        "\n",
        "# Build a logreg and compute the feature importances\n",
        "model = LogisticRegression()\n",
        "model.fit(X,y)\n",
        "\n",
        "print(final_test.head())\n",
        "final_test['Survived'] = model.predict(final_test)\n",
        "final_test['PassengerId'] = test_df['PassengerId']\n",
        "\n",
        "submission = final_test[['PassengerId','Survived']]\n",
        "\n",
        "submission.to_csv(\"submission.csv\", index=False)\n",
        "\n",
        "submission.tail()"
      ]
    },
    {
      "cell_type": "markdown",
      "metadata": {
        "_cell_guid": "c2b5ea7c-e30e-4f9d-b467-d0376b12aaf4",
        "_uuid": "65f44858-22f0-4eb4-99a9-6b1871c16853",
        "id": "oFHXAA5v5YjB"
      },
      "source": [
        "--------------------- **Week6 ends here.** ----------------------------------------"
      ]
    },
    {
      "cell_type": "markdown",
      "metadata": {
        "_cell_guid": "3b9ea382-87e2-4b12-bd6a-aff6d9539c22",
        "_uuid": "786688a2-7d7a-4da3-8340-c1a5ad28fb53",
        "id": "N4I9geMV5YjB"
      },
      "source": [
        "<a id=\"t4.1.\"></a>\n",
        "## 4.1. Feature selection\n",
        "\n",
        "<a id=\"t4.1.1.\"></a>\n",
        "### 4.1.1. Recursive feature elimination\n",
        "\n",
        "Given an external estimator that assigns weights to features, recursive feature elimination (RFE) is to select features by recursively considering smaller and smaller sets of features. First, the estimator is trained on the initial set of features and the importance of each feature is obtained either through a `coef_ attribute` or through a `feature_importances_` attribute. Then, the least important features are pruned from current set of features.That procedure is recursively repeated on the pruned set until the desired number of features to select is eventually reached.\n",
        "\n",
        "References: <br>\n",
        "http://scikit-learn.org/stable/modules/feature_selection.html <br>"
      ]
    },
    {
      "cell_type": "code",
      "execution_count": null,
      "metadata": {
        "_cell_guid": "688a8303-0c9f-4597-a48c-71b14f7492a6",
        "_uuid": "e1f3c4e9-dd0a-475d-bd89-f614a2cf80aa",
        "execution": {
          "iopub.execute_input": "2022-02-12T15:23:49.090088Z",
          "iopub.status.busy": "2022-02-12T15:23:49.08958Z",
          "iopub.status.idle": "2022-02-12T15:23:49.100222Z",
          "shell.execute_reply": "2022-02-12T15:23:49.099166Z",
          "shell.execute_reply.started": "2022-02-12T15:23:49.090022Z"
        },
        "jupyter": {
          "outputs_hidden": false
        },
        "id": "XxB-L-8x5YjC",
        "outputId": "c517c012-82ed-4659-87e7-15157029c61a"
      },
      "outputs": [
        {
          "name": "stdout",
          "output_type": "stream",
          "text": [
            "Selected features: ['TravelAlone', 'Pclass_1', 'Pclass_2', 'Pclass_3', 'Embarked_C', 'Embarked_Q', 'Sex_male', 'IsMinor']\n"
          ]
        }
      ],
      "source": [
        "from sklearn.linear_model import LogisticRegression\n",
        "from sklearn.feature_selection import RFE\n",
        "\n",
        "#cols = [\"Age\",\"Fare\",\"TravelAlone\",\"Pclass_1\",\"Pclass_2\",\"Embarked_C\",\"Embarked_S\",\"Sex_male\",\"IsMinor\"] \n",
        "#X = final_train[cols]\n",
        "#y = final_train['Survived']\n",
        "# Build a logreg and compute the feature importances\n",
        "model = LogisticRegression()\n",
        "# create the RFE model and select 8 attributes\n",
        "rfe = RFE(model,8)\n",
        "rfe = rfe.fit(X, y)\n",
        "# summarize the selection of the attributes\n",
        "print('Selected features: %s' % list(X.columns[rfe.support_]))"
      ]
    },
    {
      "cell_type": "markdown",
      "metadata": {
        "_cell_guid": "d1860f32-43f0-4a0c-992f-f027837aac08",
        "_uuid": "4705b486-dacb-4239-8d03-088ff8b86f4f",
        "id": "_DPUrHrm5YjC"
      },
      "source": [
        "<a id=\"t4.1.2.\"></a>\n",
        "### 4.1.2. Feature ranking with recursive feature elimination and cross-validation\n",
        "\n",
        "RFECV performs RFE in a cross-validation loop to find the optimal number or the best number of features. Hereafter a recursive feature elimination applied on logistic regression with automatic tuning of the number of features selected with cross-validation."
      ]
    },
    {
      "cell_type": "code",
      "execution_count": null,
      "metadata": {
        "_cell_guid": "d34bf79c-5cb1-4925-bb16-a23efd259def",
        "_uuid": "58a94f8c-cbc6-46d6-ae69-6c1b98d0f3d0",
        "execution": {
          "iopub.execute_input": "2022-02-12T15:22:02.564832Z",
          "iopub.status.busy": "2022-02-12T15:22:02.564244Z",
          "iopub.status.idle": "2022-02-12T15:22:02.874857Z",
          "shell.execute_reply": "2022-02-12T15:22:02.873885Z",
          "shell.execute_reply.started": "2022-02-12T15:22:02.564778Z"
        },
        "jupyter": {
          "outputs_hidden": false
        },
        "id": "FD2qJFw85YjC",
        "outputId": "d487a51d-ebb0-43c3-8a13-3e7a4b05e7dc"
      },
      "outputs": [
        {
          "name": "stdout",
          "output_type": "stream",
          "text": [
            "Optimal number of features: 11\n",
            "Selected features: ['Age', 'Fare', 'TravelAlone', 'Pclass_1', 'Pclass_2', 'Pclass_3', 'Embarked_C', 'Embarked_Q', 'Embarked_S', 'Sex_male', 'IsMinor']\n"
          ]
        },
        {
          "data": {
            "image/png": "[encoded data removed]",
            "text/plain": [
              "<Figure size 720x432 with 1 Axes>"
            ]
          },
          "metadata": {
            "needs_background": "light"
          },
          "output_type": "display_data"
        }
      ],
      "source": [
        "from sklearn.feature_selection import RFECV\n",
        "# Create the RFE object and compute a cross-validated score.\n",
        "# The \"accuracy\" scoring is proportional to the number of correct classifications\n",
        "rfecv = RFECV(estimator=LogisticRegression(), step=1, cv=5, scoring='accuracy')\n",
        "rfecv.fit(X, y)\n",
        "\n",
        "print(\"Optimal number of features: %d\" % rfecv.n_features_)\n",
        "print('Selected features: %s' % list(X.columns[rfecv.support_]))\n",
        "\n",
        "# Plot number of features VS. cross-validation scores\n",
        "plt.figure(figsize=(10,6))\n",
        "plt.xlabel(\"Number of features selected\")\n",
        "plt.ylabel(\"Cross validation score (nb of correct classifications)\")\n",
        "plt.plot(range(1, len(rfecv.grid_scores_) + 1), rfecv.grid_scores_)\n",
        "plt.show()"
      ]
    },
    {
      "cell_type": "markdown",
      "metadata": {
        "_cell_guid": "dc1435e5-b879-4ca0-9e10-343ab6e1d9a0",
        "_uuid": "c878fff8-dbe1-4cff-83bc-21c491458350",
        "id": "zB1HLaC05YjC"
      },
      "source": [
        "As we see, eight variables were kept."
      ]
    },
    {
      "cell_type": "code",
      "execution_count": null,
      "metadata": {
        "_cell_guid": "f0c49aa0-fccf-4e69-b58a-736a095eb378",
        "_uuid": "21ccccdd-f82b-4074-a52c-4345443871e9",
        "execution": {
          "iopub.execute_input": "2022-02-12T15:21:07.325191Z",
          "iopub.status.busy": "2022-02-12T15:21:07.324803Z",
          "iopub.status.idle": "2022-02-12T15:21:07.871136Z",
          "shell.execute_reply": "2022-02-12T15:21:07.869948Z",
          "shell.execute_reply.started": "2022-02-12T15:21:07.325132Z"
        },
        "jupyter": {
          "outputs_hidden": false
        },
        "id": "pUM8jhnX5YjC",
        "outputId": "5c8b3b4e-b63a-4ddd-a806-22a7d462af2d"
      },
      "outputs": [
        {
          "data": {
            "image/png": "[encoded data removed]",
            "text/plain": [
              "<Figure size 576x360 with 2 Axes>"
            ]
          },
          "metadata": {
            "needs_background": "light"
          },
          "output_type": "display_data"
        }
      ],
      "source": [
        "Selected_features = ['Age', 'TravelAlone', 'Pclass_1', 'Pclass_2', 'Embarked_C', \n",
        "                     'Embarked_S', 'Sex_male', 'IsMinor']\n",
        "X = final_train[Selected_features]\n",
        "\n",
        "plt.subplots(figsize=(8, 5))\n",
        "sns.heatmap(X.corr(), annot=True, cmap=\"RdYlGn\")\n",
        "plt.show()"
      ]
    },
    {
      "cell_type": "markdown",
      "metadata": {
        "_cell_guid": "f5fa764a-d2a7-41fc-ba73-764639f76c54",
        "_uuid": "c5027fb7-1731-4cf0-98d9-837793471137",
        "id": "Er3v5Za95YjC"
      },
      "source": [
        "<a id=\"t4.2.\"></a>\n",
        "## 4.2. Review of model evaluation procedures\n",
        "\n",
        "Motivation: Need a way to choose between machine learning models\n",
        "* Goal is to estimate likely performance of a model on out-of-sample data\n",
        "\n",
        "Initial idea: Train and test on the same data\n",
        "* But, maximizing training accuracy rewards overly complex models which overfit the training data\n",
        "\n",
        "Alternative idea: Train/test split\n",
        "* Split the dataset into two pieces, so that the model can be trained and tested on different data\n",
        "* Testing accuracy is a better estimate than training accuracy of out-of-sample performance\n",
        "* Problem with train/test split\n",
        "    * It provides a high variance estimate since changing which observations happen to be in the testing set can significantly change testing accuracy\n",
        "    * Testing accuracy can change a lot depending on a which observation happen to be in the testing set\n",
        "\n",
        "Reference: <br>\n",
        "http://www.ritchieng.com/machine-learning-cross-validation/ <br>"
      ]
    },
    {
      "cell_type": "markdown",
      "metadata": {
        "_cell_guid": "bc84739c-4093-47d1-9f4f-3db7962ffbaa",
        "_uuid": "500c66bd-58ca-44bd-a68d-d06a3cd7c956",
        "id": "eSeBJOP-5YjC"
      },
      "source": [
        "<a id=\"t4.2.1.\"></a>\n",
        "### 4.2.1. Model evaluation based on simple train/test split using `train_test_split()` function"
      ]
    },
    {
      "cell_type": "code",
      "execution_count": null,
      "metadata": {
        "_cell_guid": "afc82bda-f74a-4eb4-8e38-ff3bba4e83f1",
        "_uuid": "d94ca6ea-2403-4c2a-9cc6-55dbab91e505",
        "execution": {
          "iopub.execute_input": "2022-02-12T15:21:07.87298Z",
          "iopub.status.busy": "2022-02-12T15:21:07.872627Z",
          "iopub.status.idle": "2022-02-12T15:21:08.127871Z",
          "shell.execute_reply": "2022-02-12T15:21:08.126486Z",
          "shell.execute_reply.started": "2022-02-12T15:21:07.872921Z"
        },
        "jupyter": {
          "outputs_hidden": false
        },
        "id": "pw2PLyXt5YjD",
        "outputId": "baea5315-1222-4ae4-e1bb-5b2e3b219472"
      },
      "outputs": [
        {
          "name": "stdout",
          "output_type": "stream",
          "text": [
            "Train/Test split results:\n",
            "LogisticRegression accuracy is 0.782\n",
            "LogisticRegression log_loss is 0.504\n",
            "LogisticRegression auc is 0.839\n"
          ]
        },
        {
          "data": {
            "image/png": "[encoded data removed]",
            "text/plain": [
              "<Figure size 432x288 with 1 Axes>"
            ]
          },
          "metadata": {
            "needs_background": "light"
          },
          "output_type": "display_data"
        },
        {
          "name": "stdout",
          "output_type": "stream",
          "text": [
            "Using a threshold of 0.071 guarantees a sensitivity of 0.962 and a specificity of 0.200, i.e. a false positive rate of 80.00%.\n"
          ]
        }
      ],
      "source": [
        "from sklearn.model_selection import train_test_split, cross_val_score\n",
        "from sklearn.metrics import accuracy_score, classification_report, precision_score, recall_score \n",
        "from sklearn.metrics import confusion_matrix, precision_recall_curve, roc_curve, auc, log_loss\n",
        "\n",
        "# create X (features) and y (response)\n",
        "X = final_train[Selected_features]\n",
        "y = final_train['Survived']\n",
        "\n",
        "# use train/test split with different random_state values\n",
        "# we can change the random_state values that changes the accuracy scores\n",
        "# the scores change a lot, this is why testing scores is a high-variance estimate\n",
        "X_train, X_test, y_train, y_test = train_test_split(X, y, test_size=0.2, random_state=2)\n",
        "\n",
        "# check classification scores of logistic regression\n",
        "logreg = LogisticRegression()\n",
        "logreg.fit(X_train, y_train)\n",
        "y_pred = logreg.predict(X_test)\n",
        "y_pred_proba = logreg.predict_proba(X_test)[:, 1]\n",
        "[fpr, tpr, thr] = roc_curve(y_test, y_pred_proba)\n",
        "print('Train/Test split results:')\n",
        "print(logreg.__class__.__name__+\" accuracy is %2.3f\" % accuracy_score(y_test, y_pred))\n",
        "print(logreg.__class__.__name__+\" log_loss is %2.3f\" % log_loss(y_test, y_pred_proba))\n",
        "print(logreg.__class__.__name__+\" auc is %2.3f\" % auc(fpr, tpr))\n",
        "\n",
        "idx = np.min(np.where(tpr > 0.95)) # index of the first threshold for which the sensibility > 0.95\n",
        "\n",
        "plt.figure()\n",
        "plt.plot(fpr, tpr, color='coral', label='ROC curve (area = %0.3f)' % auc(fpr, tpr))\n",
        "plt.plot([0, 1], [0, 1], 'k--')\n",
        "plt.plot([0,fpr[idx]], [tpr[idx],tpr[idx]], 'k--', color='blue')\n",
        "plt.plot([fpr[idx],fpr[idx]], [0,tpr[idx]], 'k--', color='blue')\n",
        "plt.xlim([0.0, 1.0])\n",
        "plt.ylim([0.0, 1.05])\n",
        "plt.xlabel('False Positive Rate (1 - specificity)', fontsize=14)\n",
        "plt.ylabel('True Positive Rate (recall)', fontsize=14)\n",
        "plt.title('Receiver operating characteristic (ROC) curve')\n",
        "plt.legend(loc=\"lower right\")\n",
        "plt.show()\n",
        "\n",
        "print(\"Using a threshold of %.3f \" % thr[idx] + \"guarantees a sensitivity of %.3f \" % tpr[idx] +  \n",
        "      \"and a specificity of %.3f\" % (1-fpr[idx]) + \n",
        "      \", i.e. a false positive rate of %.2f%%.\" % (np.array(fpr[idx])*100))"
      ]
    },
    {
      "cell_type": "markdown",
      "metadata": {
        "_cell_guid": "7d5f0a1d-319e-4568-95aa-2448264c3662",
        "_uuid": "78f5fcbb-1130-49b0-abfd-c6bacdd27b9b",
        "id": "yEuY0UKG5YjD"
      },
      "source": [
        "<a id=\"t4.2.2.\"></a>\n",
        "### 4.2.2. Model evaluation based on K-fold cross-validation using `cross_val_score()` function"
      ]
    },
    {
      "cell_type": "code",
      "execution_count": null,
      "metadata": {
        "_cell_guid": "2ce1614a-d3d6-4350-a0d3-b357ee22718c",
        "_uuid": "862dc96d-d91c-4f51-9b02-6f32cf2ccce3",
        "execution": {
          "iopub.execute_input": "2022-02-12T15:21:08.130657Z",
          "iopub.status.busy": "2022-02-12T15:21:08.130071Z",
          "iopub.status.idle": "2022-02-12T15:21:08.328072Z",
          "shell.execute_reply": "2022-02-12T15:21:08.327348Z",
          "shell.execute_reply.started": "2022-02-12T15:21:08.130398Z"
        },
        "jupyter": {
          "outputs_hidden": false
        },
        "id": "AIvxh8L65YjD",
        "outputId": "aa3b434f-265f-42a5-ffc1-85d49b7d2f45"
      },
      "outputs": [
        {
          "name": "stdout",
          "output_type": "stream",
          "text": [
            "K-fold cross-validation results:\n",
            "LogisticRegression average accuracy is 0.802\n",
            "LogisticRegression average log_loss is 0.454\n",
            "LogisticRegression average auc is 0.850\n"
          ]
        }
      ],
      "source": [
        "# 10-fold cross-validation logistic regression\n",
        "logreg = LogisticRegression()\n",
        "# Use cross_val_score function\n",
        "# We are passing the entirety of X and y, not X_train or y_train, it takes care of splitting the data\n",
        "# cv=10 for 10 folds\n",
        "# scoring = {'accuracy', 'neg_log_loss', 'roc_auc'} for evaluation metric - althought they are many\n",
        "scores_accuracy = cross_val_score(logreg, X, y, cv=10, scoring='accuracy')\n",
        "scores_log_loss = cross_val_score(logreg, X, y, cv=10, scoring='neg_log_loss')\n",
        "scores_auc = cross_val_score(logreg, X, y, cv=10, scoring='roc_auc')\n",
        "print('K-fold cross-validation results:')\n",
        "print(logreg.__class__.__name__+\" average accuracy is %2.3f\" % scores_accuracy.mean())\n",
        "print(logreg.__class__.__name__+\" average log_loss is %2.3f\" % -scores_log_loss.mean())\n",
        "print(logreg.__class__.__name__+\" average auc is %2.3f\" % scores_auc.mean())"
      ]
    },
    {
      "cell_type": "markdown",
      "metadata": {
        "_cell_guid": "bd3a1cbc-9077-4b6f-9a16-d4ef8a81a72f",
        "_uuid": "f55f5b9e-8add-47b0-9bb6-0c6d1b8499ba",
        "id": "w_LlYJ_U5YjD"
      },
      "source": [
        "<a id=\"t4.2.3.\"></a>\n",
        "### 4.2.3. Model evaluation based on K-fold cross-validation using `cross_validate()` function"
      ]
    },
    {
      "cell_type": "code",
      "execution_count": null,
      "metadata": {
        "_cell_guid": "5e8fc58c-72fa-42a1-b045-5dd1daf4da08",
        "_uuid": "baab9b92-3812-4edf-8b1d-345daa4025ed",
        "execution": {
          "iopub.execute_input": "2022-02-12T15:21:08.329582Z",
          "iopub.status.busy": "2022-02-12T15:21:08.329358Z",
          "iopub.status.idle": "2022-02-12T15:21:08.422258Z",
          "shell.execute_reply": "2022-02-12T15:21:08.421464Z",
          "shell.execute_reply.started": "2022-02-12T15:21:08.329542Z"
        },
        "jupyter": {
          "outputs_hidden": false
        },
        "id": "kbtLkRHu5YjD",
        "outputId": "2f4aa8b0-230a-4d2c-922e-8e1cc72184a2"
      },
      "outputs": [
        {
          "name": "stdout",
          "output_type": "stream",
          "text": [
            "K-fold cross-validation results:\n",
            "LogisticRegression average accuracy: 0.802 (+/-0.025)\n",
            "LogisticRegression average log_loss: 0.454 (+/-0.034)\n",
            "LogisticRegression average auc: 0.850 (+/-0.025)\n"
          ]
        }
      ],
      "source": [
        "from sklearn.model_selection import cross_validate\n",
        "\n",
        "scoring = {'accuracy': 'accuracy', 'log_loss': 'neg_log_loss', 'auc': 'roc_auc'}\n",
        "\n",
        "modelCV = LogisticRegression()\n",
        "\n",
        "results = cross_validate(modelCV, X, y, cv=10, scoring=list(scoring.values()), \n",
        "                         return_train_score=False)\n",
        "\n",
        "print('K-fold cross-validation results:')\n",
        "for sc in range(len(scoring)):\n",
        "    print(modelCV.__class__.__name__+\" average %s: %.3f (+/-%.3f)\" % (list(scoring.keys())[sc], -results['test_%s' % list(scoring.values())[sc]].mean()\n",
        "                               if list(scoring.values())[sc]=='neg_log_loss' \n",
        "                               else results['test_%s' % list(scoring.values())[sc]].mean(), \n",
        "                               results['test_%s' % list(scoring.values())[sc]].std()))"
      ]
    },
    {
      "cell_type": "markdown",
      "metadata": {
        "_cell_guid": "083d6642-7d36-42f0-bd49-f00eeb4c0224",
        "_uuid": "671fb62e-6565-4e47-9e26-35805908369a",
        "id": "zQUmgiNb5YjD"
      },
      "source": [
        "<font color=bleu>What happens when we add the feature \"Fare\"?<font>"
      ]
    },
    {
      "cell_type": "code",
      "execution_count": null,
      "metadata": {
        "_cell_guid": "835adb7c-ae94-4871-ba43-157964b32632",
        "_uuid": "f12df32e-967b-4b6e-b1ad-4943ca8e5f6e",
        "execution": {
          "iopub.execute_input": "2022-02-12T15:21:08.423841Z",
          "iopub.status.busy": "2022-02-12T15:21:08.423618Z",
          "iopub.status.idle": "2022-02-12T15:21:08.524734Z",
          "shell.execute_reply": "2022-02-12T15:21:08.523919Z",
          "shell.execute_reply.started": "2022-02-12T15:21:08.4238Z"
        },
        "jupyter": {
          "outputs_hidden": false
        },
        "id": "m4hz12V_5YjD",
        "outputId": "6d4181cd-36f0-4855-ee81-807ca8825736"
      },
      "outputs": [
        {
          "name": "stdout",
          "output_type": "stream",
          "text": [
            "K-fold cross-validation results:\n",
            "LogisticRegression average accuracy: 0.796 (+/-0.028)\n",
            "LogisticRegression average log_loss: 0.455 (+/-0.034)\n",
            "LogisticRegression average auc: 0.849 (+/-0.025)\n"
          ]
        }
      ],
      "source": [
        "cols = [\"Age\",\"Fare\",\"TravelAlone\",\"Pclass_1\",\"Pclass_2\",\"Embarked_C\",\"Embarked_S\",\"Sex_male\",\"IsMinor\"]\n",
        "X = final_train[cols]\n",
        "\n",
        "scoring = {'accuracy': 'accuracy', 'log_loss': 'neg_log_loss', 'auc': 'roc_auc'}\n",
        "\n",
        "modelCV = LogisticRegression()\n",
        "\n",
        "results = cross_validate(modelCV, final_train[cols], y, cv=10, scoring=list(scoring.values()), \n",
        "                         return_train_score=False)\n",
        "\n",
        "print('K-fold cross-validation results:')\n",
        "for sc in range(len(scoring)):\n",
        "    print(modelCV.__class__.__name__+\" average %s: %.3f (+/-%.3f)\" % (list(scoring.keys())[sc], -results['test_%s' % list(scoring.values())[sc]].mean()\n",
        "                               if list(scoring.values())[sc]=='neg_log_loss' \n",
        "                               else results['test_%s' % list(scoring.values())[sc]].mean(), \n",
        "                               results['test_%s' % list(scoring.values())[sc]].std()))"
      ]
    },
    {
      "cell_type": "markdown",
      "metadata": {
        "_cell_guid": "ce13f536-ba1a-4626-b472-4da8126b3189",
        "_uuid": "296d5cae-0cb6-455f-9ab7-cc9fcf034531",
        "id": "jHUHbZEV5YjE"
      },
      "source": [
        "<font color=red>We notice that the model is slightly deteriorated. The \"Fare\" variable does not carry any useful information. Its presence is just a noise for the logistic regression model.<font>"
      ]
    },
    {
      "cell_type": "markdown",
      "metadata": {
        "_cell_guid": "886c7e56-6df5-4863-9398-9d841763ab73",
        "_uuid": "0b27487f-7a9a-4c01-afe0-4a0286076d5a",
        "id": "Hbekn6ps5YjE"
      },
      "source": [
        "<a id=\"t4.3.\"></a>\n",
        "## 4.3. GridSearchCV evaluating using multiple scorers simultaneously"
      ]
    },
    {
      "cell_type": "code",
      "execution_count": null,
      "metadata": {
        "_cell_guid": "86b94863-4168-4675-9b6a-461ddece5eaa",
        "_uuid": "9e2412e5-9e9f-41d0-ab6d-e38c59149393",
        "execution": {
          "iopub.execute_input": "2022-02-12T15:21:08.526454Z",
          "iopub.status.busy": "2022-02-12T15:21:08.526232Z",
          "iopub.status.idle": "2022-02-12T15:21:12.56342Z",
          "shell.execute_reply": "2022-02-12T15:21:12.562608Z",
          "shell.execute_reply.started": "2022-02-12T15:21:08.526414Z"
        },
        "jupyter": {
          "outputs_hidden": false
        },
        "id": "tNcMGWSC5YjE",
        "outputId": "9bb48877-b57e-4033-b779-ceec10067570"
      },
      "outputs": [
        {
          "name": "stdout",
          "output_type": "stream",
          "text": [
            "====================\n",
            "best params: LogisticRegression(C=2.8000100000000003, class_weight=None, dual=False,\n",
            "          fit_intercept=True, intercept_scaling=1, max_iter=100,\n",
            "          multi_class='warn', n_jobs=None, penalty='l2', random_state=None,\n",
            "          solver='warn', tol=0.0001, verbose=0, warm_start=False)\n",
            "best params: {'C': 2.8000100000000003}\n",
            "best score: 0.8069584736251403\n",
            "====================\n"
          ]
        },
        {
          "data": {
            "image/png": "[encoded data removed]",
            "text/plain": [
              "<Figure size 720x720 with 1 Axes>"
            ]
          },
          "metadata": {
            "needs_background": "light"
          },
          "output_type": "display_data"
        }
      ],
      "source": [
        "from sklearn.model_selection import GridSearchCV\n",
        "\n",
        "X = final_train[Selected_features]\n",
        "\n",
        "param_grid = {'C': np.arange(1e-05, 3, 0.1)}\n",
        "scoring = {'Accuracy': 'accuracy', 'AUC': 'roc_auc', 'Log_loss': 'neg_log_loss'}\n",
        "\n",
        "gs = GridSearchCV(LogisticRegression(), return_train_score=True,\n",
        "                  param_grid=param_grid, scoring=scoring, cv=10, refit='Accuracy')\n",
        "\n",
        "gs.fit(X, y)\n",
        "results = gs.cv_results_\n",
        "\n",
        "print('='*20)\n",
        "print(\"best params: \" + str(gs.best_estimator_))\n",
        "print(\"best params: \" + str(gs.best_params_))\n",
        "print('best score:', gs.best_score_)\n",
        "print('='*20)\n",
        "\n",
        "plt.figure(figsize=(10, 10))\n",
        "plt.title(\"GridSearchCV evaluating using multiple scorers simultaneously\",fontsize=16)\n",
        "\n",
        "plt.xlabel(\"Inverse of regularization strength: C\")\n",
        "plt.ylabel(\"Score\")\n",
        "plt.grid()\n",
        "\n",
        "ax = plt.axes()\n",
        "ax.set_xlim(0, param_grid['C'].max()) \n",
        "ax.set_ylim(0.35, 0.95)\n",
        "\n",
        "# Get the regular numpy array from the MaskedArray\n",
        "X_axis = np.array(results['param_C'].data, dtype=float)\n",
        "\n",
        "for scorer, color in zip(list(scoring.keys()), ['g', 'k', 'b']): \n",
        "    for sample, style in (('train', '--'), ('test', '-')):\n",
        "        sample_score_mean = -results['mean_%s_%s' % (sample, scorer)] if scoring[scorer]=='neg_log_loss' else results['mean_%s_%s' % (sample, scorer)]\n",
        "        sample_score_std = results['std_%s_%s' % (sample, scorer)]\n",
        "        ax.fill_between(X_axis, sample_score_mean - sample_score_std,\n",
        "                        sample_score_mean + sample_score_std,\n",
        "                        alpha=0.1 if sample == 'test' else 0, color=color)\n",
        "        ax.plot(X_axis, sample_score_mean, style, color=color,\n",
        "                alpha=1 if sample == 'test' else 0.7,\n",
        "                label=\"%s (%s)\" % (scorer, sample))\n",
        "\n",
        "    best_index = np.nonzero(results['rank_test_%s' % scorer] == 1)[0][0]\n",
        "    best_score = -results['mean_test_%s' % scorer][best_index] if scoring[scorer]=='neg_log_loss' else results['mean_test_%s' % scorer][best_index]\n",
        "        \n",
        "    # Plot a dotted vertical line at the best score for that scorer marked by x\n",
        "    ax.plot([X_axis[best_index], ] * 2, [0, best_score],\n",
        "            linestyle='-.', color=color, marker='x', markeredgewidth=3, ms=8)\n",
        "\n",
        "    # Annotate the best score for that scorer\n",
        "    ax.annotate(\"%0.2f\" % best_score,\n",
        "                (X_axis[best_index], best_score + 0.005))\n",
        "\n",
        "plt.legend(loc=\"best\")\n",
        "plt.grid('off')\n",
        "plt.show()"
      ]
    },
    {
      "cell_type": "markdown",
      "metadata": {
        "_cell_guid": "7e7b21eb-048e-4785-90aa-f23d5c482fb8",
        "_uuid": "5aa74b30-fee6-433d-9d58-a589b4aa53f5",
        "id": "cP5kf-IR5YjE"
      },
      "source": [
        "<a id=\"t4.4.\"></a>\n",
        "## 4.4. GridSearchCV evaluating using multiple scorers, RepeatedStratifiedKFold and pipeline for preprocessing simultaneously\n",
        "\n",
        "We can applied many tasks together for more in-depth evaluation like gridsearch using cross-validation based on k-folds repeated many times, that can be scaled or no with respect to many scorers and tunning on parameter for a given estimator!"
      ]
    },
    {
      "cell_type": "code",
      "execution_count": null,
      "metadata": {
        "_cell_guid": "0044adae-ba58-479f-81f8-9e69f0b40602",
        "_uuid": "a4723a6f-c523-47b2-a6f9-7ec6efd49363",
        "execution": {
          "iopub.execute_input": "2022-02-12T15:21:12.565136Z",
          "iopub.status.busy": "2022-02-12T15:21:12.564906Z",
          "iopub.status.idle": "2022-02-12T15:21:33.012168Z",
          "shell.execute_reply": "2022-02-12T15:21:33.011215Z",
          "shell.execute_reply.started": "2022-02-12T15:21:12.565094Z"
        },
        "jupyter": {
          "outputs_hidden": false
        },
        "id": "za6OXTX05YjE",
        "outputId": "531c89a7-17d6-4d4d-dbc2-5c9cb13c69f5"
      },
      "outputs": [
        {
          "name": "stdout",
          "output_type": "stream",
          "text": [
            "====================\n",
            "best params: Pipeline(memory=None,\n",
            "     steps=[('scale', StandardScaler(copy=True, with_mean=False, with_std=False)), ('clf', LogisticRegression(C=5.10001, class_weight=None, dual=False,\n",
            "          fit_intercept=True, intercept_scaling=1, max_iter=100,\n",
            "          multi_class='warn', n_jobs=None, penalty='l2', random_state=None,\n",
            "          solver='warn', tol=0.0001, verbose=0, warm_start=False))])\n",
            "best params: {'clf__C': 5.10001}\n",
            "best score: 0.7966329966329966\n",
            "====================\n"
          ]
        },
        {
          "data": {
            "image/png": "[encoded data removed]",
            "text/plain": [
              "<Figure size 720x720 with 1 Axes>"
            ]
          },
          "metadata": {
            "needs_background": "light"
          },
          "output_type": "display_data"
        }
      ],
      "source": [
        "from sklearn.preprocessing import StandardScaler\n",
        "from sklearn.model_selection import RepeatedStratifiedKFold\n",
        "from sklearn.pipeline import Pipeline\n",
        "\n",
        "#Define simple model\n",
        "###############################################################################\n",
        "C = np.arange(1e-05, 5.5, 0.1)\n",
        "scoring = {'Accuracy': 'accuracy', 'AUC': 'roc_auc', 'Log_loss': 'neg_log_loss'}\n",
        "log_reg = LogisticRegression()\n",
        "\n",
        "#Simple pre-processing estimators\n",
        "###############################################################################\n",
        "std_scale = StandardScaler(with_mean=False, with_std=False)\n",
        "#std_scale = StandardScaler()\n",
        "\n",
        "#Defining the CV method: Using the Repeated Stratified K Fold\n",
        "###############################################################################\n",
        "\n",
        "n_folds=5\n",
        "n_repeats=5\n",
        "\n",
        "rskfold = RepeatedStratifiedKFold(n_splits=n_folds, n_repeats=n_repeats, random_state=2)\n",
        "\n",
        "#Creating simple pipeline and defining the gridsearch\n",
        "###############################################################################\n",
        "\n",
        "log_clf_pipe = Pipeline(steps=[('scale',std_scale), ('clf',log_reg)])\n",
        "\n",
        "log_clf = GridSearchCV(estimator=log_clf_pipe, cv=rskfold,\n",
        "              scoring=scoring, return_train_score=True,\n",
        "              param_grid=dict(clf__C=C), refit='Accuracy')\n",
        "\n",
        "log_clf.fit(X, y)\n",
        "results = log_clf.cv_results_\n",
        "\n",
        "print('='*20)\n",
        "print(\"best params: \" + str(log_clf.best_estimator_))\n",
        "print(\"best params: \" + str(log_clf.best_params_))\n",
        "print('best score:', log_clf.best_score_)\n",
        "print('='*20)\n",
        "\n",
        "plt.figure(figsize=(10, 10))\n",
        "plt.title(\"GridSearchCV evaluating using multiple scorers simultaneously\",fontsize=16)\n",
        "\n",
        "plt.xlabel(\"Inverse of regularization strength: C\")\n",
        "plt.ylabel(\"Score\")\n",
        "plt.grid()\n",
        "\n",
        "ax = plt.axes()\n",
        "ax.set_xlim(0, C.max()) \n",
        "ax.set_ylim(0.35, 0.95)\n",
        "\n",
        "# Get the regular numpy array from the MaskedArray\n",
        "X_axis = np.array(results['param_clf__C'].data, dtype=float)\n",
        "\n",
        "for scorer, color in zip(list(scoring.keys()), ['g', 'k', 'b']): \n",
        "    for sample, style in (('train', '--'), ('test', '-')):\n",
        "        sample_score_mean = -results['mean_%s_%s' % (sample, scorer)] if scoring[scorer]=='neg_log_loss' else results['mean_%s_%s' % (sample, scorer)]\n",
        "        sample_score_std = results['std_%s_%s' % (sample, scorer)]\n",
        "        ax.fill_between(X_axis, sample_score_mean - sample_score_std,\n",
        "                        sample_score_mean + sample_score_std,\n",
        "                        alpha=0.1 if sample == 'test' else 0, color=color)\n",
        "        ax.plot(X_axis, sample_score_mean, style, color=color,\n",
        "                alpha=1 if sample == 'test' else 0.7,\n",
        "                label=\"%s (%s)\" % (scorer, sample))\n",
        "\n",
        "    best_index = np.nonzero(results['rank_test_%s' % scorer] == 1)[0][0]\n",
        "    best_score = -results['mean_test_%s' % scorer][best_index] if scoring[scorer]=='neg_log_loss' else results['mean_test_%s' % scorer][best_index]\n",
        "        \n",
        "    # Plot a dotted vertical line at the best score for that scorer marked by x\n",
        "    ax.plot([X_axis[best_index], ] * 2, [0, best_score],\n",
        "            linestyle='-.', color=color, marker='x', markeredgewidth=3, ms=8)\n",
        "\n",
        "    # Annotate the best score for that scorer\n",
        "    ax.annotate(\"%0.2f\" % best_score,\n",
        "                (X_axis[best_index], best_score + 0.005))\n",
        "\n",
        "plt.legend(loc=\"best\")\n",
        "plt.grid('off')\n",
        "plt.show()"
      ]
    },
    {
      "cell_type": "markdown",
      "metadata": {
        "_cell_guid": "6d4031e6-db94-47a6-a651-cffc374f3334",
        "_uuid": "842a227b-16aa-4031-82a6-e44a9bec6a1d",
        "id": "KWceFnz05YjE"
      },
      "source": [
        "final_test['Survived'] = log_clf.predict(final_test[Selected_features])\n",
        "final_test['PassengerId'] = test_df['PassengerId']\n",
        "\n",
        "submission = final_test[['PassengerId','Survived']]\n",
        "\n",
        "submission.to_csv(\"submission.csv\", index=False)\n",
        "\n",
        "submission.tail()"
      ]
    }
  ],
  "metadata": {
    "kernelspec": {
      "display_name": "Python 3",
      "language": "python",
      "name": "python3"
    },
    "language_info": {
      "codemirror_mode": {
        "name": "ipython",
        "version": 3
      },
      "file_extension": ".py",
      "mimetype": "text/x-python",
      "name": "python",
      "nbconvert_exporter": "python",
      "pygments_lexer": "ipython3",
      "version": "3.6.6"
    },
    "colab": {
      "name": "titanic-logistic-regression-week5-6.ipynb",
      "provenance": [],
      "include_colab_link": true
    }
  },
  "nbformat": 4,
  "nbformat_minor": 0
}