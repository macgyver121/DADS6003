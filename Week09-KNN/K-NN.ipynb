{
  "cells": [
    {
      "cell_type": "markdown",
      "metadata": {
        "id": "view-in-github",
        "colab_type": "text"
      },
      "source": [
        "<a href=\"https://colab.research.google.com/github/macgyver121/DADS6003/blob/main/Week09-KNN/K-NN.ipynb\" target=\"_parent\"><img src=\"https://colab.research.google.com/assets/colab-badge.svg\" alt=\"Open In Colab\"/></a>"
      ]
    },
    {
      "cell_type": "markdown",
      "metadata": {
        "id": "Y5MgDuSlfy6N"
      },
      "source": [
        "# K-nearest neighbors"
      ]
    },
    {
      "cell_type": "code",
      "execution_count": 62,
      "metadata": {
        "id": "0gcrqAdpfy6P"
      },
      "outputs": [],
      "source": [
        "# Example of getting neighbors for an instance\n",
        "from math import sqrt\n",
        "import matplotlib.pyplot as plt\n",
        "import seaborn as sns; sns.set()  # for plot styling\n",
        "import numpy as np\n",
        "\n",
        "# calculate the Euclidean distance between two vectors\n",
        "def euclidean_distance(row1, row2):\n",
        "    distance = 0.0\n",
        "    for i in range(len(row1)-1):\n",
        "        distance += (row1[i] - row2[i])**2\n",
        "    return sqrt(distance)\n",
        "\n",
        "# Locate the most similar neighbors\n",
        "def get_neighbors(train, test_row, num_neighbors):\n",
        "    distances = list()\n",
        "    for train_row in train:\n",
        "        dist = euclidean_distance(test_row, train_row)\n",
        "        #if dist != 0.0:\n",
        "        distances.append((train_row, dist))\n",
        "    distances.sort(key=lambda tup: tup[1])\n",
        "    neighbors = list()\n",
        "    for i in range(num_neighbors):\n",
        "        neighbors.append(distances[i][0])\n",
        "    return neighbors\n",
        "\n",
        "# Test distance function\n",
        "dataset = np.array([[1,2,0],\n",
        "                    [1,2.5,0],\n",
        "                    [7,2,1],\n",
        "                    [3,2.3,1],\n",
        "                    [4,2.1,1]])\n",
        "\n",
        "test = np.array([[2,2]])\n",
        "\n",
        "#plt.scatter(dataset[:, 0], dataset[:, 1],c = dataset[:,2], s=50, cmap='viridis')\n",
        "#plt.show()\n",
        "#print(\"Target = \",dataset[0])\n",
        "\n",
        "#Your implementation\n",
        "def voting(df_nearest, y_train):\n",
        "  pass"
      ]
    },
    {
      "cell_type": "code",
      "source": [
        "neighbors = np.array(get_neighbors(dataset, test, 2))\n",
        "for neighbor in neighbors:\n",
        "    print(neighbor)\n",
        "\n",
        "plt.scatter(dataset[:, 0], dataset[:, 1],c = dataset[:,2], s=30, cmap='viridis')\n",
        "plt.scatter(neighbors[:, 0], neighbors[:, 1], c='red', s=200, alpha=0.7)\n",
        "plt.scatter(test[0,0], test[0,1], c='green', s=100, alpha=0.7)\n",
        "plt.show()"
      ],
      "metadata": {
        "id": "GpiOo5eDke-P",
        "outputId": "ff02e2db-8159-4c4b-e8d7-4c6d1bdac917",
        "colab": {
          "base_uri": "https://localhost:8080/",
          "height": 302
        }
      },
      "execution_count": 63,
      "outputs": [
        {
          "output_type": "stream",
          "name": "stdout",
          "text": [
            "[1. 2. 0.]\n",
            "[1.  2.5 0. ]\n"
          ]
        },
        {
          "output_type": "display_data",
          "data": {
            "text/plain": [
              "<Figure size 432x288 with 1 Axes>"
            ],
            "image/png": "[encoded data removed]"
          },
          "metadata": {}
        }
      ]
    },
    {
      "cell_type": "markdown",
      "metadata": {
        "id": "_qVokHpmfy6T"
      },
      "source": [
        "# *** SK-Learn ***"
      ]
    },
    {
      "cell_type": "code",
      "execution_count": 64,
      "metadata": {
        "id": "-f01gk0xfy6U",
        "outputId": "95f7c8f7-217d-4bd3-beef-60d6899764fb",
        "colab": {
          "base_uri": "https://localhost:8080/",
          "height": 306
        }
      },
      "outputs": [
        {
          "output_type": "stream",
          "name": "stdout",
          "text": [
            "result =  (array([[1.        , 1.04403065, 1.11803399, 2.00249844]]), array([[0, 3, 1, 4]]))\n"
          ]
        },
        {
          "output_type": "display_data",
          "data": {
            "text/plain": [
              "<Figure size 432x288 with 1 Axes>"
            ],
            "image/png": "[encoded data removed]"
          },
          "metadata": {}
        }
      ],
      "source": [
        "from sklearn.neighbors import NearestNeighbors\n",
        "neigh = NearestNeighbors(n_neighbors=4)\n",
        "neigh.fit(dataset[:, :2], dataset[:,2])\n",
        "\n",
        "result = neigh.kneighbors(test)\n",
        "print(\"result = \",result) #distance and index\n",
        "\n",
        "#Plot all points\n",
        "plt.scatter(dataset[:, 0], dataset[:, 1],c = dataset[:,2], s=30, cmap='viridis')\n",
        "#Plot neighbors\n",
        "plt.scatter(dataset[result[1][0:], 0], dataset[result[1][0:], 1], c='red', s=200, alpha=0.7)\n",
        "#Plot target\n",
        "plt.scatter(test[0,0], test[0,1], c='green', s=100, alpha=0.7)\n",
        "plt.show()\n"
      ]
    },
    {
      "cell_type": "markdown",
      "source": [
        "KNeighborsClassifier"
      ],
      "metadata": {
        "id": "bAFy3EjzWtQ8"
      }
    },
    {
      "cell_type": "code",
      "source": [
        "from sklearn.neighbors import KNeighborsClassifier\n",
        "#from sklearn.metrics import classification_report\n",
        "knn = KNeighborsClassifier(n_neighbors = 5)\n",
        "knn.fit(dataset[:, :2], dataset[:,2])\n",
        "answer = knn.predict(test)\n",
        "print(answer)"
      ],
      "metadata": {
        "colab": {
          "base_uri": "https://localhost:8080/"
        },
        "id": "ZqnaJIQ_WskX",
        "outputId": "e3970239-3abe-4c54-a5f6-be4d3d809f0a"
      },
      "execution_count": 65,
      "outputs": [
        {
          "output_type": "stream",
          "name": "stdout",
          "text": [
            "[1.]\n"
          ]
        }
      ]
    },
    {
      "cell_type": "code",
      "source": [
        "# if n = 3\n",
        "from sklearn.neighbors import KNeighborsClassifier\n",
        "#from sklearn.metrics import classification_report\n",
        "knn = KNeighborsClassifier(n_neighbors = 3)\n",
        "knn.fit(dataset[:, :2], dataset[:,2])\n",
        "answer = knn.predict(test)\n",
        "print(answer)"
      ],
      "metadata": {
        "id": "H_3QOUhHmZCE",
        "outputId": "046de386-1af6-4bd0-fee3-a5ccbad6f271",
        "colab": {
          "base_uri": "https://localhost:8080/"
        }
      },
      "execution_count": 66,
      "outputs": [
        {
          "output_type": "stream",
          "name": "stdout",
          "text": [
            "[0.]\n"
          ]
        }
      ]
    },
    {
      "cell_type": "markdown",
      "metadata": {
        "id": "vnC9cfgyfy6W"
      },
      "source": [
        "# K-NN with real data"
      ]
    },
    {
      "cell_type": "code",
      "execution_count": 67,
      "metadata": {
        "id": "VdRuYYsJfy6W",
        "outputId": "96c81aab-70b3-4d7f-e8b2-155494e1a39d",
        "colab": {
          "base_uri": "https://localhost:8080/"
        }
      },
      "outputs": [
        {
          "output_type": "stream",
          "name": "stdout",
          "text": [
            ".. _iris_dataset:\n",
            "\n",
            "Iris plants dataset\n",
            "--------------------\n",
            "\n",
            "**Data Set Characteristics:**\n",
            "\n",
            "    :Number of Instances: 150 (50 in each of three classes)\n",
            "    :Number of Attributes: 4 numeric, predictive attributes and the class\n",
            "    :Attribute Information:\n",
            "        - sepal length in cm\n",
            "        - sepal width in cm\n",
            "        - petal length in cm\n",
            "        - petal width in cm\n",
            "        - class:\n",
            "                - Iris-Setosa\n",
            "                - Iris-Versicolour\n",
            "                - Iris-Virginica\n",
            "                \n",
            "    :Summary Statistics:\n",
            "\n",
            "    ============== ==== ==== ======= ===== ====================\n",
            "                    Min  Max   Mean    SD   Class Correlation\n",
            "    ============== ==== ==== ======= ===== ====================\n",
            "    sepal length:   4.3  7.9   5.84   0.83    0.7826\n",
            "    sepal width:    2.0  4.4   3.05   0.43   -0.4194\n",
            "    petal length:   1.0  6.9   3.76   1.76    0.9490  (high!)\n",
            "    petal width:    0.1  2.5   1.20   0.76    0.9565  (high!)\n",
            "    ============== ==== ==== ======= ===== ====================\n",
            "\n",
            "    :Missing Attribute Values: None\n",
            "    :Class Distribution: 33.3% for each of 3 classes.\n",
            "    :Creator: R.A. Fisher\n",
            "    :Donor: Michael Marshall (MARSHALL%PLU@io.arc.nasa.gov)\n",
            "    :Date: July, 1988\n",
            "\n",
            "The famous Iris database, first used by Sir R.A. Fisher. The dataset is taken\n",
            "from Fisher's paper. Note that it's the same as in R, but not as in the UCI\n",
            "Machine Learning Repository, which has two wrong data points.\n",
            "\n",
            "This is perhaps the best known database to be found in the\n",
            "pattern recognition literature.  Fisher's paper is a classic in the field and\n",
            "is referenced frequently to this day.  (See Duda & Hart, for example.)  The\n",
            "data set contains 3 classes of 50 instances each, where each class refers to a\n",
            "type of iris plant.  One class is linearly separable from the other 2; the\n",
            "latter are NOT linearly separable from each other.\n",
            "\n",
            ".. topic:: References\n",
            "\n",
            "   - Fisher, R.A. \"The use of multiple measurements in taxonomic problems\"\n",
            "     Annual Eugenics, 7, Part II, 179-188 (1936); also in \"Contributions to\n",
            "     Mathematical Statistics\" (John Wiley, NY, 1950).\n",
            "   - Duda, R.O., & Hart, P.E. (1973) Pattern Classification and Scene Analysis.\n",
            "     (Q327.D83) John Wiley & Sons.  ISBN 0-471-22361-1.  See page 218.\n",
            "   - Dasarathy, B.V. (1980) \"Nosing Around the Neighborhood: A New System\n",
            "     Structure and Classification Rule for Recognition in Partially Exposed\n",
            "     Environments\".  IEEE Transactions on Pattern Analysis and Machine\n",
            "     Intelligence, Vol. PAMI-2, No. 1, 67-71.\n",
            "   - Gates, G.W. (1972) \"The Reduced Nearest Neighbor Rule\".  IEEE Transactions\n",
            "     on Information Theory, May 1972, 431-433.\n",
            "   - See also: 1988 MLC Proceedings, 54-64.  Cheeseman et al\"s AUTOCLASS II\n",
            "     conceptual clustering system finds 3 classes in the data.\n",
            "   - Many, many more ...\n",
            "[0 0 0 0 0 0 0 0 0 0 0 0 0 0 0 0 0 0 0 0 0 0 0 0 0 0 0 0 0 0 0 0 0 0 0 0 0\n",
            " 0 0 0 0 0 0 0 0 0 0 0 0 0 1 1 1 1 1 1 1 1 1 1 1 1 1 1 1 1 1 1 1 1 1 1 1 1\n",
            " 1 1 1 1 1 1 1 1 1 1 1 1 1 1 1 1 1 1 1 1 1 1 1 1 1 1 2 2 2 2 2 2 2 2 2 2 2\n",
            " 2 2 2 2 2 2 2 2 2 2 2 2 2 2 2 2 2 2 2 2 2 2 2 2 2 2 2 2 2 2 2 2 2 2 2 2 2\n",
            " 2 2]\n"
          ]
        }
      ],
      "source": [
        "from sklearn import datasets\n",
        "data = datasets.load_iris()\n",
        "print(data.DESCR)\n",
        "print(data.target)"
      ]
    },
    {
      "cell_type": "code",
      "execution_count": 68,
      "metadata": {
        "id": "2F1j8nfrfy6X",
        "outputId": "243b0215-5173-4d4c-c1fe-382011255571",
        "colab": {
          "base_uri": "https://localhost:8080/",
          "height": 286
        }
      },
      "outputs": [
        {
          "output_type": "execute_result",
          "data": {
            "text/plain": [
              "<matplotlib.collections.PathCollection at 0x7f9a9f424f90>"
            ]
          },
          "metadata": {},
          "execution_count": 68
        },
        {
          "output_type": "display_data",
          "data": {
            "text/plain": [
              "<Figure size 432x288 with 1 Axes>"
            ],
            "image/png": "[encoded data removed]"
          },
          "metadata": {
            "needs_background": "light"
          }
        }
      ],
      "source": [
        "import matplotlib.pyplot as plt\n",
        "%matplotlib inline\n",
        "x = range(50)\n",
        "plt.scatter(x,data.data[:50,3],color='red') #petal width of Setosa\n",
        "plt.scatter(x,data.data[50:100,3],color='blue') #petal width of Versicolour \n",
        "plt.scatter(x,data.data[100:,3],color='green') #petal width of Virginica"
      ]
    },
    {
      "cell_type": "code",
      "execution_count": 69,
      "metadata": {
        "id": "U0t3NvK-fy6X",
        "outputId": "e4b20ead-e852-43be-d338-e639c3635612",
        "colab": {
          "base_uri": "https://localhost:8080/",
          "height": 286
        }
      },
      "outputs": [
        {
          "output_type": "execute_result",
          "data": {
            "text/plain": [
              "<matplotlib.collections.PathCollection at 0x7f9a9f60ff90>"
            ]
          },
          "metadata": {},
          "execution_count": 69
        },
        {
          "output_type": "display_data",
          "data": {
            "text/plain": [
              "<Figure size 432x288 with 1 Axes>"
            ],
            "image/png": "[encoded data removed]"
          },
          "metadata": {
            "needs_background": "light"
          }
        }
      ],
      "source": [
        "plt.scatter(x,data.data[:50,2],color='red') #petal length of Setosa\n",
        "plt.scatter(x,data.data[50:100,2],color='blue') #petal length of Versicolour \n",
        "plt.scatter(x,data.data[100:,2],color='green') #petal length of Virginica"
      ]
    },
    {
      "cell_type": "code",
      "execution_count": 70,
      "metadata": {
        "id": "RTYo552_fy6Y",
        "outputId": "372209a8-decf-4718-d4a0-c92b6aeae47b",
        "colab": {
          "base_uri": "https://localhost:8080/"
        }
      },
      "outputs": [
        {
          "output_type": "stream",
          "name": "stdout",
          "text": [
            "Train Shape X: (120, 2) Y : (120,)\n",
            "Test Shape X: (30, 2) Y : (30,)\n"
          ]
        }
      ],
      "source": [
        "from sklearn.model_selection import train_test_split\n",
        "X_train, X_test, y_train, y_test = train_test_split(data.data[:,2:4], data.target, test_size=0.2, random_state=42,stratify=data.target) #petal length + width\n",
        "print('Train Shape X: {} Y : {}'.format(X_train.shape,y_train.shape))\n",
        "print('Test Shape X: {} Y : {}'.format(X_test.shape,y_test.shape))"
      ]
    },
    {
      "cell_type": "code",
      "execution_count": 79,
      "metadata": {
        "id": "9gVs9ChMfy6Z",
        "outputId": "68b419f7-efe2-445d-9244-4bfed214093f",
        "colab": {
          "base_uri": "https://localhost:8080/"
        }
      },
      "outputs": [
        {
          "output_type": "stream",
          "name": "stdout",
          "text": [
            "              precision    recall  f1-score   support\n",
            "\n",
            "           0       1.00      1.00      1.00        10\n",
            "           1       0.83      1.00      0.91        10\n",
            "           2       1.00      0.80      0.89        10\n",
            "\n",
            "    accuracy                           0.93        30\n",
            "   macro avg       0.94      0.93      0.93        30\n",
            "weighted avg       0.94      0.93      0.93        30\n",
            "\n"
          ]
        }
      ],
      "source": [
        "# original method\n",
        "from sklearn.neighbors import KNeighborsClassifier\n",
        "from sklearn.metrics import classification_report\n",
        "knn = KNeighborsClassifier(n_neighbors = 2)\n",
        "knn.fit(X_train,y_train)\n",
        "answer = knn.predict(X_test)\n",
        "print(classification_report(y_test, answer))"
      ]
    },
    {
      "cell_type": "code",
      "source": [
        "# add GridSearchCV\n",
        "from sklearn.preprocessing import StandardScaler\n",
        "\n",
        "X_train, X_test, y_train, y_test = train_test_split(data.data[:,2:4], data.target, test_size=0.2, random_state=42,stratify=data.target)\n",
        "\n",
        "from sklearn.model_selection import GridSearchCV\n",
        "parameters = {'n_neighbors': range(3,11)}\n",
        "\n",
        "knn_best = GridSearchCV(knn, parameters, cv=5)\n",
        "knn_best.fit(X_train,y_train)\n",
        "print(knn_best.best_params_)\n",
        "print(knn_best.best_estimator_)\n",
        "answer = knn_best.predict(X_test)\n",
        "print(classification_report(y_test, answer))"
      ],
      "metadata": {
        "colab": {
          "base_uri": "https://localhost:8080/"
        },
        "id": "bShOwURrgIKO",
        "outputId": "3834da5b-efe6-4603-8eb9-0cb868d528e4"
      },
      "execution_count": 76,
      "outputs": [
        {
          "output_type": "stream",
          "name": "stdout",
          "text": [
            "{'n_neighbors': 4}\n",
            "KNeighborsClassifier(n_neighbors=4)\n",
            "              precision    recall  f1-score   support\n",
            "\n",
            "           0       1.00      1.00      1.00        10\n",
            "           1       1.00      0.90      0.95        10\n",
            "           2       0.91      1.00      0.95        10\n",
            "\n",
            "    accuracy                           0.97        30\n",
            "   macro avg       0.97      0.97      0.97        30\n",
            "weighted avg       0.97      0.97      0.97        30\n",
            "\n"
          ]
        }
      ]
    },
    {
      "cell_type": "code",
      "execution_count": 73,
      "metadata": {
        "id": "Y_BOpXtWfy6a",
        "outputId": "41c4fe32-ca84-4ffe-b45e-916c35113fa9",
        "colab": {
          "base_uri": "https://localhost:8080/"
        }
      },
      "outputs": [
        {
          "output_type": "stream",
          "name": "stdout",
          "text": [
            "{'n_neighbors': 4}\n",
            "KNeighborsClassifier(n_neighbors=4)\n",
            "              precision    recall  f1-score   support\n",
            "\n",
            "           0       1.00      1.00      1.00        10\n",
            "           1       1.00      1.00      1.00        10\n",
            "           2       1.00      1.00      1.00        10\n",
            "\n",
            "    accuracy                           1.00        30\n",
            "   macro avg       1.00      1.00      1.00        30\n",
            "weighted avg       1.00      1.00      1.00        30\n",
            "\n"
          ]
        }
      ],
      "source": [
        "# add StandardScaler\n",
        "from sklearn.preprocessing import StandardScaler\n",
        "scaler = StandardScaler()\n",
        "X = scaler.fit_transform(data.data[:,2:4])\n",
        "X_train, X_test, y_train, y_test = train_test_split(X, data.target, test_size=0.2, random_state=42,stratify=data.target)\n",
        "\n",
        "from sklearn.model_selection import GridSearchCV\n",
        "parameters = {'n_neighbors': range(3,11)}\n",
        "\n",
        "knn_best = GridSearchCV(knn, parameters, cv=5)\n",
        "knn_best.fit(X_train,y_train)\n",
        "print(knn_best.best_params_)\n",
        "print(knn_best.best_estimator_)\n",
        "answer = knn_best.predict(X_test)\n",
        "print(classification_report(y_test, answer))"
      ]
    },
    {
      "cell_type": "code",
      "source": [
        "plt.scatter(x,X[:50,1],color='red') #petal length of Setosa\n",
        "plt.scatter(x,X[50:100,1],color='blue') #petal length of Versicolour \n",
        "plt.scatter(x,X[100:,1],color='green') #petal length of Virginica"
      ],
      "metadata": {
        "colab": {
          "base_uri": "https://localhost:8080/",
          "height": 286
        },
        "id": "iypCc5uUfizi",
        "outputId": "9a3f4467-d30c-458d-a61b-49c5b942cd31"
      },
      "execution_count": 74,
      "outputs": [
        {
          "output_type": "execute_result",
          "data": {
            "text/plain": [
              "<matplotlib.collections.PathCollection at 0x7f9a9f528790>"
            ]
          },
          "metadata": {},
          "execution_count": 74
        },
        {
          "output_type": "display_data",
          "data": {
            "text/plain": [
              "<Figure size 432x288 with 1 Axes>"
            ],
            "image/png": "[encoded data removed]"
          },
          "metadata": {
            "needs_background": "light"
          }
        }
      ]
    },
    {
      "cell_type": "markdown",
      "source": [
        "If the data is normally/uniformly distributed, then Standardization is the suitable method for the scaling purpose. On the other hand, if the data is not normally distributed, we go with Normalization scaling method"
      ],
      "metadata": {
        "id": "AdgQDewjn3VN"
      }
    }
  ],
  "metadata": {
    "kernelspec": {
      "display_name": "Python 3",
      "language": "python",
      "name": "python3"
    },
    "language_info": {
      "codemirror_mode": {
        "name": "ipython",
        "version": 3
      },
      "file_extension": ".py",
      "mimetype": "text/x-python",
      "name": "python",
      "nbconvert_exporter": "python",
      "pygments_lexer": "ipython3",
      "version": "3.7.4"
    },
    "colab": {
      "name": "K-NN.ipynb",
      "provenance": [],
      "include_colab_link": true
    }
  },
  "nbformat": 4,
  "nbformat_minor": 0
}