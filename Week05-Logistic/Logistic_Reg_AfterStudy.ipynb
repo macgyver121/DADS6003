{
  "cells": [
    {
      "cell_type": "markdown",
      "metadata": {
        "id": "view-in-github",
        "colab_type": "text"
      },
      "source": [
        "<a href=\"https://colab.research.google.com/github/macgyver121/DADS6003/blob/main/Week05-Logistic/Logistic_Reg_AfterStudy.ipynb\" target=\"_parent\"><img src=\"https://colab.research.google.com/assets/colab-badge.svg\" alt=\"Open In Colab\"/></a>"
      ]
    },
    {
      "cell_type": "markdown",
      "metadata": {
        "id": "DDZqa5YGhbJI"
      },
      "source": [
        "# Classification"
      ]
    },
    {
      "cell_type": "markdown",
      "metadata": {
        "id": "4qVcq6I0hbJK"
      },
      "source": [
        "# Logistic Regression"
      ]
    },
    {
      "cell_type": "code",
      "execution_count": 2,
      "metadata": {
        "id": "vLbsb2x4hbJK"
      },
      "outputs": [],
      "source": [
        "from sklearn.datasets import make_classification\n",
        "import numpy as np"
      ]
    },
    {
      "cell_type": "markdown",
      "metadata": {
        "id": "yWhSE0uohbJL"
      },
      "source": [
        "# Sigmoid function"
      ]
    },
    {
      "cell_type": "code",
      "execution_count": 3,
      "metadata": {
        "id": "RGuHq7rNhbJL"
      },
      "outputs": [],
      "source": [
        "def sigmoid(z):\n",
        "    \"\"\" sigmoid \"\"\"\n",
        "    return 1 / (1 + np.exp(-z))"
      ]
    },
    {
      "cell_type": "markdown",
      "metadata": {
        "id": "2xQXCqvThbJL"
      },
      "source": [
        "# Cost function"
      ]
    },
    {
      "cell_type": "code",
      "execution_count": 4,
      "metadata": {
        "id": "hPlP2iW8hbJM"
      },
      "outputs": [],
      "source": [
        "def cost(x, y, theta):\n",
        "    m = x.shape[0]\n",
        "    h = sigmoid(np.matmul(x, theta))\n",
        "    print(\"h = \",h)\n",
        "    cost = -1* (1/m)*(np.matmul(-y.T, np.log(h)) + np.matmul((1 -y.T), np.log(1 - h)))\n",
        "    return cost"
      ]
    },
    {
      "cell_type": "markdown",
      "metadata": {
        "id": "UwIRk8XahbJM"
      },
      "source": [
        "# Gradient descent"
      ]
    },
    {
      "cell_type": "code",
      "execution_count": 5,
      "metadata": {
        "id": "BiQ_pVLhhbJM"
      },
      "outputs": [],
      "source": [
        "def gradient_Descent(theta, alpha, x , y):\n",
        "    m = x.shape[0]\n",
        "    h = sigmoid(theta.T.dot(x.T))\n",
        "    error = h-y\n",
        "    grad = x.T.dot(error.T)\n",
        "    theta = theta - (alpha * grad)/m\n",
        "    return theta"
      ]
    },
    {
      "cell_type": "markdown",
      "metadata": {
        "id": "SSxZ1oz9hbJN"
      },
      "source": [
        "# Training model"
      ]
    },
    {
      "cell_type": "code",
      "execution_count": 13,
      "metadata": {
        "id": "9HUIForuhbJN",
        "outputId": "411cd637-1d0e-4e8b-8c70-b3d7c35d8afe",
        "colab": {
          "base_uri": "https://localhost:8080/"
        }
      },
      "outputs": [
        {
          "output_type": "stream",
          "name": "stdout",
          "text": [
            "[[ 1.30606908  0.92347273  0.19787592  1.12880476]\n",
            " [ 0.5071889   0.7785747   0.45847399  0.1072535 ]\n",
            " [-1.74980295 -1.42911438 -0.43948444 -1.36102373]\n",
            " [-1.26002781 -0.99775821 -0.2879892  -1.00477977]\n",
            " [-0.42259249  0.82786519  0.95981387 -1.25350227]\n",
            " [ 1.4850775   1.84653047  0.94879214  0.65556448]\n",
            " [-0.25573464 -2.34219553 -2.0028607   1.48300879]\n",
            " [-1.92262962 -1.58809226 -0.4990905  -1.48139741]\n",
            " [ 0.201027    1.2814992   1.06583253 -0.72453212]\n",
            " [-0.1334456  -0.46924894 -0.36089718  0.18023401]]\n",
            "[1 1 0 0 1 1 0 0 1 0]\n",
            "[[ 1.          1.30606908  0.92347273  0.19787592  1.12880476]\n",
            " [ 1.          0.5071889   0.7785747   0.45847399  0.1072535 ]\n",
            " [ 1.         -1.74980295 -1.42911438 -0.43948444 -1.36102373]\n",
            " [ 1.         -1.26002781 -0.99775821 -0.2879892  -1.00477977]\n",
            " [ 1.         -0.42259249  0.82786519  0.95981387 -1.25350227]\n",
            " [ 1.          1.4850775   1.84653047  0.94879214  0.65556448]\n",
            " [ 1.         -0.25573464 -2.34219553 -2.0028607   1.48300879]\n",
            " [ 1.         -1.92262962 -1.58809226 -0.4990905  -1.48139741]\n",
            " [ 1.          0.201027    1.2814992   1.06583253 -0.72453212]\n",
            " [ 1.         -0.1334456  -0.46924894 -0.36089718  0.18023401]]\n",
            "Theta = [[0.72395868]\n",
            " [0.25620638]\n",
            " [0.57691343]\n",
            " [0.07988601]\n",
            " [0.99240457]]\n",
            "h =  [[0.93914983 0.81110726 0.12397722 0.2298055  0.48595141 0.94898416\n",
            "  0.63881993 0.09816918 0.71182007 0.63606544]]\n",
            "[[1 1 0 0 0 1 1 0 1 1]]\n"
          ]
        }
      ],
      "source": [
        "X, Y = make_classification(n_samples=10, n_features=4)\n",
        "\n",
        "print(X)\n",
        "print(Y)\n",
        "\n",
        "X_b = np.c_[np.ones((X.shape[0],1)),X]\n",
        "\n",
        "print(X_b)\n",
        "\n",
        "n_iterations = 3\n",
        "learning_rate = 0.01\n",
        "\n",
        "#initialize theta\n",
        "Theta = np.random.random((X_b.shape[1],1))\n",
        "print('Theta =', Theta)\n",
        "\n",
        "for i in range(n_iterations):\n",
        "    Theta = gradient_Descent(Theta, learning_rate, X_b, Y)\n",
        "    #if i % 5 == 0:\n",
        "        #print(\"Cost = \", cost(X_b, Y, Theta))\n",
        "        #print(\"Theta = \", Theta)\n",
        "\n",
        "h = sigmoid(Theta.T.dot(X_b.T))\n",
        "print(\"h = \",h)\n",
        "print((h > .5).astype(int) )"
      ]
    },
    {
      "cell_type": "markdown",
      "metadata": {
        "id": "3DOhYnEqhbJO"
      },
      "source": [
        "# SKLearn"
      ]
    },
    {
      "cell_type": "code",
      "source": [
        "# data from upper topic use SKLearn\n",
        "from sklearn.linear_model import LogisticRegression\n",
        "clf = LogisticRegression(random_state=123)\n",
        "clf.fit(X,Y)\n",
        "print(clf.predict(X))\n",
        "print(clf.predict_proba(X))"
      ],
      "metadata": {
        "id": "jx71pc5okcTz",
        "outputId": "f0873e38-9bbd-421b-cd4a-10854ee0903c",
        "colab": {
          "base_uri": "https://localhost:8080/"
        }
      },
      "execution_count": 18,
      "outputs": [
        {
          "output_type": "stream",
          "name": "stdout",
          "text": [
            "[1 1 0 0 1 1 0 0 1 0]\n",
            "[[0.11090338 0.88909662]\n",
            " [0.16942188 0.83057812]\n",
            " [0.94028963 0.05971037]\n",
            " [0.86897888 0.13102112]\n",
            " [0.20170622 0.79829378]\n",
            " [0.02518197 0.97481803]\n",
            " [0.97776973 0.02223027]\n",
            " [0.95576266 0.04423734]\n",
            " [0.08952086 0.91047914]\n",
            " [0.66046558 0.33953442]]\n"
          ]
        }
      ]
    },
    {
      "cell_type": "markdown",
      "source": [
        "------------------------"
      ],
      "metadata": {
        "id": "fJFC0450lPDL"
      }
    },
    {
      "cell_type": "markdown",
      "source": [
        "# SKLearn"
      ],
      "metadata": {
        "id": "BvNPm37zlR4W"
      }
    },
    {
      "cell_type": "code",
      "execution_count": null,
      "metadata": {
        "id": "kl_PC61ohbJO",
        "outputId": "9885929e-94da-45e1-bd6c-e1d34f46119a"
      },
      "outputs": [
        {
          "name": "stderr",
          "output_type": "stream",
          "text": [
            "/opt/anaconda3/lib/python3.7/site-packages/sklearn/linear_model/_logistic.py:764: ConvergenceWarning: lbfgs failed to converge (status=1):\n",
            "STOP: TOTAL NO. of ITERATIONS REACHED LIMIT.\n",
            "\n",
            "Increase the number of iterations (max_iter) or scale the data as shown in:\n",
            "    https://scikit-learn.org/stable/modules/preprocessing.html\n",
            "Please also refer to the documentation for alternative solver options:\n",
            "    https://scikit-learn.org/stable/modules/linear_model.html#logistic-regression\n",
            "  extra_warning_msg=_LOGISTIC_SOLVER_CONVERGENCE_MSG)\n"
          ]
        },
        {
          "data": {
            "text/plain": [
              "0.9733333333333334"
            ]
          },
          "execution_count": 64,
          "metadata": {},
          "output_type": "execute_result"
        }
      ],
      "source": [
        "from sklearn.datasets import load_iris\n",
        "from sklearn.linear_model import LogisticRegression\n",
        "X, y = load_iris(return_X_y=True)\n",
        "clf = LogisticRegression(random_state=0).fit(X, y)\n",
        "clf.predict(X[:2, :])\n",
        "clf.predict_proba(X[:2, :])\n",
        "clf.score(X, y)\n"
      ]
    },
    {
      "cell_type": "code",
      "execution_count": null,
      "metadata": {
        "id": "FXTcBMnehbJP",
        "outputId": "32134df7-bd5b-445f-c33f-b87b1910d267"
      },
      "outputs": [
        {
          "data": {
            "image/png": "[encoded data removed]",
            "text/plain": [
              "<Figure size 288x216 with 1 Axes>"
            ]
          },
          "metadata": {
            "needs_background": "light"
          },
          "output_type": "display_data"
        }
      ],
      "source": [
        "# Code source: Gael Varoquaux\n",
        "# License: BSD 3 clause\n",
        "\n",
        "import numpy as np\n",
        "import matplotlib.pyplot as plt\n",
        "\n",
        "from sklearn import linear_model\n",
        "from scipy.special import expit\n",
        "\n",
        "# General a toy dataset:s it's just a straight line with some Gaussian noise:\n",
        "xmin, xmax = -5, 5\n",
        "n_samples = 100\n",
        "np.random.seed(0)\n",
        "X = np.random.normal(size=n_samples)\n",
        "y = (X > 0).astype(np.float)\n",
        "X[X > 0] *= 4\n",
        "X += .3 * np.random.normal(size=n_samples)\n",
        "\n",
        "X = X[:, np.newaxis]\n",
        "\n",
        "# Fit the classifier\n",
        "clf = linear_model.LogisticRegression(C=1e5)\n",
        "clf.fit(X, y)\n",
        "\n",
        "# and plot the result\n",
        "plt.figure(1, figsize=(4, 3))\n",
        "plt.clf()\n",
        "plt.scatter(X.ravel(), y, color='black', zorder=20)\n",
        "X_test = np.linspace(-5, 10, 300)\n",
        "\n",
        "loss = expit(X_test * clf.coef_ + clf.intercept_).ravel()\n",
        "plt.plot(X_test, loss, color='red', linewidth=3)\n",
        "\n",
        "ols = linear_model.LinearRegression()\n",
        "ols.fit(X, y)\n",
        "plt.plot(X_test, ols.coef_ * X_test + ols.intercept_, linewidth=1)\n",
        "plt.axhline(.5, color='.5')\n",
        "\n",
        "plt.ylabel('y')\n",
        "plt.xlabel('X')\n",
        "plt.xticks(range(-5, 10))\n",
        "plt.yticks([0, 0.5, 1])\n",
        "plt.ylim(-.25, 1.25)\n",
        "plt.xlim(-4, 10)\n",
        "plt.legend(('Logistic Regression Model', 'Linear Regression Model'),\n",
        "           loc=\"lower right\", fontsize='small')\n",
        "plt.tight_layout()\n",
        "plt.show()"
      ]
    },
    {
      "cell_type": "code",
      "execution_count": null,
      "metadata": {
        "id": "zvwVUdb2hbJP",
        "outputId": "8fb89251-823b-4f75-a839-32878dadfeb3"
      },
      "outputs": [
        {
          "data": {
            "image/png": "[encoded data removed]",
            "text/plain": [
              "<Figure size 288x216 with 1 Axes>"
            ]
          },
          "metadata": {},
          "output_type": "display_data"
        }
      ],
      "source": [
        "# Code source: Gaël Varoquaux\n",
        "# Modified for documentation by Jaques Grobler\n",
        "# License: BSD 3 clause\n",
        "\n",
        "import numpy as np\n",
        "import matplotlib.pyplot as plt\n",
        "from sklearn.linear_model import LogisticRegression\n",
        "from sklearn import datasets\n",
        "\n",
        "# import some data to play with\n",
        "iris = datasets.load_iris()\n",
        "X = iris.data[:, :2]  # we only take the first two features.\n",
        "Y = iris.target\n",
        "\n",
        "logreg = LogisticRegression(C=1e5)\n",
        "\n",
        "# Create an instance of Logistic Regression Classifier and fit the data.\n",
        "logreg.fit(X, Y)\n",
        "\n",
        "# Plot the decision boundary. For that, we will assign a color to each\n",
        "# point in the mesh [x_min, x_max]x[y_min, y_max].\n",
        "x_min, x_max = X[:, 0].min() - .5, X[:, 0].max() + .5\n",
        "y_min, y_max = X[:, 1].min() - .5, X[:, 1].max() + .5\n",
        "h = .02  # step size in the mesh\n",
        "xx, yy = np.meshgrid(np.arange(x_min, x_max, h), np.arange(y_min, y_max, h))\n",
        "Z = logreg.predict(np.c_[xx.ravel(), yy.ravel()])\n",
        "\n",
        "# Put the result into a color plot\n",
        "Z = Z.reshape(xx.shape)\n",
        "plt.figure(1, figsize=(4, 3))\n",
        "plt.pcolormesh(xx, yy, Z, cmap=plt.cm.Paired)\n",
        "\n",
        "# Plot also the training points\n",
        "plt.scatter(X[:, 0], X[:, 1], c=Y, edgecolors='k', cmap=plt.cm.Paired)\n",
        "plt.xlabel('Sepal length')\n",
        "plt.ylabel('Sepal width')\n",
        "\n",
        "plt.xlim(xx.min(), xx.max())\n",
        "plt.ylim(yy.min(), yy.max())\n",
        "plt.xticks(())\n",
        "plt.yticks(())\n",
        "\n",
        "plt.show()"
      ]
    },
    {
      "cell_type": "code",
      "execution_count": null,
      "metadata": {
        "id": "UNUYQbXjhbJV"
      },
      "outputs": [],
      "source": [
        ""
      ]
    }
  ],
  "metadata": {
    "kernelspec": {
      "display_name": "Python 3",
      "language": "python",
      "name": "python3"
    },
    "language_info": {
      "codemirror_mode": {
        "name": "ipython",
        "version": 3
      },
      "file_extension": ".py",
      "mimetype": "text/x-python",
      "name": "python",
      "nbconvert_exporter": "python",
      "pygments_lexer": "ipython3",
      "version": "3.7.4"
    },
    "colab": {
      "name": "Logistic_Reg.ipynb",
      "provenance": [],
      "include_colab_link": true
    }
  },
  "nbformat": 4,
  "nbformat_minor": 0
}