{
  "cells": [
    {
      "metadata": {
        "id": "kDRb_r-c9zVR"
      },
      "cell_type": "markdown",
      "source": [
        "**Normal equation**"
      ]
    },
    {
      "metadata": {
        "_uuid": "8f2839f25d086af736a60e9eeb907d3b93b6e0e5",
        "_cell_guid": "b1076dfc-b9ad-4769-8c92-a6c4dae69d19",
        "trusted": true,
        "id": "6_YVjzeQ9zVT",
        "outputId": "0a86fa61-c9b0-4d79-ca2b-f83cd2214af5",
        "colab": {
          "base_uri": "https://localhost:8080/",
          "height": 304
        }
      },
      "cell_type": "code",
      "source": [
        "import numpy as np\n",
        "x = np.array([0,2,3])\n",
        "y = np.array([1,1,4])\n",
        "x_b = np.c_[np.ones((3,1)),x]\n",
        "\n",
        "#call inverse function from linear algebra module\n",
        "theta_best = np.linalg.inv(x_b.T.dot(x_b)).dot(x_b.T).dot(y)\n",
        "print(\"theta = \", theta_best)\n",
        "\n",
        "#prediction\n",
        "x_n = np.array([[0],[10]])\n",
        "x_n_b = np.c_[np.ones((2,1)), x_n]\n",
        "y_p = x_n_b.dot(theta_best)\n",
        "print(\"y predict = \",y_p)\n",
        "\n",
        "import matplotlib.pyplot as plt\n",
        "plt.plot(x_n, y_p,\"r-\")\n",
        "plt.plot(x,y, \"b.\")\n",
        "plt.axis([0,10,0,10])\n",
        "plt.show()\n"
      ],
      "execution_count": null,
      "outputs": [
        {
          "output_type": "stream",
          "name": "stdout",
          "text": [
            "theta =  [0.57142857 0.85714286]\n",
            "y predict =  [0.57142857 9.14285714]\n"
          ]
        },
        {
          "output_type": "display_data",
          "data": {
            "image/png": "[encoded data removed]",
            "text/plain": [
              "<Figure size 432x288 with 1 Axes>"
            ]
          },
          "metadata": {
            "needs_background": "light"
          }
        }
      ]
    },
    {
      "metadata": {
        "id": "OK0G0dYD9zVV"
      },
      "cell_type": "markdown",
      "source": [
        "**Sklearn**"
      ]
    },
    {
      "metadata": {
        "_uuid": "d629ff2d2480ee46fbb7e2d37f6b5fab8052498a",
        "_cell_guid": "79c7e3d0-c299-4dcb-8224-4455121ee9b0",
        "trusted": true,
        "id": "c8kTg8vl9zVV",
        "outputId": "0f297057-6cdb-4674-bfd5-7ba1f2a0eb07",
        "colab": {
          "base_uri": "https://localhost:8080/"
        }
      },
      "cell_type": "code",
      "source": [
        "import numpy as np\n",
        "from sklearn.linear_model import LinearRegression \n",
        "x = np.array([[0,2,3]]).T\n",
        "y = np.array([1,1,4])\n",
        "\n",
        "lin_reg = LinearRegression()\n",
        "lin_reg.fit(x, y)\n",
        "print(lin_reg.intercept_, \" , \", lin_reg.coef_)\n",
        "x_n = np.array([[0]]).T\n",
        "ans = lin_reg.predict(x_n)\n",
        "print(ans)\n"
      ],
      "execution_count": null,
      "outputs": [
        {
          "output_type": "stream",
          "name": "stdout",
          "text": [
            "0.5714285714285712  ,  [0.85714286]\n",
            "[0.57142857]\n"
          ]
        }
      ]
    },
    {
      "metadata": {
        "id": "9U0RQy8g9zVW"
      },
      "cell_type": "markdown",
      "source": [
        "**Gradient descent**\n"
      ]
    },
    {
      "metadata": {
        "trusted": true,
        "id": "8vqoKCdK9zVW",
        "outputId": "8b353e4d-7128-47bd-ba5a-bbfb0d6729a9",
        "colab": {
          "base_uri": "https://localhost:8080/",
          "height": 334
        }
      },
      "cell_type": "code",
      "source": [
        "import numpy as np\n",
        "import random\n",
        "import sklearn\n",
        "#from sklearn.datasets.samples_generator import make_regression \n",
        "import matplotlib.pyplot as plt\n",
        "from scipy import stats\n",
        "\n",
        "def cost_function(theta0, theta1, x, y, m):\n",
        "    c = sum([(theta0 + theta1*x[i] - y[i])**2 for i in range(m)])\n",
        "    return c\n",
        "\n",
        "def gradient_descent(alpha, x, y, ep=0.000001, max_iter=10000):\n",
        "\n",
        "    converged = False\n",
        "    iter = 0\n",
        "    m = x.shape[0] # number of samples\n",
        "\n",
        "    # initial theta\n",
        "    t0 = np.random.random(x.shape[1])\n",
        "  \n",
        "    t1 = np.random.random(x.shape[1])\n",
        "\n",
        "    # total error, J(theta)\n",
        "    J = cost_function(t0,t1,x,y,m) \n",
        "\n",
        "    # Iterate Loop\n",
        "    while not converged:\n",
        "        grad0 = sum([(t0 + t1*x[i] - y[i]) for i in range(m)]) \n",
        "        grad1 = sum([(t0 + t1*x[i] - y[i])*x[i] for i in range(m)])\n",
        "\n",
        "        # update the theta_temp\n",
        "        temp0 = t0 - alpha * grad0\n",
        "        temp1 = t1 - alpha * grad1\n",
        "        # update theta\n",
        "        t0 = temp0\n",
        "        t1 = temp1\n",
        "\n",
        "        # error\n",
        "        e = cost_function(t0,t1,x,y,m)\n",
        "\n",
        "        #Terminate 1\n",
        "        if abs(J-e) <= ep:\n",
        "           print(\"Converged at \", iter, \"/\", max_iter)\n",
        "           converged = True\n",
        "    \n",
        "        J = e   # update error s\n",
        "        iter += 1  # update iter\n",
        "    \n",
        "        #Termiate 2\n",
        "        if iter == max_iter:\n",
        "            print('Max interactions exceeded!')\n",
        "            converged = True\n",
        "\n",
        "    return t0,t1\n",
        "\n",
        "\n",
        "if __name__ == '__main__':\n",
        "\n",
        "    #x, y = make_regression(n_samples=100, n_features=1, n_informative=1, random_state=0, noise=35) \n",
        "    x = np.array([[0,2,3]]).T # or x = np.array([[0],[2],[3]])\n",
        "    y = np.array([1,1,4])\n",
        "    print(\"x.shape = %s y.shape = %s\" %(x.shape, y.shape))\n",
        "    alpha = 0.01 # learning rate\n",
        "\n",
        "    theta0, theta1 = gradient_descent(alpha, x, y, max_iter=10000)\n",
        "    print ((\"theta0 = %s theta1 = %s\") %(theta0, theta1)) \n",
        "\n",
        "    # check with scipy linear regression \n",
        "    slope, intercept, r_value, p_value, slope_std_error = stats.linregress(x[:,0], y)\n",
        "    print ((\"intercept = %s slope = %s\") %(intercept, slope))\n",
        "\n",
        "    # plot\n",
        "    for i in range(x.shape[0]):\n",
        "        y_predict = theta0 + theta1*x \n",
        "\n",
        "    plt.plot(x,y,'o')\n",
        "    plt.plot(x,y_predict,'k-')\n",
        "    plt.show()"
      ],
      "execution_count": null,
      "outputs": [
        {
          "output_type": "stream",
          "name": "stdout",
          "text": [
            "x.shape = (3, 1) y.shape = (3,)\n",
            "Converged at  406 / 10000\n",
            "theta0 = [0.56447875] theta1 = [0.86002157]\n",
            "intercept = 0.5714285714285714 slope = 0.8571428571428571\n"
          ]
        },
        {
          "output_type": "display_data",
          "data": {
            "image/png": "[encoded data removed]",
            "text/plain": [
              "<Figure size 432x288 with 1 Axes>"
            ]
          },
          "metadata": {
            "needs_background": "light"
          }
        }
      ]
    }
  ],
  "metadata": {
    "kernelspec": {
      "name": "python3",
      "display_name": "Python 3",
      "language": "python"
    },
    "language_info": {
      "name": "python",
      "version": "3.7.6",
      "mimetype": "text/x-python",
      "codemirror_mode": {
        "name": "ipython",
        "version": 3
      },
      "pygments_lexer": "ipython3",
      "nbconvert_exporter": "python",
      "file_extension": ".py"
    },
    "colab": {
      "name": "Lab1.ipynb",
      "provenance": []
    }
  },
  "nbformat": 4,
  "nbformat_minor": 0
}