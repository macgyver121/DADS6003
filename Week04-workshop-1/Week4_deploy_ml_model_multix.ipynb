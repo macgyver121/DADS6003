{
  "nbformat": 4,
  "nbformat_minor": 0,
  "metadata": {
    "colab": {
      "name": "Week4-deploy-ml-model.ipynb",
      "provenance": [],
      "include_colab_link": true
    },
    "kernelspec": {
      "name": "python3",
      "display_name": "Python 3"
    },
    "language_info": {
      "name": "python"
    }
  },
  "cells": [
    {
      "cell_type": "markdown",
      "metadata": {
        "id": "view-in-github",
        "colab_type": "text"
      },
      "source": [
        "<a href=\"https://colab.research.google.com/github/macgyver121/DADS6003/blob/main/Week04-workshop-1/Week4_deploy_ml_model_multix.ipynb\" target=\"_parent\"><img src=\"https://colab.research.google.com/assets/colab-badge.svg\" alt=\"Open In Colab\"/></a>"
      ]
    },
    {
      "cell_type": "code",
      "execution_count": 1,
      "metadata": {
        "colab": {
          "base_uri": "https://localhost:8080/",
          "height": 816
        },
        "id": "AECntigAPEwl",
        "outputId": "7f05f60e-e1c4-4fbf-92da-79dcf7f16bfd"
      },
      "outputs": [
        {
          "output_type": "stream",
          "name": "stdout",
          "text": [
            "   area  rooms   price\n",
            "0  2104      3  399900\n",
            "1  1600      3  329900\n",
            "2  2400      3  369000\n",
            "3  1416      2  232000\n",
            "4  3000      4  539900\n",
            "   area  rooms\n",
            "0  2104      3\n",
            "1  1600      3\n",
            "2  2400      3\n",
            "3  1416      2\n",
            "4  3000      4\n",
            "    price\n",
            "0  399900\n",
            "1  329900\n",
            "2  369000\n",
            "3  232000\n",
            "4  539900\n",
            "Train\n",
            "[89597.9095428]\n",
            "[[  139.21067402 -8738.01911233]]\n",
            "Predict\n",
            "[[315591.14290408]\n",
            " [481015.87425869]]\n",
            "Deploy\n"
          ]
        },
        {
          "output_type": "display_data",
          "data": {
            "application/javascript": [
              "\n",
              "    async function download(id, filename, size) {\n",
              "      if (!google.colab.kernel.accessAllowed) {\n",
              "        return;\n",
              "      }\n",
              "      const div = document.createElement('div');\n",
              "      const label = document.createElement('label');\n",
              "      label.textContent = `Downloading \"${filename}\": `;\n",
              "      div.appendChild(label);\n",
              "      const progress = document.createElement('progress');\n",
              "      progress.max = size;\n",
              "      div.appendChild(progress);\n",
              "      document.body.appendChild(div);\n",
              "\n",
              "      const buffers = [];\n",
              "      let downloaded = 0;\n",
              "\n",
              "      const channel = await google.colab.kernel.comms.open(id);\n",
              "      // Send a message to notify the kernel that we're ready.\n",
              "      channel.send({})\n",
              "\n",
              "      for await (const message of channel.messages) {\n",
              "        // Send a message to notify the kernel that we're ready.\n",
              "        channel.send({})\n",
              "        if (message.buffers) {\n",
              "          for (const buffer of message.buffers) {\n",
              "            buffers.push(buffer);\n",
              "            downloaded += buffer.byteLength;\n",
              "            progress.value = downloaded;\n",
              "          }\n",
              "        }\n",
              "      }\n",
              "      const blob = new Blob(buffers, {type: 'application/binary'});\n",
              "      const a = document.createElement('a');\n",
              "      a.href = window.URL.createObjectURL(blob);\n",
              "      a.download = filename;\n",
              "      div.appendChild(a);\n",
              "      a.click();\n",
              "      div.remove();\n",
              "    }\n",
              "  "
            ],
            "text/plain": [
              "<IPython.core.display.Javascript object>"
            ]
          },
          "metadata": {}
        },
        {
          "output_type": "display_data",
          "data": {
            "application/javascript": [
              "download(\"download_68f68514-c1c5-47a6-9818-27911c0ffb01\", \"model.sav\", 730)"
            ],
            "text/plain": [
              "<IPython.core.display.Javascript object>"
            ]
          },
          "metadata": {}
        },
        {
          "output_type": "display_data",
          "data": {
            "image/png": "[encoded data removed]",
            "text/plain": [
              "<Figure size 1500x400 with 2 Axes>"
            ]
          },
          "metadata": {
            "needs_background": "light"
          }
        }
      ],
      "source": [
        "from sklearn.linear_model import LinearRegression\n",
        "import pickle\n",
        "import numpy as np\n",
        "import pandas as pd\n",
        "# import os\n",
        "import matplotlib.pyplot as plt\n",
        "np.set_printoptions(suppress=True)\n",
        "\n",
        "data = pd.read_csv('https://raw.githubusercontent.com/ekaratnida/Applied-machine-learning/master/Week04-workshop-1/data.txt')\n",
        "print(data.head())\n",
        "#X = data[[\"area\",\"rooms\"]]\n",
        "X = data.iloc[:,0:2]\n",
        "print(X.head())\n",
        "\n",
        "#y = data.price\n",
        "#y = data.iloc[:,2]\n",
        "y = data[[\"price\"]] \n",
        "print(y.head())\n",
        "\n",
        "plt.figure(figsize = (15,4), dpi=100)\n",
        "plt.subplot(121)\n",
        "plt.scatter(X.iloc[:,0],y)\n",
        "plt.xlabel(\"Size of house (X1)\")\n",
        "plt.ylabel(\"Price (Y)\")\n",
        "plt.subplot(122)\n",
        "plt.scatter(X.iloc[:,1],y)\n",
        "plt.xlabel(\"Number of Bedrooms (X2)\")\n",
        "plt.ylabel(\"Price (Y)\")\n",
        "\n",
        "\"\"\"Train model\"\"\"\n",
        "print(\"Train\")\n",
        "lin_reg = LinearRegression()\n",
        "lin_reg.fit(X, y)\n",
        "print(lin_reg.intercept_)\n",
        "print(lin_reg.coef_)\n",
        "\n",
        "\"\"\"Predict\"\"\"\n",
        "print(\"Predict\")\n",
        "#X_test = np.array([[2000,6]])\n",
        "X_test = pd.DataFrame(\n",
        "    {\n",
        "    \"area\":[2000,3000,],\n",
        "    \"rooms\":[6,3],\n",
        "    \"bathroom\": [2,3]\n",
        "    }\n",
        ")\n",
        "result = lin_reg.predict(X_test)\n",
        "print(result)\n",
        "\n",
        "\"\"\"Deploy\"\"\"\n",
        "print(\"Deploy\")\n",
        "pickle.dump(lin_reg, open('model.sav','wb') )\n",
        "from google.colab import files\n",
        "files.download('model.sav')"
      ]
    },
    {
      "cell_type": "code",
      "source": [
        "from sklearn.linear_model import LinearRegression\n",
        "import pickle\n",
        "import numpy as np\n",
        "import pandas as pd\n",
        "# import os\n",
        "import matplotlib.pyplot as plt\n",
        "np.set_printoptions(suppress=True)\n",
        "\n",
        "data = pd.read_csv('https://raw.githubusercontent.com/ekaratnida/Applied-machine-learning/master/Week04-workshop-1/data.txt')\n",
        "\n",
        "data['bathroom'] = np.random.randint(1,5,size = 47)\n",
        "\n",
        "print(data.head())\n",
        "\n",
        "x = data[['area', 'rooms', 'bathroom']]\n",
        "print(x.head())\n",
        "\n",
        "y = data[[\"price\"]] \n",
        "print(y.head())\n",
        "\n",
        "\"\"\"Train model\"\"\"\n",
        "print(\"Train\")\n",
        "lin_reg = LinearRegression()\n",
        "lin_reg.fit(x, y)\n",
        "print(lin_reg.intercept_)\n",
        "print(lin_reg.coef_)\n",
        "\n",
        "\"\"\"Predict\"\"\"\n",
        "print(\"Predict\")\n",
        "#X_test = np.array([[2000,6]])\n",
        "x_test = pd.DataFrame(\n",
        "    {\n",
        "    \"area\":[2000,3000,],\n",
        "    \"rooms\":[6,3],\n",
        "    \"bathroom\": [2,3]\n",
        "    }\n",
        ")\n",
        "\n",
        "result = lin_reg.predict(x_test)\n",
        "print(result)\n",
        "\n",
        "\"\"\"Deploy\"\"\"\n",
        "print(\"Deploy\")\n",
        "pickle.dump(lin_reg, open('model2.sav','wb') )\n",
        "from google.colab import files\n",
        "files.download('model2.sav')\n",
        "\n"
      ],
      "metadata": {
        "colab": {
          "base_uri": "https://localhost:8080/",
          "height": 450
        },
        "id": "u24y5M7GPeiF",
        "outputId": "013ffe37-97ae-4c80-f2d9-a51a3bd7c126"
      },
      "execution_count": 13,
      "outputs": [
        {
          "output_type": "stream",
          "name": "stdout",
          "text": [
            "   area  rooms   price  bathroom\n",
            "0  2104      3  399900         2\n",
            "1  1600      3  329900         3\n",
            "2  2400      3  369000         3\n",
            "3  1416      2  232000         4\n",
            "4  3000      4  539900         4\n",
            "   area  rooms  bathroom\n",
            "0  2104      3         2\n",
            "1  1600      3         3\n",
            "2  2400      3         3\n",
            "3  1416      2         4\n",
            "4  3000      4         4\n",
            "    price\n",
            "0  399900\n",
            "1  329900\n",
            "2  369000\n",
            "3  232000\n",
            "4  539900\n",
            "Train\n",
            "[108064.96252975]\n",
            "[[   140.94650984 -11054.92325578  -5862.8793789 ]]\n",
            "Predict\n",
            "[[311902.68392298]\n",
            " [480151.08415431]]\n",
            "Deploy\n"
          ]
        },
        {
          "output_type": "display_data",
          "data": {
            "application/javascript": [
              "\n",
              "    async function download(id, filename, size) {\n",
              "      if (!google.colab.kernel.accessAllowed) {\n",
              "        return;\n",
              "      }\n",
              "      const div = document.createElement('div');\n",
              "      const label = document.createElement('label');\n",
              "      label.textContent = `Downloading \"${filename}\": `;\n",
              "      div.appendChild(label);\n",
              "      const progress = document.createElement('progress');\n",
              "      progress.max = size;\n",
              "      div.appendChild(progress);\n",
              "      document.body.appendChild(div);\n",
              "\n",
              "      const buffers = [];\n",
              "      let downloaded = 0;\n",
              "\n",
              "      const channel = await google.colab.kernel.comms.open(id);\n",
              "      // Send a message to notify the kernel that we're ready.\n",
              "      channel.send({})\n",
              "\n",
              "      for await (const message of channel.messages) {\n",
              "        // Send a message to notify the kernel that we're ready.\n",
              "        channel.send({})\n",
              "        if (message.buffers) {\n",
              "          for (const buffer of message.buffers) {\n",
              "            buffers.push(buffer);\n",
              "            downloaded += buffer.byteLength;\n",
              "            progress.value = downloaded;\n",
              "          }\n",
              "        }\n",
              "      }\n",
              "      const blob = new Blob(buffers, {type: 'application/binary'});\n",
              "      const a = document.createElement('a');\n",
              "      a.href = window.URL.createObjectURL(blob);\n",
              "      a.download = filename;\n",
              "      div.appendChild(a);\n",
              "      a.click();\n",
              "      div.remove();\n",
              "    }\n",
              "  "
            ],
            "text/plain": [
              "<IPython.core.display.Javascript object>"
            ]
          },
          "metadata": {}
        },
        {
          "output_type": "display_data",
          "data": {
            "application/javascript": [
              "download(\"download_8bc46052-40d1-4dcb-90e1-9a8e43523ff3\", \"model2.sav\", 761)"
            ],
            "text/plain": [
              "<IPython.core.display.Javascript object>"
            ]
          },
          "metadata": {}
        }
      ]
    },
    {
      "cell_type": "code",
      "source": [
        "plt.figure(figsize = (15,4), dpi=100)\n",
        "plt.subplot(131)\n",
        "plt.scatter(x[['area']],y)\n",
        "plt.xlabel(\"Size of house (X1)\")\n",
        "plt.ylabel(\"Price (Y)\")\n",
        "plt.subplot(132)\n",
        "plt.scatter(x[['rooms']],y)\n",
        "plt.xlabel(\"Number of Bedrooms (X2)\")\n",
        "plt.ylabel(\"Price (Y)\")\n",
        "plt.subplot(133)\n",
        "plt.scatter(x[['bathroom']],y)\n",
        "plt.xlabel(\"Number of Bathrooms (X3)\")\n",
        "plt.ylabel(\"Price (Y)\")"
      ],
      "metadata": {
        "id": "1BbA8tgwmNHU",
        "outputId": "3ab03cdc-4151-493a-b60d-f796fb718dc5",
        "colab": {
          "base_uri": "https://localhost:8080/",
          "height": 399
        }
      },
      "execution_count": 16,
      "outputs": [
        {
          "output_type": "execute_result",
          "data": {
            "text/plain": [
              "Text(0, 0.5, 'Price (Y)')"
            ]
          },
          "metadata": {},
          "execution_count": 16
        },
        {
          "output_type": "display_data",
          "data": {
            "image/png": "[encoded data removed]",
            "text/plain": [
              "<Figure size 1500x400 with 3 Axes>"
            ]
          },
          "metadata": {
            "needs_background": "light"
          }
        }
      ]
    },
    {
      "cell_type": "code",
      "source": [
        ""
      ],
      "metadata": {
        "id": "dJ277h3XrCMJ"
      },
      "execution_count": null,
      "outputs": []
    }
  ]
}