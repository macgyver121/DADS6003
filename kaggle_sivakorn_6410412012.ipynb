{
 "cells": [
  {
   "cell_type": "markdown",
   "id": "1ae96d1d",
   "metadata": {
    "papermill": {
     "duration": 0.03471,
     "end_time": "2022-06-14T10:24:11.252812",
     "exception": false,
     "start_time": "2022-06-14T10:24:11.218102",
     "status": "completed"
    },
    "tags": []
   },
   "source": [
    "Sivakorn Srichaiyaperk 6410412012   PrivateRank20"
   ]
  },
  {
   "cell_type": "code",
   "execution_count": 1,
   "id": "c9069df1",
   "metadata": {
    "_cell_guid": "b1076dfc-b9ad-4769-8c92-a6c4dae69d19",
    "_uuid": "8f2839f25d086af736a60e9eeb907d3b93b6e0e5",
    "execution": {
     "iopub.execute_input": "2022-06-14T10:24:11.327809Z",
     "iopub.status.busy": "2022-06-14T10:24:11.325910Z",
     "iopub.status.idle": "2022-06-14T10:24:11.342016Z",
     "shell.execute_reply": "2022-06-14T10:24:11.342602Z",
     "shell.execute_reply.started": "2022-06-14T09:44:56.110108Z"
    },
    "papermill": {
     "duration": 0.05467,
     "end_time": "2022-06-14T10:24:11.342953",
     "exception": false,
     "start_time": "2022-06-14T10:24:11.288283",
     "status": "completed"
    },
    "tags": []
   },
   "outputs": [
    {
     "name": "stdout",
     "output_type": "stream",
     "text": [
      "/kaggle/input/dads6003-in-class-competition/sampleSubmission.csv\n",
      "/kaggle/input/dads6003-in-class-competition/train.csv\n",
      "/kaggle/input/dads6003-in-class-competition/test.csv\n"
     ]
    }
   ],
   "source": [
    "# This Python 3 environment comes with many helpful analytics libraries installed\n",
    "# It is defined by the kaggle/python Docker image: https://github.com/kaggle/docker-python\n",
    "# For example, here's several helpful packages to load\n",
    "\n",
    "import numpy as np # linear algebra\n",
    "import pandas as pd # data processing, CSV file I/O (e.g. pd.read_csv)\n",
    "\n",
    "# Input data files are available in the read-only \"../input/\" directory\n",
    "# For example, running this (by clicking run or pressing Shift+Enter) will list all files under the input directory\n",
    "\n",
    "import os\n",
    "for dirname, _, filenames in os.walk('/kaggle/input'):\n",
    "    for filename in filenames:\n",
    "        print(os.path.join(dirname, filename))\n",
    "\n",
    "# You can write up to 20GB to the current directory (/kaggle/working/) that gets preserved as output when you create a version using \"Save & Run All\" \n",
    "# You can also write temporary files to /kaggle/temp/, but they won't be saved outside of the current session"
   ]
  },
  {
   "cell_type": "code",
   "execution_count": 2,
   "id": "7095d436",
   "metadata": {
    "execution": {
     "iopub.execute_input": "2022-06-14T10:24:11.418012Z",
     "iopub.status.busy": "2022-06-14T10:24:11.417333Z",
     "iopub.status.idle": "2022-06-14T10:24:11.421455Z",
     "shell.execute_reply": "2022-06-14T10:24:11.420913Z",
     "shell.execute_reply.started": "2022-06-14T09:44:56.122613Z"
    },
    "papermill": {
     "duration": 0.041814,
     "end_time": "2022-06-14T10:24:11.421638",
     "exception": false,
     "start_time": "2022-06-14T10:24:11.379824",
     "status": "completed"
    },
    "tags": []
   },
   "outputs": [],
   "source": [
    "import pandas as pd\n",
    "import numpy as np"
   ]
  },
  {
   "cell_type": "code",
   "execution_count": 3,
   "id": "620801ff",
   "metadata": {
    "execution": {
     "iopub.execute_input": "2022-06-14T10:24:11.495099Z",
     "iopub.status.busy": "2022-06-14T10:24:11.492271Z",
     "iopub.status.idle": "2022-06-14T10:24:11.598838Z",
     "shell.execute_reply": "2022-06-14T10:24:11.599352Z",
     "shell.execute_reply.started": "2022-06-14T09:44:56.134267Z"
    },
    "papermill": {
     "duration": 0.143454,
     "end_time": "2022-06-14T10:24:11.599561",
     "exception": false,
     "start_time": "2022-06-14T10:24:11.456107",
     "status": "completed"
    },
    "tags": []
   },
   "outputs": [
    {
     "data": {
      "text/html": [
       "<div>\n",
       "<style scoped>\n",
       "    .dataframe tbody tr th:only-of-type {\n",
       "        vertical-align: middle;\n",
       "    }\n",
       "\n",
       "    .dataframe tbody tr th {\n",
       "        vertical-align: top;\n",
       "    }\n",
       "\n",
       "    .dataframe thead th {\n",
       "        text-align: right;\n",
       "    }\n",
       "</style>\n",
       "<table border=\"1\" class=\"dataframe\">\n",
       "  <thead>\n",
       "    <tr style=\"text-align: right;\">\n",
       "      <th></th>\n",
       "      <th>x1</th>\n",
       "      <th>x2</th>\n",
       "      <th>x3</th>\n",
       "      <th>x4</th>\n",
       "      <th>x5</th>\n",
       "      <th>x6</th>\n",
       "      <th>x7</th>\n",
       "      <th>x8</th>\n",
       "      <th>x9</th>\n",
       "      <th>x10</th>\n",
       "      <th>...</th>\n",
       "      <th>x12</th>\n",
       "      <th>x13</th>\n",
       "      <th>x14</th>\n",
       "      <th>x15</th>\n",
       "      <th>x16</th>\n",
       "      <th>x17</th>\n",
       "      <th>x18</th>\n",
       "      <th>x19</th>\n",
       "      <th>x20</th>\n",
       "      <th>y</th>\n",
       "    </tr>\n",
       "  </thead>\n",
       "  <tbody>\n",
       "    <tr>\n",
       "      <th>0</th>\n",
       "      <td>-10.731014</td>\n",
       "      <td>-166.447703</td>\n",
       "      <td>57.634618</td>\n",
       "      <td>5.851483</td>\n",
       "      <td>6.443051</td>\n",
       "      <td>773.535357</td>\n",
       "      <td>-425.516507</td>\n",
       "      <td>19.541551</td>\n",
       "      <td>102333.24180</td>\n",
       "      <td>37.515512</td>\n",
       "      <td>...</td>\n",
       "      <td>1.177903</td>\n",
       "      <td>4531.019914</td>\n",
       "      <td>65.320993</td>\n",
       "      <td>10.856422</td>\n",
       "      <td>42.317769</td>\n",
       "      <td>215.727832</td>\n",
       "      <td>9.922942</td>\n",
       "      <td>194.151039</td>\n",
       "      <td>-4.580311</td>\n",
       "      <td>0</td>\n",
       "    </tr>\n",
       "    <tr>\n",
       "      <th>1</th>\n",
       "      <td>-11.357862</td>\n",
       "      <td>-175.583196</td>\n",
       "      <td>61.413742</td>\n",
       "      <td>4.957525</td>\n",
       "      <td>6.022880</td>\n",
       "      <td>592.665369</td>\n",
       "      <td>-154.993322</td>\n",
       "      <td>17.165756</td>\n",
       "      <td>56410.00878</td>\n",
       "      <td>33.667832</td>\n",
       "      <td>...</td>\n",
       "      <td>6.288225</td>\n",
       "      <td>5745.900235</td>\n",
       "      <td>124.629610</td>\n",
       "      <td>19.519498</td>\n",
       "      <td>37.481917</td>\n",
       "      <td>193.590955</td>\n",
       "      <td>10.280823</td>\n",
       "      <td>159.152326</td>\n",
       "      <td>-4.361565</td>\n",
       "      <td>0</td>\n",
       "    </tr>\n",
       "    <tr>\n",
       "      <th>2</th>\n",
       "      <td>-19.008191</td>\n",
       "      <td>-266.301983</td>\n",
       "      <td>43.228042</td>\n",
       "      <td>5.173549</td>\n",
       "      <td>5.569678</td>\n",
       "      <td>912.741203</td>\n",
       "      <td>-337.001477</td>\n",
       "      <td>18.362978</td>\n",
       "      <td>37204.35472</td>\n",
       "      <td>24.194495</td>\n",
       "      <td>...</td>\n",
       "      <td>5.241047</td>\n",
       "      <td>5369.285274</td>\n",
       "      <td>136.536890</td>\n",
       "      <td>16.824492</td>\n",
       "      <td>31.761223</td>\n",
       "      <td>195.816664</td>\n",
       "      <td>9.604161</td>\n",
       "      <td>148.690528</td>\n",
       "      <td>-5.322491</td>\n",
       "      <td>1</td>\n",
       "    </tr>\n",
       "    <tr>\n",
       "      <th>3</th>\n",
       "      <td>-16.849847</td>\n",
       "      <td>-228.458742</td>\n",
       "      <td>45.440429</td>\n",
       "      <td>6.267129</td>\n",
       "      <td>4.125443</td>\n",
       "      <td>834.109486</td>\n",
       "      <td>-297.096954</td>\n",
       "      <td>16.375756</td>\n",
       "      <td>54967.23130</td>\n",
       "      <td>20.578061</td>\n",
       "      <td>...</td>\n",
       "      <td>2.316119</td>\n",
       "      <td>NaN</td>\n",
       "      <td>118.295834</td>\n",
       "      <td>19.972844</td>\n",
       "      <td>51.722932</td>\n",
       "      <td>210.446677</td>\n",
       "      <td>8.108592</td>\n",
       "      <td>310.539447</td>\n",
       "      <td>-5.205344</td>\n",
       "      <td>0</td>\n",
       "    </tr>\n",
       "    <tr>\n",
       "      <th>4</th>\n",
       "      <td>-11.518749</td>\n",
       "      <td>-345.861627</td>\n",
       "      <td>37.470283</td>\n",
       "      <td>6.178874</td>\n",
       "      <td>5.527774</td>\n",
       "      <td>634.255353</td>\n",
       "      <td>-243.072126</td>\n",
       "      <td>16.785630</td>\n",
       "      <td>62397.51981</td>\n",
       "      <td>39.815572</td>\n",
       "      <td>...</td>\n",
       "      <td>5.366404</td>\n",
       "      <td>6161.928292</td>\n",
       "      <td>61.414626</td>\n",
       "      <td>15.990853</td>\n",
       "      <td>51.659323</td>\n",
       "      <td>203.356424</td>\n",
       "      <td>12.552922</td>\n",
       "      <td>241.868249</td>\n",
       "      <td>-4.889072</td>\n",
       "      <td>1</td>\n",
       "    </tr>\n",
       "  </tbody>\n",
       "</table>\n",
       "<p>5 rows × 21 columns</p>\n",
       "</div>"
      ],
      "text/plain": [
       "          x1          x2         x3        x4        x5          x6  \\\n",
       "0 -10.731014 -166.447703  57.634618  5.851483  6.443051  773.535357   \n",
       "1 -11.357862 -175.583196  61.413742  4.957525  6.022880  592.665369   \n",
       "2 -19.008191 -266.301983  43.228042  5.173549  5.569678  912.741203   \n",
       "3 -16.849847 -228.458742  45.440429  6.267129  4.125443  834.109486   \n",
       "4 -11.518749 -345.861627  37.470283  6.178874  5.527774  634.255353   \n",
       "\n",
       "           x7         x8            x9        x10  ...       x12          x13  \\\n",
       "0 -425.516507  19.541551  102333.24180  37.515512  ...  1.177903  4531.019914   \n",
       "1 -154.993322  17.165756   56410.00878  33.667832  ...  6.288225  5745.900235   \n",
       "2 -337.001477  18.362978   37204.35472  24.194495  ...  5.241047  5369.285274   \n",
       "3 -297.096954  16.375756   54967.23130  20.578061  ...  2.316119          NaN   \n",
       "4 -243.072126  16.785630   62397.51981  39.815572  ...  5.366404  6161.928292   \n",
       "\n",
       "          x14        x15        x16         x17        x18         x19  \\\n",
       "0   65.320993  10.856422  42.317769  215.727832   9.922942  194.151039   \n",
       "1  124.629610  19.519498  37.481917  193.590955  10.280823  159.152326   \n",
       "2  136.536890  16.824492  31.761223  195.816664   9.604161  148.690528   \n",
       "3  118.295834  19.972844  51.722932  210.446677   8.108592  310.539447   \n",
       "4   61.414626  15.990853  51.659323  203.356424  12.552922  241.868249   \n",
       "\n",
       "        x20  y  \n",
       "0 -4.580311  0  \n",
       "1 -4.361565  0  \n",
       "2 -5.322491  1  \n",
       "3 -5.205344  0  \n",
       "4 -4.889072  1  \n",
       "\n",
       "[5 rows x 21 columns]"
      ]
     },
     "execution_count": 3,
     "metadata": {},
     "output_type": "execute_result"
    }
   ],
   "source": [
    "df_train = pd.read_csv('/kaggle/input/dads6003-in-class-competition/train.csv')\n",
    "df_train.head()"
   ]
  },
  {
   "cell_type": "code",
   "execution_count": 4,
   "id": "81b4cee2",
   "metadata": {
    "execution": {
     "iopub.execute_input": "2022-06-14T10:24:11.674284Z",
     "iopub.status.busy": "2022-06-14T10:24:11.673613Z",
     "iopub.status.idle": "2022-06-14T10:24:11.722772Z",
     "shell.execute_reply": "2022-06-14T10:24:11.723348Z",
     "shell.execute_reply.started": "2022-06-14T09:44:56.202095Z"
    },
    "papermill": {
     "duration": 0.089582,
     "end_time": "2022-06-14T10:24:11.723573",
     "exception": false,
     "start_time": "2022-06-14T10:24:11.633991",
     "status": "completed"
    },
    "tags": []
   },
   "outputs": [
    {
     "data": {
      "text/html": [
       "<div>\n",
       "<style scoped>\n",
       "    .dataframe tbody tr th:only-of-type {\n",
       "        vertical-align: middle;\n",
       "    }\n",
       "\n",
       "    .dataframe tbody tr th {\n",
       "        vertical-align: top;\n",
       "    }\n",
       "\n",
       "    .dataframe thead th {\n",
       "        text-align: right;\n",
       "    }\n",
       "</style>\n",
       "<table border=\"1\" class=\"dataframe\">\n",
       "  <thead>\n",
       "    <tr style=\"text-align: right;\">\n",
       "      <th></th>\n",
       "      <th>x1</th>\n",
       "      <th>x2</th>\n",
       "      <th>x3</th>\n",
       "      <th>x4</th>\n",
       "      <th>x5</th>\n",
       "      <th>x6</th>\n",
       "      <th>x7</th>\n",
       "      <th>x8</th>\n",
       "      <th>x9</th>\n",
       "      <th>x10</th>\n",
       "      <th>x11</th>\n",
       "      <th>x12</th>\n",
       "      <th>x13</th>\n",
       "      <th>x14</th>\n",
       "      <th>x15</th>\n",
       "      <th>x16</th>\n",
       "      <th>x17</th>\n",
       "      <th>x18</th>\n",
       "      <th>x19</th>\n",
       "      <th>x20</th>\n",
       "    </tr>\n",
       "  </thead>\n",
       "  <tbody>\n",
       "    <tr>\n",
       "      <th>0</th>\n",
       "      <td>-14.880285</td>\n",
       "      <td>-413.657030</td>\n",
       "      <td>17.037929</td>\n",
       "      <td>5.627481</td>\n",
       "      <td>6.262187</td>\n",
       "      <td>704.164878</td>\n",
       "      <td>-269.815659</td>\n",
       "      <td>13.503896</td>\n",
       "      <td>60805.03782</td>\n",
       "      <td>31.065906</td>\n",
       "      <td>5.625478</td>\n",
       "      <td>5.150013</td>\n",
       "      <td>6282.637653</td>\n",
       "      <td>174.281276</td>\n",
       "      <td>19.959450</td>\n",
       "      <td>32.278906</td>\n",
       "      <td>206.323118</td>\n",
       "      <td>8.337124</td>\n",
       "      <td>232.140628</td>\n",
       "      <td>-5.120450</td>\n",
       "    </tr>\n",
       "    <tr>\n",
       "      <th>1</th>\n",
       "      <td>-13.987087</td>\n",
       "      <td>-235.197680</td>\n",
       "      <td>53.670585</td>\n",
       "      <td>4.743702</td>\n",
       "      <td>4.670301</td>\n",
       "      <td>1226.941573</td>\n",
       "      <td>-184.656449</td>\n",
       "      <td>7.034055</td>\n",
       "      <td>55445.68723</td>\n",
       "      <td>15.189238</td>\n",
       "      <td>15.746002</td>\n",
       "      <td>3.880180</td>\n",
       "      <td>3759.028105</td>\n",
       "      <td>32.216142</td>\n",
       "      <td>17.054081</td>\n",
       "      <td>35.934156</td>\n",
       "      <td>191.790254</td>\n",
       "      <td>10.985527</td>\n",
       "      <td>267.024627</td>\n",
       "      <td>-5.200961</td>\n",
       "    </tr>\n",
       "    <tr>\n",
       "      <th>2</th>\n",
       "      <td>-11.764850</td>\n",
       "      <td>-192.880170</td>\n",
       "      <td>38.687566</td>\n",
       "      <td>5.606648</td>\n",
       "      <td>4.147060</td>\n",
       "      <td>940.690132</td>\n",
       "      <td>-182.564985</td>\n",
       "      <td>17.218596</td>\n",
       "      <td>31562.61815</td>\n",
       "      <td>34.769586</td>\n",
       "      <td>12.766144</td>\n",
       "      <td>4.885215</td>\n",
       "      <td>6722.719526</td>\n",
       "      <td>181.736690</td>\n",
       "      <td>20.479688</td>\n",
       "      <td>33.809666</td>\n",
       "      <td>166.718488</td>\n",
       "      <td>7.087623</td>\n",
       "      <td>115.762593</td>\n",
       "      <td>-6.080712</td>\n",
       "    </tr>\n",
       "    <tr>\n",
       "      <th>3</th>\n",
       "      <td>-10.790193</td>\n",
       "      <td>-204.849932</td>\n",
       "      <td>50.837951</td>\n",
       "      <td>5.934410</td>\n",
       "      <td>5.310772</td>\n",
       "      <td>794.581702</td>\n",
       "      <td>-245.911853</td>\n",
       "      <td>9.936746</td>\n",
       "      <td>47299.76010</td>\n",
       "      <td>25.565751</td>\n",
       "      <td>14.068207</td>\n",
       "      <td>7.156563</td>\n",
       "      <td>5651.188202</td>\n",
       "      <td>127.570137</td>\n",
       "      <td>20.904829</td>\n",
       "      <td>49.857911</td>\n",
       "      <td>139.872041</td>\n",
       "      <td>9.597151</td>\n",
       "      <td>213.574163</td>\n",
       "      <td>-6.355565</td>\n",
       "    </tr>\n",
       "    <tr>\n",
       "      <th>4</th>\n",
       "      <td>-17.113392</td>\n",
       "      <td>-141.457819</td>\n",
       "      <td>53.246627</td>\n",
       "      <td>5.939751</td>\n",
       "      <td>5.631022</td>\n",
       "      <td>543.441438</td>\n",
       "      <td>-302.081360</td>\n",
       "      <td>21.861266</td>\n",
       "      <td>66725.53006</td>\n",
       "      <td>34.796947</td>\n",
       "      <td>13.834198</td>\n",
       "      <td>4.743589</td>\n",
       "      <td>5376.558510</td>\n",
       "      <td>119.269139</td>\n",
       "      <td>19.826086</td>\n",
       "      <td>39.903060</td>\n",
       "      <td>311.541001</td>\n",
       "      <td>12.573611</td>\n",
       "      <td>263.709173</td>\n",
       "      <td>-4.329967</td>\n",
       "    </tr>\n",
       "  </tbody>\n",
       "</table>\n",
       "</div>"
      ],
      "text/plain": [
       "          x1          x2         x3        x4        x5           x6  \\\n",
       "0 -14.880285 -413.657030  17.037929  5.627481  6.262187   704.164878   \n",
       "1 -13.987087 -235.197680  53.670585  4.743702  4.670301  1226.941573   \n",
       "2 -11.764850 -192.880170  38.687566  5.606648  4.147060   940.690132   \n",
       "3 -10.790193 -204.849932  50.837951  5.934410  5.310772   794.581702   \n",
       "4 -17.113392 -141.457819  53.246627  5.939751  5.631022   543.441438   \n",
       "\n",
       "           x7         x8           x9        x10        x11       x12  \\\n",
       "0 -269.815659  13.503896  60805.03782  31.065906   5.625478  5.150013   \n",
       "1 -184.656449   7.034055  55445.68723  15.189238  15.746002  3.880180   \n",
       "2 -182.564985  17.218596  31562.61815  34.769586  12.766144  4.885215   \n",
       "3 -245.911853   9.936746  47299.76010  25.565751  14.068207  7.156563   \n",
       "4 -302.081360  21.861266  66725.53006  34.796947  13.834198  4.743589   \n",
       "\n",
       "           x13         x14        x15        x16         x17        x18  \\\n",
       "0  6282.637653  174.281276  19.959450  32.278906  206.323118   8.337124   \n",
       "1  3759.028105   32.216142  17.054081  35.934156  191.790254  10.985527   \n",
       "2  6722.719526  181.736690  20.479688  33.809666  166.718488   7.087623   \n",
       "3  5651.188202  127.570137  20.904829  49.857911  139.872041   9.597151   \n",
       "4  5376.558510  119.269139  19.826086  39.903060  311.541001  12.573611   \n",
       "\n",
       "          x19       x20  \n",
       "0  232.140628 -5.120450  \n",
       "1  267.024627 -5.200961  \n",
       "2  115.762593 -6.080712  \n",
       "3  213.574163 -6.355565  \n",
       "4  263.709173 -4.329967  "
      ]
     },
     "execution_count": 4,
     "metadata": {},
     "output_type": "execute_result"
    }
   ],
   "source": [
    "df_test = pd.read_csv('/kaggle/input/dads6003-in-class-competition/test.csv')\n",
    "df_test.head()"
   ]
  },
  {
   "cell_type": "code",
   "execution_count": 5,
   "id": "64e9789c",
   "metadata": {
    "execution": {
     "iopub.execute_input": "2022-06-14T10:24:11.804775Z",
     "iopub.status.busy": "2022-06-14T10:24:11.804043Z",
     "iopub.status.idle": "2022-06-14T10:24:11.806016Z",
     "shell.execute_reply": "2022-06-14T10:24:11.806523Z",
     "shell.execute_reply.started": "2022-06-14T09:44:56.243333Z"
    },
    "papermill": {
     "duration": 0.045395,
     "end_time": "2022-06-14T10:24:11.806734",
     "exception": false,
     "start_time": "2022-06-14T10:24:11.761339",
     "status": "completed"
    },
    "tags": []
   },
   "outputs": [],
   "source": [
    "# Your work\n",
    "# Must have\n",
    "# 1. Cleansing data\n",
    "# 2. Exploratory Data Analysis (describe insight and visualization)\n",
    "# 3. Training data - Crossvalidation\n",
    "# 4. Testing data"
   ]
  },
  {
   "cell_type": "markdown",
   "id": "c5c06afa",
   "metadata": {
    "papermill": {
     "duration": 0.034795,
     "end_time": "2022-06-14T10:24:11.877950",
     "exception": false,
     "start_time": "2022-06-14T10:24:11.843155",
     "status": "completed"
    },
    "tags": []
   },
   "source": [
    "## Cleansing data"
   ]
  },
  {
   "cell_type": "code",
   "execution_count": 6,
   "id": "c2c823bc",
   "metadata": {
    "execution": {
     "iopub.execute_input": "2022-06-14T10:24:11.953996Z",
     "iopub.status.busy": "2022-06-14T10:24:11.950964Z",
     "iopub.status.idle": "2022-06-14T10:24:11.977981Z",
     "shell.execute_reply": "2022-06-14T10:24:11.978760Z",
     "shell.execute_reply.started": "2022-06-14T09:44:56.251702Z"
    },
    "papermill": {
     "duration": 0.065452,
     "end_time": "2022-06-14T10:24:11.979016",
     "exception": false,
     "start_time": "2022-06-14T10:24:11.913564",
     "status": "completed"
    },
    "tags": []
   },
   "outputs": [
    {
     "name": "stdout",
     "output_type": "stream",
     "text": [
      "<class 'pandas.core.frame.DataFrame'>\n",
      "RangeIndex: 2500 entries, 0 to 2499\n",
      "Data columns (total 20 columns):\n",
      " #   Column  Non-Null Count  Dtype  \n",
      "---  ------  --------------  -----  \n",
      " 0   x1      2500 non-null   float64\n",
      " 1   x2      2500 non-null   float64\n",
      " 2   x3      2500 non-null   float64\n",
      " 3   x4      2500 non-null   float64\n",
      " 4   x5      2500 non-null   float64\n",
      " 5   x6      2500 non-null   float64\n",
      " 6   x7      2500 non-null   float64\n",
      " 7   x8      2500 non-null   float64\n",
      " 8   x9      2500 non-null   float64\n",
      " 9   x10     2500 non-null   float64\n",
      " 10  x11     2500 non-null   float64\n",
      " 11  x12     2500 non-null   float64\n",
      " 12  x13     2500 non-null   float64\n",
      " 13  x14     2500 non-null   float64\n",
      " 14  x15     2500 non-null   float64\n",
      " 15  x16     2500 non-null   float64\n",
      " 16  x17     2500 non-null   float64\n",
      " 17  x18     2500 non-null   float64\n",
      " 18  x19     2500 non-null   float64\n",
      " 19  x20     2500 non-null   float64\n",
      "dtypes: float64(20)\n",
      "memory usage: 390.8 KB\n"
     ]
    }
   ],
   "source": [
    "df_test.info()"
   ]
  },
  {
   "cell_type": "code",
   "execution_count": 7,
   "id": "95a1496b",
   "metadata": {
    "execution": {
     "iopub.execute_input": "2022-06-14T10:24:12.054886Z",
     "iopub.status.busy": "2022-06-14T10:24:12.054204Z",
     "iopub.status.idle": "2022-06-14T10:24:12.070949Z",
     "shell.execute_reply": "2022-06-14T10:24:12.070368Z",
     "shell.execute_reply.started": "2022-06-14T09:44:56.280808Z"
    },
    "papermill": {
     "duration": 0.055166,
     "end_time": "2022-06-14T10:24:12.071119",
     "exception": false,
     "start_time": "2022-06-14T10:24:12.015953",
     "status": "completed"
    },
    "tags": []
   },
   "outputs": [
    {
     "name": "stdout",
     "output_type": "stream",
     "text": [
      "<class 'pandas.core.frame.DataFrame'>\n",
      "RangeIndex: 7500 entries, 0 to 7499\n",
      "Data columns (total 21 columns):\n",
      " #   Column  Non-Null Count  Dtype  \n",
      "---  ------  --------------  -----  \n",
      " 0   x1      7391 non-null   float64\n",
      " 1   x2      7466 non-null   float64\n",
      " 2   x3      7444 non-null   float64\n",
      " 3   x4      7407 non-null   float64\n",
      " 4   x5      7440 non-null   float64\n",
      " 5   x6      7382 non-null   float64\n",
      " 6   x7      7419 non-null   float64\n",
      " 7   x8      7365 non-null   float64\n",
      " 8   x9      7500 non-null   float64\n",
      " 9   x10     7421 non-null   float64\n",
      " 10  x11     7483 non-null   float64\n",
      " 11  x12     7488 non-null   float64\n",
      " 12  x13     7370 non-null   float64\n",
      " 13  x14     7376 non-null   float64\n",
      " 14  x15     7393 non-null   float64\n",
      " 15  x16     7407 non-null   float64\n",
      " 16  x17     7375 non-null   float64\n",
      " 17  x18     7480 non-null   float64\n",
      " 18  x19     7355 non-null   float64\n",
      " 19  x20     7374 non-null   float64\n",
      " 20  y       7500 non-null   int64  \n",
      "dtypes: float64(20), int64(1)\n",
      "memory usage: 1.2 MB\n"
     ]
    }
   ],
   "source": [
    "df_train.info()"
   ]
  },
  {
   "cell_type": "code",
   "execution_count": 8,
   "id": "a8dfe48d",
   "metadata": {
    "execution": {
     "iopub.execute_input": "2022-06-14T10:24:12.146717Z",
     "iopub.status.busy": "2022-06-14T10:24:12.146034Z",
     "iopub.status.idle": "2022-06-14T10:24:12.151977Z",
     "shell.execute_reply": "2022-06-14T10:24:12.152606Z",
     "shell.execute_reply.started": "2022-06-14T09:44:56.299349Z"
    },
    "papermill": {
     "duration": 0.045795,
     "end_time": "2022-06-14T10:24:12.152812",
     "exception": false,
     "start_time": "2022-06-14T10:24:12.107017",
     "status": "completed"
    },
    "tags": []
   },
   "outputs": [
    {
     "data": {
      "text/plain": [
       "-14.968355052714559"
      ]
     },
     "execution_count": 8,
     "metadata": {},
     "output_type": "execute_result"
    }
   ],
   "source": [
    "df_train['x1'].mean()"
   ]
  },
  {
   "cell_type": "code",
   "execution_count": 9,
   "id": "d5bee675",
   "metadata": {
    "execution": {
     "iopub.execute_input": "2022-06-14T10:24:12.230187Z",
     "iopub.status.busy": "2022-06-14T10:24:12.229498Z",
     "iopub.status.idle": "2022-06-14T10:24:12.234099Z",
     "shell.execute_reply": "2022-06-14T10:24:12.234623Z",
     "shell.execute_reply.started": "2022-06-14T09:44:56.309174Z"
    },
    "papermill": {
     "duration": 0.045482,
     "end_time": "2022-06-14T10:24:12.234834",
     "exception": false,
     "start_time": "2022-06-14T10:24:12.189352",
     "status": "completed"
    },
    "tags": []
   },
   "outputs": [],
   "source": [
    "df_train['x1'].fillna(df_train['x1'].mean(), inplace = True)"
   ]
  },
  {
   "cell_type": "code",
   "execution_count": 10,
   "id": "b4666afb",
   "metadata": {
    "execution": {
     "iopub.execute_input": "2022-06-14T10:24:12.311835Z",
     "iopub.status.busy": "2022-06-14T10:24:12.311038Z",
     "iopub.status.idle": "2022-06-14T10:24:12.316531Z",
     "shell.execute_reply": "2022-06-14T10:24:12.317044Z",
     "shell.execute_reply.started": "2022-06-14T09:44:56.319519Z"
    },
    "papermill": {
     "duration": 0.045537,
     "end_time": "2022-06-14T10:24:12.317236",
     "exception": false,
     "start_time": "2022-06-14T10:24:12.271699",
     "status": "completed"
    },
    "tags": []
   },
   "outputs": [
    {
     "data": {
      "text/plain": [
       "0"
      ]
     },
     "execution_count": 10,
     "metadata": {},
     "output_type": "execute_result"
    }
   ],
   "source": [
    "df_train['x1'].isnull().sum()"
   ]
  },
  {
   "cell_type": "code",
   "execution_count": 11,
   "id": "69dcadff",
   "metadata": {
    "execution": {
     "iopub.execute_input": "2022-06-14T10:24:12.393563Z",
     "iopub.status.busy": "2022-06-14T10:24:12.392943Z",
     "iopub.status.idle": "2022-06-14T10:24:12.399758Z",
     "shell.execute_reply": "2022-06-14T10:24:12.400380Z",
     "shell.execute_reply.started": "2022-06-14T09:44:56.335110Z"
    },
    "papermill": {
     "duration": 0.046967,
     "end_time": "2022-06-14T10:24:12.400591",
     "exception": false,
     "start_time": "2022-06-14T10:24:12.353624",
     "status": "completed"
    },
    "tags": []
   },
   "outputs": [
    {
     "data": {
      "text/plain": [
       "0      -10.731014\n",
       "1      -11.357862\n",
       "2      -19.008191\n",
       "3      -16.849847\n",
       "4      -11.518749\n",
       "          ...    \n",
       "7495   -22.976076\n",
       "7496   -14.769648\n",
       "7497   -11.506576\n",
       "7498   -19.096762\n",
       "7499   -11.215776\n",
       "Name: x1, Length: 7500, dtype: float64"
      ]
     },
     "execution_count": 11,
     "metadata": {},
     "output_type": "execute_result"
    }
   ],
   "source": [
    "df_train.iloc[:,0]"
   ]
  },
  {
   "cell_type": "code",
   "execution_count": 12,
   "id": "f6b6fec0",
   "metadata": {
    "execution": {
     "iopub.execute_input": "2022-06-14T10:24:12.479979Z",
     "iopub.status.busy": "2022-06-14T10:24:12.479248Z",
     "iopub.status.idle": "2022-06-14T10:24:12.492576Z",
     "shell.execute_reply": "2022-06-14T10:24:12.493180Z",
     "shell.execute_reply.started": "2022-06-14T09:44:56.376200Z"
    },
    "papermill": {
     "duration": 0.055103,
     "end_time": "2022-06-14T10:24:12.493397",
     "exception": false,
     "start_time": "2022-06-14T10:24:12.438294",
     "status": "completed"
    },
    "tags": []
   },
   "outputs": [],
   "source": [
    "for j in range(0,21) :\n",
    "    df_train.iloc[:, j].fillna(df_train.iloc[:, j].mean(), inplace = True)"
   ]
  },
  {
   "cell_type": "code",
   "execution_count": 13,
   "id": "e6669428",
   "metadata": {
    "execution": {
     "iopub.execute_input": "2022-06-14T10:24:12.572867Z",
     "iopub.status.busy": "2022-06-14T10:24:12.572220Z",
     "iopub.status.idle": "2022-06-14T10:24:12.583301Z",
     "shell.execute_reply": "2022-06-14T10:24:12.584192Z",
     "shell.execute_reply.started": "2022-06-14T09:44:56.396035Z"
    },
    "papermill": {
     "duration": 0.05347,
     "end_time": "2022-06-14T10:24:12.584404",
     "exception": false,
     "start_time": "2022-06-14T10:24:12.530934",
     "status": "completed"
    },
    "tags": []
   },
   "outputs": [
    {
     "name": "stdout",
     "output_type": "stream",
     "text": [
      "<class 'pandas.core.frame.DataFrame'>\n",
      "RangeIndex: 7500 entries, 0 to 7499\n",
      "Data columns (total 21 columns):\n",
      " #   Column  Non-Null Count  Dtype  \n",
      "---  ------  --------------  -----  \n",
      " 0   x1      7500 non-null   float64\n",
      " 1   x2      7500 non-null   float64\n",
      " 2   x3      7500 non-null   float64\n",
      " 3   x4      7500 non-null   float64\n",
      " 4   x5      7500 non-null   float64\n",
      " 5   x6      7500 non-null   float64\n",
      " 6   x7      7500 non-null   float64\n",
      " 7   x8      7500 non-null   float64\n",
      " 8   x9      7500 non-null   float64\n",
      " 9   x10     7500 non-null   float64\n",
      " 10  x11     7500 non-null   float64\n",
      " 11  x12     7500 non-null   float64\n",
      " 12  x13     7500 non-null   float64\n",
      " 13  x14     7500 non-null   float64\n",
      " 14  x15     7500 non-null   float64\n",
      " 15  x16     7500 non-null   float64\n",
      " 16  x17     7500 non-null   float64\n",
      " 17  x18     7500 non-null   float64\n",
      " 18  x19     7500 non-null   float64\n",
      " 19  x20     7500 non-null   float64\n",
      " 20  y       7500 non-null   int64  \n",
      "dtypes: float64(20), int64(1)\n",
      "memory usage: 1.2 MB\n"
     ]
    }
   ],
   "source": [
    "df_train.info()"
   ]
  },
  {
   "cell_type": "code",
   "execution_count": 14,
   "id": "f0377f66",
   "metadata": {
    "execution": {
     "iopub.execute_input": "2022-06-14T10:24:12.668255Z",
     "iopub.status.busy": "2022-06-14T10:24:12.667578Z",
     "iopub.status.idle": "2022-06-14T10:24:12.670119Z",
     "shell.execute_reply": "2022-06-14T10:24:12.669600Z",
     "shell.execute_reply.started": "2022-06-14T09:44:56.412452Z"
    },
    "papermill": {
     "duration": 0.047338,
     "end_time": "2022-06-14T10:24:12.670282",
     "exception": false,
     "start_time": "2022-06-14T10:24:12.622944",
     "status": "completed"
    },
    "tags": []
   },
   "outputs": [],
   "source": [
    "x_train = df_train.iloc[:,0:-1]\n",
    "y_train = df_train.iloc[:, -1]"
   ]
  },
  {
   "cell_type": "code",
   "execution_count": 15,
   "id": "15f81352",
   "metadata": {
    "execution": {
     "iopub.execute_input": "2022-06-14T10:24:12.753172Z",
     "iopub.status.busy": "2022-06-14T10:24:12.752482Z",
     "iopub.status.idle": "2022-06-14T10:24:12.754934Z",
     "shell.execute_reply": "2022-06-14T10:24:12.755430Z",
     "shell.execute_reply.started": "2022-06-14T09:44:56.419614Z"
    },
    "papermill": {
     "duration": 0.045944,
     "end_time": "2022-06-14T10:24:12.755636",
     "exception": false,
     "start_time": "2022-06-14T10:24:12.709692",
     "status": "completed"
    },
    "tags": []
   },
   "outputs": [],
   "source": [
    "x_test = df_test.iloc[:,:]"
   ]
  },
  {
   "cell_type": "markdown",
   "id": "d3a801ef",
   "metadata": {
    "papermill": {
     "duration": 0.037391,
     "end_time": "2022-06-14T10:24:12.832710",
     "exception": false,
     "start_time": "2022-06-14T10:24:12.795319",
     "status": "completed"
    },
    "tags": []
   },
   "source": [
    "## Scaling data"
   ]
  },
  {
   "cell_type": "code",
   "execution_count": 16,
   "id": "c89ab2a6",
   "metadata": {
    "execution": {
     "iopub.execute_input": "2022-06-14T10:24:12.914153Z",
     "iopub.status.busy": "2022-06-14T10:24:12.913201Z",
     "iopub.status.idle": "2022-06-14T10:24:14.118007Z",
     "shell.execute_reply": "2022-06-14T10:24:14.117261Z",
     "shell.execute_reply.started": "2022-06-14T09:44:56.432835Z"
    },
    "papermill": {
     "duration": 1.247379,
     "end_time": "2022-06-14T10:24:14.118179",
     "exception": false,
     "start_time": "2022-06-14T10:24:12.870800",
     "status": "completed"
    },
    "tags": []
   },
   "outputs": [],
   "source": [
    "from sklearn import preprocessing\n",
    "scaler = preprocessing.StandardScaler()"
   ]
  },
  {
   "cell_type": "code",
   "execution_count": 17,
   "id": "588a1528",
   "metadata": {
    "execution": {
     "iopub.execute_input": "2022-06-14T10:24:14.200429Z",
     "iopub.status.busy": "2022-06-14T10:24:14.199777Z",
     "iopub.status.idle": "2022-06-14T10:24:14.210682Z",
     "shell.execute_reply": "2022-06-14T10:24:14.210036Z",
     "shell.execute_reply.started": "2022-06-14T09:44:56.444372Z"
    },
    "papermill": {
     "duration": 0.054509,
     "end_time": "2022-06-14T10:24:14.210858",
     "exception": false,
     "start_time": "2022-06-14T10:24:14.156349",
     "status": "completed"
    },
    "tags": []
   },
   "outputs": [],
   "source": [
    "x_train = scaler.fit_transform(x_train)"
   ]
  },
  {
   "cell_type": "code",
   "execution_count": 18,
   "id": "b0a0f8dc",
   "metadata": {
    "execution": {
     "iopub.execute_input": "2022-06-14T10:24:14.295614Z",
     "iopub.status.busy": "2022-06-14T10:24:14.294930Z",
     "iopub.status.idle": "2022-06-14T10:24:14.300582Z",
     "shell.execute_reply": "2022-06-14T10:24:14.299956Z",
     "shell.execute_reply.started": "2022-06-14T09:44:56.466505Z"
    },
    "papermill": {
     "duration": 0.051304,
     "end_time": "2022-06-14T10:24:14.300739",
     "exception": false,
     "start_time": "2022-06-14T10:24:14.249435",
     "status": "completed"
    },
    "tags": []
   },
   "outputs": [],
   "source": [
    "x_test = scaler.fit_transform(x_test)"
   ]
  },
  {
   "cell_type": "markdown",
   "id": "a65b0b91",
   "metadata": {
    "papermill": {
     "duration": 0.037385,
     "end_time": "2022-06-14T10:24:14.375978",
     "exception": false,
     "start_time": "2022-06-14T10:24:14.338593",
     "status": "completed"
    },
    "tags": []
   },
   "source": [
    "## Learning model"
   ]
  },
  {
   "cell_type": "code",
   "execution_count": 19,
   "id": "8e316665",
   "metadata": {
    "execution": {
     "iopub.execute_input": "2022-06-14T10:24:14.455639Z",
     "iopub.status.busy": "2022-06-14T10:24:14.454957Z",
     "iopub.status.idle": "2022-06-14T10:24:43.020883Z",
     "shell.execute_reply": "2022-06-14T10:24:43.022219Z",
     "shell.execute_reply.started": "2022-06-14T09:44:56.480285Z"
    },
    "papermill": {
     "duration": 28.608661,
     "end_time": "2022-06-14T10:24:43.022566",
     "exception": false,
     "start_time": "2022-06-14T10:24:14.413905",
     "status": "completed"
    },
    "tags": []
   },
   "outputs": [
    {
     "name": "stdout",
     "output_type": "stream",
     "text": [
      "[0 0 1 ... 0 0 0]\n"
     ]
    }
   ],
   "source": [
    "from sklearn import datasets\n",
    "from sklearn.model_selection import GridSearchCV\n",
    "from sklearn.neural_network import MLPClassifier\n",
    "\n",
    "clf = MLPClassifier(max_iter = 2500)\n",
    "clf.fit(x_train,y_train)\n",
    "print(clf.predict(x_train))"
   ]
  },
  {
   "cell_type": "code",
   "execution_count": 20,
   "id": "2dc0e1f7",
   "metadata": {
    "execution": {
     "iopub.execute_input": "2022-06-14T10:24:43.156967Z",
     "iopub.status.busy": "2022-06-14T10:24:43.155992Z",
     "iopub.status.idle": "2022-06-14T10:46:52.734640Z",
     "shell.execute_reply": "2022-06-14T10:46:52.735694Z",
     "shell.execute_reply.started": "2022-06-14T09:45:21.576275Z"
    },
    "papermill": {
     "duration": 1329.644892,
     "end_time": "2022-06-14T10:46:52.736017",
     "exception": false,
     "start_time": "2022-06-14T10:24:43.091125",
     "status": "completed"
    },
    "tags": []
   },
   "outputs": [
    {
     "name": "stdout",
     "output_type": "stream",
     "text": [
      "Fitting 30 folds for each of 5 candidates, totalling 150 fits\n",
      "{'activation': 'logistic', 'alpha': 0.0045, 'hidden_layer_sizes': (68,), 'learning_rate': 'constant', 'learning_rate_init': 0.0007, 'max_iter': 2500, 'random_state': 0, 'solver': 'adam'}\n"
     ]
    }
   ],
   "source": [
    "from sklearn import datasets\n",
    "from sklearn.model_selection import GridSearchCV\n",
    "\n",
    "nn_params = [{'activation': ['logistic'], 'solver': ['adam'],\n",
    "             'hidden_layer_sizes': [(68,),(69,),(70,),(71,),(72,)], 'random_state' : [0], 'max_iter' : [2500], \n",
    "              'learning_rate' : ['constant'], 'alpha' : [0.0045], 'learning_rate_init': [0.0007]}]\n",
    "\n",
    "model = GridSearchCV(clf, nn_params ,cv = 30 ,scoring='f1', n_jobs=-1, refit=True, verbose=1)\n",
    "best_model = model.fit(x_train, y_train)\n",
    "\n",
    "print(model.best_params_)"
   ]
  },
  {
   "cell_type": "markdown",
   "id": "da30c2a4",
   "metadata": {
    "papermill": {
     "duration": 0.037915,
     "end_time": "2022-06-14T10:46:52.830371",
     "exception": false,
     "start_time": "2022-06-14T10:46:52.792456",
     "status": "completed"
    },
    "tags": []
   },
   "source": [
    "## Model Evaluation"
   ]
  },
  {
   "cell_type": "code",
   "execution_count": 21,
   "id": "33a1ba63",
   "metadata": {
    "execution": {
     "iopub.execute_input": "2022-06-14T10:46:52.928249Z",
     "iopub.status.busy": "2022-06-14T10:46:52.926995Z",
     "iopub.status.idle": "2022-06-14T10:46:52.958429Z",
     "shell.execute_reply": "2022-06-14T10:46:52.959774Z",
     "shell.execute_reply.started": "2022-06-14T10:08:44.637842Z"
    },
    "papermill": {
     "duration": 0.090633,
     "end_time": "2022-06-14T10:46:52.960062",
     "exception": false,
     "start_time": "2022-06-14T10:46:52.869429",
     "status": "completed"
    },
    "tags": []
   },
   "outputs": [
    {
     "name": "stdout",
     "output_type": "stream",
     "text": [
      "0.9888594164456234\n"
     ]
    }
   ],
   "source": [
    "#easy evaluate\n",
    "print(best_model.score(x_train, y_train))"
   ]
  },
  {
   "cell_type": "code",
   "execution_count": 22,
   "id": "2c94f584",
   "metadata": {
    "execution": {
     "iopub.execute_input": "2022-06-14T10:46:53.100848Z",
     "iopub.status.busy": "2022-06-14T10:46:53.099861Z",
     "iopub.status.idle": "2022-06-14T10:46:53.465176Z",
     "shell.execute_reply": "2022-06-14T10:46:53.464423Z",
     "shell.execute_reply.started": "2022-06-14T10:08:44.679800Z"
    },
    "papermill": {
     "duration": 0.430778,
     "end_time": "2022-06-14T10:46:53.465394",
     "exception": false,
     "start_time": "2022-06-14T10:46:53.034616",
     "status": "completed"
    },
    "tags": []
   },
   "outputs": [
    {
     "name": "stderr",
     "output_type": "stream",
     "text": [
      "/opt/conda/lib/python3.7/site-packages/sklearn/utils/deprecation.py:87: FutureWarning: Function plot_confusion_matrix is deprecated; Function `plot_confusion_matrix` is deprecated in 1.0 and will be removed in 1.2. Use one of the class methods: ConfusionMatrixDisplay.from_predictions or ConfusionMatrixDisplay.from_estimator.\n",
      "  warnings.warn(msg, category=FutureWarning)\n"
     ]
    },
    {
     "data": {
      "image/png": "[encoded data removed]",
      "text/plain": [
       "<Figure size 432x288 with 2 Axes>"
      ]
     },
     "metadata": {
      "needs_background": "light"
     },
     "output_type": "display_data"
    }
   ],
   "source": [
    "# confusion matrix\n",
    "import matplotlib.pyplot as plt\n",
    "from sklearn.datasets import make_classification\n",
    "from sklearn.metrics import plot_confusion_matrix\n",
    "from sklearn.model_selection import train_test_split\n",
    "\n",
    "plot_confusion_matrix(best_model, x_train, y_train)\n",
    "\n",
    "plt.show()\n",
    "\n",
    "## [TN,FP]\n",
    "## [FP,TP]"
   ]
  },
  {
   "cell_type": "code",
   "execution_count": 23,
   "id": "6311f237",
   "metadata": {
    "execution": {
     "iopub.execute_input": "2022-06-14T10:46:53.560864Z",
     "iopub.status.busy": "2022-06-14T10:46:53.560089Z",
     "iopub.status.idle": "2022-06-14T10:46:53.585322Z",
     "shell.execute_reply": "2022-06-14T10:46:53.586217Z",
     "shell.execute_reply.started": "2022-06-14T10:08:44.988349Z"
    },
    "papermill": {
     "duration": 0.070507,
     "end_time": "2022-06-14T10:46:53.586495",
     "exception": false,
     "start_time": "2022-06-14T10:46:53.515988",
     "status": "completed"
    },
    "tags": []
   },
   "outputs": [],
   "source": [
    "# predict y_pred\n",
    "y_pred = best_model.predict(x_train)"
   ]
  },
  {
   "cell_type": "code",
   "execution_count": 24,
   "id": "60b0c830",
   "metadata": {
    "execution": {
     "iopub.execute_input": "2022-06-14T10:46:53.725276Z",
     "iopub.status.busy": "2022-06-14T10:46:53.724210Z",
     "iopub.status.idle": "2022-06-14T10:46:53.739645Z",
     "shell.execute_reply": "2022-06-14T10:46:53.740405Z",
     "shell.execute_reply.started": "2022-06-14T10:08:45.020604Z"
    },
    "papermill": {
     "duration": 0.081762,
     "end_time": "2022-06-14T10:46:53.740689",
     "exception": false,
     "start_time": "2022-06-14T10:46:53.658927",
     "status": "completed"
    },
    "tags": []
   },
   "outputs": [
    {
     "name": "stdout",
     "output_type": "stream",
     "text": [
      "accuracy =  0.9944\n",
      "precision =  0.9941333333333333\n",
      "recall =  0.9836411609498681\n",
      "f1 =  0.9888594164456234\n"
     ]
    }
   ],
   "source": [
    "# precision recell f1score\n",
    "from sklearn import metrics\n",
    "from sklearn.metrics import accuracy_score\n",
    "precision = metrics.precision_score(y_train, y_pred)\n",
    "recall = metrics.recall_score(y_train, y_pred)\n",
    "f1 = metrics.f1_score(y_train, y_pred)\n",
    "accuracy = accuracy_score(y_train, y_pred)\n",
    "print(\"accuracy = \",accuracy )\n",
    "print(\"precision = \",precision)\n",
    "print(\"recall = \", recall)\n",
    "print(\"f1 = \", f1)"
   ]
  },
  {
   "cell_type": "markdown",
   "id": "52b330a1",
   "metadata": {
    "papermill": {
     "duration": 0.040303,
     "end_time": "2022-06-14T10:46:53.829387",
     "exception": false,
     "start_time": "2022-06-14T10:46:53.789084",
     "status": "completed"
    },
    "tags": []
   },
   "source": [
    "## Prediction"
   ]
  },
  {
   "cell_type": "code",
   "execution_count": 25,
   "id": "285f9c3f",
   "metadata": {
    "execution": {
     "iopub.execute_input": "2022-06-14T10:46:53.914823Z",
     "iopub.status.busy": "2022-06-14T10:46:53.913877Z",
     "iopub.status.idle": "2022-06-14T10:46:53.925375Z",
     "shell.execute_reply": "2022-06-14T10:46:53.926343Z",
     "shell.execute_reply.started": "2022-06-14T10:08:45.062581Z"
    },
    "papermill": {
     "duration": 0.057069,
     "end_time": "2022-06-14T10:46:53.926634",
     "exception": false,
     "start_time": "2022-06-14T10:46:53.869565",
     "status": "completed"
    },
    "tags": []
   },
   "outputs": [],
   "source": [
    "y_test = best_model.predict(x_test)"
   ]
  },
  {
   "cell_type": "code",
   "execution_count": 26,
   "id": "4d26617f",
   "metadata": {
    "execution": {
     "iopub.execute_input": "2022-06-14T10:46:54.067137Z",
     "iopub.status.busy": "2022-06-14T10:46:54.066031Z",
     "iopub.status.idle": "2022-06-14T10:46:54.070640Z",
     "shell.execute_reply": "2022-06-14T10:46:54.069999Z"
    },
    "papermill": {
     "duration": 0.070603,
     "end_time": "2022-06-14T10:46:54.070780",
     "exception": false,
     "start_time": "2022-06-14T10:46:54.000177",
     "status": "completed"
    },
    "tags": []
   },
   "outputs": [
    {
     "name": "stdout",
     "output_type": "stream",
     "text": [
      "[1 1 0 ... 0 1 0]\n"
     ]
    }
   ],
   "source": [
    "print(y_test)"
   ]
  },
  {
   "cell_type": "markdown",
   "id": "eb0f7c45",
   "metadata": {
    "papermill": {
     "duration": 0.041946,
     "end_time": "2022-06-14T10:46:54.155301",
     "exception": false,
     "start_time": "2022-06-14T10:46:54.113355",
     "status": "completed"
    },
    "tags": []
   },
   "source": [
    "## Output"
   ]
  },
  {
   "cell_type": "code",
   "execution_count": 27,
   "id": "363d318a",
   "metadata": {
    "execution": {
     "iopub.execute_input": "2022-06-14T10:46:54.240835Z",
     "iopub.status.busy": "2022-06-14T10:46:54.239888Z",
     "iopub.status.idle": "2022-06-14T10:46:54.260425Z",
     "shell.execute_reply": "2022-06-14T10:46:54.259841Z"
    },
    "papermill": {
     "duration": 0.064698,
     "end_time": "2022-06-14T10:46:54.260593",
     "exception": false,
     "start_time": "2022-06-14T10:46:54.195895",
     "status": "completed"
    },
    "tags": []
   },
   "outputs": [],
   "source": [
    "fields = ['id','Expected']\n",
    "df = pd.DataFrame()\n",
    "id = list(range(1,2501))\n",
    "df['id']=pd.Series(id)\n",
    "df['Expected']= y_test\n",
    "df.to_csv('submit.csv', index=False)"
   ]
  },
  {
   "cell_type": "code",
   "execution_count": 28,
   "id": "67ac8181",
   "metadata": {
    "execution": {
     "iopub.execute_input": "2022-06-14T10:46:54.349665Z",
     "iopub.status.busy": "2022-06-14T10:46:54.348733Z",
     "iopub.status.idle": "2022-06-14T10:46:54.352147Z",
     "shell.execute_reply": "2022-06-14T10:46:54.352759Z"
    },
    "papermill": {
     "duration": 0.05126,
     "end_time": "2022-06-14T10:46:54.352932",
     "exception": false,
     "start_time": "2022-06-14T10:46:54.301672",
     "status": "completed"
    },
    "tags": []
   },
   "outputs": [
    {
     "data": {
      "text/plain": [
       "\" output\\npredict = np.random.choice([0, 1], size=(2500,), p=[1./3, 2./3])\\nfields = ['id','Expected']\\ndf = pd.DataFrame()\\nid = list(range(1,2501))\\ndf['id']=pd.Series(id)\\ndf['Expected']=pd.Series(predict)\\ndf.to_csv('submit.csv', index=False) \""
      ]
     },
     "execution_count": 28,
     "metadata": {},
     "output_type": "execute_result"
    }
   ],
   "source": [
    "''' output\n",
    "predict = np.random.choice([0, 1], size=(2500,), p=[1./3, 2./3])\n",
    "fields = ['id','Expected']\n",
    "df = pd.DataFrame()\n",
    "id = list(range(1,2501))\n",
    "df['id']=pd.Series(id)\n",
    "df['Expected']=pd.Series(predict)\n",
    "df.to_csv('submit.csv', index=False) '''"
   ]
  },
  {
   "cell_type": "code",
   "execution_count": null,
   "id": "53860b95",
   "metadata": {
    "papermill": {
     "duration": 0.041341,
     "end_time": "2022-06-14T10:46:54.436167",
     "exception": false,
     "start_time": "2022-06-14T10:46:54.394826",
     "status": "completed"
    },
    "tags": []
   },
   "outputs": [],
   "source": []
  }
 ],
 "metadata": {
  "kernelspec": {
   "display_name": "Python 3",
   "language": "python",
   "name": "python3"
  },
  "language_info": {
   "codemirror_mode": {
    "name": "ipython",
    "version": 3
   },
   "file_extension": ".py",
   "mimetype": "text/x-python",
   "name": "python",
   "nbconvert_exporter": "python",
   "pygments_lexer": "ipython3",
   "version": "3.7.12"
  },
  "papermill": {
   "default_parameters": {},
   "duration": 1376.159171,
   "end_time": "2022-06-14T10:46:55.693397",
   "environment_variables": {},
   "exception": null,
   "input_path": "__notebook__.ipynb",
   "output_path": "__notebook__.ipynb",
   "parameters": {},
   "start_time": "2022-06-14T10:23:59.534226",
   "version": "2.3.3"
  }
 },
 "nbformat": 4,
 "nbformat_minor": 5
}
