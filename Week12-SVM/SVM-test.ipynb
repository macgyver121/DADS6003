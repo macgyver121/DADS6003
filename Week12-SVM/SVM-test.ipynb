{
  "cells": [
    {
      "cell_type": "markdown",
      "metadata": {
        "id": "view-in-github",
        "colab_type": "text"
      },
      "source": [
        "<a href=\"https://colab.research.google.com/github/macgyver121/DADS6003/blob/main/Week12-SVM/SVM-test.ipynb\" target=\"_parent\"><img src=\"https://colab.research.google.com/assets/colab-badge.svg\" alt=\"Open In Colab\"/></a>"
      ]
    },
    {
      "cell_type": "code",
      "execution_count": null,
      "metadata": {
        "id": "dU_PhLrWbVMi"
      },
      "outputs": [],
      "source": [
        "#Credit: https://github.com/python-engineer/MLfromscratch\n",
        "import numpy as np \n",
        "import matplotlib.pyplot as plt\n",
        "import random\n",
        "\n",
        "class SVM:\n",
        "\n",
        "    def __init__(self, learning_rate=0.001, n_iters=1000):\n",
        "        self.lr = learning_rate\n",
        "        self.n_iters = n_iters\n",
        "        self.w = None\n",
        "        self.b = None\n",
        "        self.penalty_rate = 0.01\n",
        "\n",
        "    def fit(self, X, y):\n",
        "        n_samples, n_features = X.shape  \n",
        "        self.w = np.array([0,0])\n",
        "        self.b = 0\n",
        "        X_ = X\n",
        "        y_ = y\n",
        "        self.d = 1\n",
        "\n",
        "        for i in range(self.n_iters):\n",
        "\n",
        "            '''c = list(zip(X, y))\n",
        "            random.shuffle(c)\n",
        "            X_, y_ = zip(*c)'''\n",
        "            \n",
        "            for idx, x_i in enumerate(X_):\n",
        "                tmp1 = np.dot(x_i, self.w)\n",
        "                tmp2 = y_[idx] * (tmp1 + self.b)\n",
        "                condition = tmp2 >= self.d\n",
        "                if condition:\n",
        "                    self.w = self.w - self.lr * (self.penalty_rate * self.w)\n",
        "                else: #misclassified\n",
        "                    self.w = self.w - self.lr * ( \n",
        "                        self.penalty_rate * self.w - np.multiply(x_i, y_[idx]))\n",
        "                    self.b = self.b - self.lr * (-1 * y_[idx])\n",
        "                \n",
        "                #print(\"i= \",i,\" W = \",self.w,\" b = \",self.b)\n",
        "\n",
        "            if i == self.n_iters-1:\n",
        "              self.visualize_svm(self.w, self.b, X, y)\n",
        "                   \n",
        "    def predict(self, X):\n",
        "        approx = np.dot(X, self.w) + self.b\n",
        "        return np.sign(approx)\n",
        "    \n",
        "    def visualize_svm(self, w, b,X,y):\n",
        "\n",
        "        def get_hyperplane_value(x, w, b, offset):\n",
        "            return (-w[0] * x + b + offset) / w[1]\n",
        "\n",
        "        fig = plt.figure()\n",
        "        ax = fig.add_subplot(1,1,1)\n",
        "        plt.scatter(X[:,0], X[:,1], marker='o',c=y)\n",
        "        plt.xlim(-20, 20)\n",
        "        plt.ylim(-20, 20)\n",
        "\n",
        "        x0_1 = np.amin(X[:,0])\n",
        "        x0_2 = np.amax(X[:,0])\n",
        "\n",
        "        x1_1 = get_hyperplane_value(x0_1, w, b, 0)\n",
        "        x1_2 = get_hyperplane_value(x0_2, w, b, 0)\n",
        "\n",
        "        x1_1_m = get_hyperplane_value(x0_1, w, b, -self.d)\n",
        "        x1_2_m = get_hyperplane_value(x0_2, w, b, -self.d)\n",
        "\n",
        "        x1_1_p = get_hyperplane_value(x0_1, w, b, self.d)\n",
        "        x1_2_p = get_hyperplane_value(x0_2, w, b, self.d)\n",
        "\n",
        "        ax.plot([x0_1, x0_2],[x1_1, x1_2], 'b--')\n",
        "        ax.plot([x0_1, x0_2],[x1_1_m, x1_2_m], 'r')\n",
        "        ax.plot([x0_1, x0_2],[x1_1_p, x1_2_p], 'r')\n",
        "\n",
        "        x1_min = np.amin(X[:,1])\n",
        "        x1_max = np.amax(X[:,1])\n",
        "        ax.set_ylim([x1_min-3,x1_max+3])\n",
        "\n",
        "        plt.show()\n",
        "\n",
        "    "
      ]
    },
    {
      "cell_type": "code",
      "execution_count": null,
      "metadata": {
        "id": "H2iBLSEubVMp",
        "outputId": "537350a4-b170-49f0-beb9-78837da4a0e4",
        "colab": {
          "base_uri": "https://localhost:8080/",
          "height": 282
        }
      },
      "outputs": [
        {
          "output_type": "display_data",
          "data": {
            "text/plain": [
              "<Figure size 432x288 with 1 Axes>"
            ],
            "image/png": "[encoded data removed]"
          },
          "metadata": {
            "needs_background": "light"
          }
        },
        {
          "output_type": "stream",
          "name": "stdout",
          "text": [
            "our [ 0.51255075 -0.00554383]   -0.027000000000000017\n"
          ]
        }
      ],
      "source": [
        "import numpy as np\n",
        "from sklearn import datasets\n",
        "#from sklearn.svm import LinearSVC\n",
        "from sklearn.svm import SVC\n",
        "\n",
        "X, y =  datasets.make_blobs(n_samples=20, n_features=2, centers=2, cluster_std=2, random_state=41)\n",
        "y = np.where(y == 0, -1, 1)\n",
        "\n",
        "\n",
        "#print(X, \" \", y)\n",
        "\n",
        "clf = SVM(n_iters=1000)\n",
        "clf.fit(X, y)\n",
        "\n",
        "print(\"our\", clf.w, \" \", clf.b)\n",
        "\n",
        "\n",
        "#clf2 = SVC(C=1e5, kernel='linear') #LinearSVC()\n",
        "#clf2.fit(X,y)\n",
        "\n",
        "#print(\"sklearn \",clf2.coef_,\" \",clf2.intercept_)\n",
        "\n",
        "\n",
        "#X = np.array([[3.38,-8.34],\n",
        "#              [-4.41,-10.11],\n",
        "#              [2.31,-10.07],\n",
        "#              [-4.73,-10]])\n",
        "#y = np.array([1,0,1,0])"
      ]
    },
    {
      "cell_type": "markdown",
      "source": [
        "# Todo\n",
        "1. Create hinge loss function\n",
        "2. Stop training if hinge loss less than threshold."
      ],
      "metadata": {
        "id": "rUWwlCaQdqdn"
      }
    }
  ],
  "metadata": {
    "kernelspec": {
      "display_name": "Python 3",
      "language": "python",
      "name": "python3"
    },
    "language_info": {
      "codemirror_mode": {
        "name": "ipython",
        "version": 3
      },
      "file_extension": ".py",
      "mimetype": "text/x-python",
      "name": "python",
      "nbconvert_exporter": "python",
      "pygments_lexer": "ipython3",
      "version": "3.7.4"
    },
    "colab": {
      "name": "SVM-test.ipynb",
      "provenance": [],
      "include_colab_link": true
    }
  },
  "nbformat": 4,
  "nbformat_minor": 0
}