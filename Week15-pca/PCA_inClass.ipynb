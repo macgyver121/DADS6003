{
  "cells": [
    {
      "cell_type": "markdown",
      "metadata": {
        "id": "view-in-github",
        "colab_type": "text"
      },
      "source": [
        "<a href=\"https://colab.research.google.com/github/macgyver121/DADS6003/blob/main/Week15-pca/PCA_inClass.ipynb\" target=\"_parent\"><img src=\"https://colab.research.google.com/assets/colab-badge.svg\" alt=\"Open In Colab\"/></a>"
      ]
    },
    {
      "cell_type": "markdown",
      "metadata": {
        "id": "hHFwgyW4X8Uu"
      },
      "source": [
        "# PCA"
      ]
    },
    {
      "cell_type": "code",
      "execution_count": 64,
      "metadata": {
        "id": "5xc4Vc7iX8Uv",
        "outputId": "6f1cfed3-0c61-46fc-b9d8-a39737bb644c",
        "colab": {
          "base_uri": "https://localhost:8080/",
          "height": 369
        }
      },
      "outputs": [
        {
          "output_type": "stream",
          "name": "stdout",
          "text": [
            "pca.explained_variance_ratio_ [0.97 0.03]\n",
            "cumsum of variance [0.97 1.00]\n",
            "eigenvalues =  [6.69 0.24]\n",
            "eigenvectors  [[0.69 0.72]\n",
            " [0.72 -0.69]]\n"
          ]
        },
        {
          "output_type": "execute_result",
          "data": {
            "text/plain": [
              "(0.7, 7.3, 2.75, 8.25)"
            ]
          },
          "metadata": {},
          "execution_count": 64
        },
        {
          "output_type": "display_data",
          "data": {
            "text/plain": [
              "<Figure size 432x288 with 1 Axes>"
            ],
            "image/png": "[encoded data removed]"
          },
          "metadata": {
            "needs_background": "light"
          }
        }
      ],
      "source": [
        "import numpy as np\n",
        "import matplotlib.pyplot as plt\n",
        "from sklearn.decomposition import PCA\n",
        "np.set_printoptions(formatter={'float': lambda x: \"{0:0.2f}\".format(x)})\n",
        "\n",
        "#X = np.array([[19.0, 63.0], [39.0, 74.0], [30.0, 87.0], [30.0, 23.0], [15.0, 35.0], [15.0, 43.0], [15.0,32.0],[30.0,73.0]])\n",
        "X = np.array([[1.0,3.0],\n",
        "              [2.0,3.0],\n",
        "              [3.0,4.0],\n",
        "              [3.0,5.0],\n",
        "              [4.0,4.0],\n",
        "              [4.0,6.0],\n",
        "              [5.0,6.0],\n",
        "              [5.0,7.0],\n",
        "              [6.0,8.0],\n",
        "              [7.0,8.0]])\n",
        "pca = PCA(n_components=2)\n",
        "pca.fit(X)\n",
        "\n",
        "print(\"pca.explained_variance_ratio_\", pca.explained_variance_ratio_)\n",
        "cs = np.cumsum(pca.explained_variance_ratio_)\n",
        "print(\"cumsum of variance\", cs)\n",
        "print(\"eigenvalues = \", pca.explained_variance_)\n",
        "print(\"eigenvectors \", pca.components_)\n",
        "#print(pca.fit_transform(X))\n",
        "\n",
        "def draw_vector(v0, v1, ax=None):\n",
        "    ax = ax or plt.gca()\n",
        "    arrowprops=dict(arrowstyle='->', linewidth=2, shrinkA=0, shrinkB=0)\n",
        "    ax.annotate('', v1, v0, arrowprops=arrowprops)\n",
        "\n",
        "# plot data\n",
        "plt.scatter(X[:, 0], X[:, 1], alpha=0.7)\n",
        "for length, vector in zip(pca.explained_variance_, pca.components_):\n",
        "    v = vector * np.sqrt(length)\n",
        "    draw_vector(pca.mean_, pca.mean_ + v)\n",
        "plt.axis('equal')"
      ]
    },
    {
      "cell_type": "markdown",
      "metadata": {
        "id": "u2r118HQX8Ux"
      },
      "source": [
        "Implement of Page 12 in lecture"
      ]
    },
    {
      "cell_type": "code",
      "execution_count": 2,
      "metadata": {
        "id": "cmFHgWinX8Ux",
        "outputId": "9a3a978a-beb7-438f-b154-086f7f1e321c",
        "colab": {
          "base_uri": "https://localhost:8080/"
        }
      },
      "outputs": [
        {
          "output_type": "stream",
          "name": "stdout",
          "text": [
            "[[-3.81]\n",
            " [-3.12]\n",
            " [-1.70]\n",
            " [-0.98]\n",
            " [-1.01]\n",
            " [0.43]\n",
            " [1.13]\n",
            " [1.85]\n",
            " [3.26]\n",
            " [3.95]]\n",
            "original shape:    (10, 2)\n",
            "transformed shape: (10, 1)\n"
          ]
        }
      ],
      "source": [
        "pca = PCA(n_components=1)\n",
        "pca.fit(X)\n",
        "X_pca = pca.transform(X)\n",
        "print(X_pca)\n",
        "print(\"original shape:   \", X.shape)\n",
        "print(\"transformed shape:\", X_pca.shape)"
      ]
    },
    {
      "cell_type": "code",
      "execution_count": 3,
      "metadata": {
        "id": "qDwui925X8Ux",
        "outputId": "a27f0828-5a20-4506-a748-843117f4f4bd",
        "colab": {
          "base_uri": "https://localhost:8080/",
          "height": 612
        }
      },
      "outputs": [
        {
          "output_type": "stream",
          "name": "stdout",
          "text": [
            "X_approx [[1.36 2.65]\n",
            " [1.84 3.15]\n",
            " [2.82 4.17]\n",
            " [3.32 4.69]\n",
            " [3.30 4.67]\n",
            " [4.30 5.71]\n",
            " [4.78 6.21]\n",
            " [5.28 6.73]\n",
            " [6.26 7.75]\n",
            " [6.74 8.25]]\n",
            "X [[1.00 3.00]\n",
            " [2.00 3.00]\n",
            " [3.00 4.00]\n",
            " [3.00 5.00]\n",
            " [4.00 4.00]\n",
            " [4.00 6.00]\n",
            " [5.00 6.00]\n",
            " [5.00 7.00]\n",
            " [6.00 8.00]\n",
            " [7.00 8.00]]\n"
          ]
        },
        {
          "output_type": "display_data",
          "data": {
            "text/plain": [
              "<Figure size 432x288 with 1 Axes>"
            ],
            "image/png": "[encoded data removed]"
          },
          "metadata": {
            "needs_background": "light"
          }
        }
      ],
      "source": [
        "X_approx = pca.inverse_transform(X_pca)\n",
        "print(\"X_approx\", X_approx)\n",
        "print(\"X\",X)\n",
        "plt.scatter(X[:, 0], X[:, 1], alpha=0.2)\n",
        "# ปัดทศนิยม Ceil function\n",
        "plt.scatter(X_approx[:, 0], X_approx[:, 1], alpha=1)\n",
        "plt.show()\n",
        "#plt.axis('equal');"
      ]
    },
    {
      "cell_type": "markdown",
      "metadata": {
        "id": "S19ys0sTX8Uy"
      },
      "source": [
        "# Implement PCA from scratch"
      ]
    },
    {
      "cell_type": "code",
      "execution_count": 4,
      "metadata": {
        "id": "mqFo2IEJX8Uy",
        "outputId": "ceb7511c-2357-49be-95e9-aeb41b468aa8",
        "colab": {
          "base_uri": "https://localhost:8080/"
        }
      },
      "outputs": [
        {
          "output_type": "stream",
          "name": "stdout",
          "text": [
            "[[3.33 3.22]\n",
            " [3.22 3.60]]\n",
            "[[1.00 3.00]\n",
            " [2.00 3.00]\n",
            " [3.00 4.00]\n",
            " [3.00 5.00]\n",
            " [4.00 4.00]\n",
            " [4.00 6.00]\n",
            " [5.00 6.00]\n",
            " [5.00 7.00]\n",
            " [6.00 8.00]\n",
            " [7.00 8.00]]\n",
            "evecs  [[-0.72 0.69]\n",
            " [0.69 0.72]]\n",
            "evals  [0.24 6.69]\n"
          ]
        }
      ],
      "source": [
        "import numpy as np\n",
        "from scipy import linalg as LA\n",
        "\n",
        "#array([[19.0, 63.0], [39.0, 74.0], [30.0, 87.0], [30.0, 23.0], [15.0, 35.0], [15.0, 43.0], [15.0,32.0],[30.0,73.0]])\n",
        "\n",
        "# Covariance\n",
        "def cov(x, y):\n",
        "    xbar, ybar = x.mean(), y.mean()\n",
        "    return np.sum((x - xbar)*(y - ybar))/(len(x)-1)\n",
        "\n",
        "# Covariance matrix\n",
        "def cov_mat(X):\n",
        "    return np.array([[cov(X[0], X[0]), cov(X[0], X[1])], \\\n",
        "                     [cov(X[1], X[0]), cov(X[1], X[1])]])\n",
        "\n",
        "# Calculate covariance matrix \n",
        "#X -= np.mean(X, axis = 0) \n",
        "#print(X)\n",
        "cc = cov_mat(X.T) # (or with np.cov(X.T))\n",
        "print(cc)\n",
        "#centering the data\n",
        "\n",
        "print(X)\n",
        "\n",
        "evals , evecs = LA.eigh(cc)\n",
        "print(\"evecs \",evecs)\n",
        "print(\"evals \",evals)"
      ]
    },
    {
      "cell_type": "markdown",
      "metadata": {
        "id": "4QINkydCX8Uy"
      },
      "source": [
        "# Projection step"
      ]
    },
    {
      "cell_type": "code",
      "execution_count": 5,
      "metadata": {
        "id": "lH-Sr-XTX8Uy",
        "outputId": "83dbf60e-37e4-4c3e-c93b-3ccaabebb0ea",
        "colab": {
          "base_uri": "https://localhost:8080/"
        }
      },
      "outputs": [
        {
          "output_type": "stream",
          "name": "stdout",
          "text": [
            "e2  [[0.69 0.72]]\n",
            "[[-3.00 -2.40]\n",
            " [-2.00 -2.40]\n",
            " [-1.00 -1.40]\n",
            " [-1.00 -0.40]\n",
            " [0.00 -1.40]\n",
            " [0.00 0.60]\n",
            " [1.00 0.60]\n",
            " [1.00 1.60]\n",
            " [2.00 2.60]\n",
            " [3.00 2.60]]\n",
            "[[-3.81]\n",
            " [-3.12]\n",
            " [-1.70]\n",
            " [-0.98]\n",
            " [-1.01]\n",
            " [0.43]\n",
            " [1.13]\n",
            " [1.85]\n",
            " [3.26]\n",
            " [3.95]]\n"
          ]
        }
      ],
      "source": [
        "#idx = np.argsort(evals)[::-1]\n",
        "#evecs = evecs[:,idx]\n",
        "#evals = evals[idx]\n",
        "e2 = np.array([evecs[1,:]])\n",
        "print(\"e2 \",e2)\n",
        "X -= np.mean(X, axis = 0) \n",
        "print(X)\n",
        "a = np.dot(e2,X.T) \n",
        "print(a.T)"
      ]
    },
    {
      "cell_type": "markdown",
      "metadata": {
        "id": "ihcioBs9X8Uz"
      },
      "source": [
        "# Retrieving old data (x1,x2)"
      ]
    },
    {
      "cell_type": "code",
      "execution_count": 6,
      "metadata": {
        "id": "AQgQvI1OX8Uz",
        "outputId": "69817882-fb60-4091-d9b1-f4408a45475f",
        "colab": {
          "base_uri": "https://localhost:8080/"
        }
      },
      "outputs": [
        {
          "output_type": "stream",
          "name": "stdout",
          "text": [
            "[[-2.64 -2.75]\n",
            " [-2.16 -2.25]\n",
            " [-1.18 -1.23]\n",
            " [-0.68 -0.71]\n",
            " [-0.70 -0.73]\n",
            " [0.30 0.31]\n",
            " [0.78 0.81]\n",
            " [1.28 1.33]\n",
            " [2.26 2.35]\n",
            " [2.74 2.85]]\n",
            "[[1.36 2.65]\n",
            " [1.84 3.15]\n",
            " [2.82 4.17]\n",
            " [3.32 4.69]\n",
            " [3.30 4.67]\n",
            " [4.30 5.71]\n",
            " [4.78 6.21]\n",
            " [5.28 6.73]\n",
            " [6.26 7.75]\n",
            " [6.74 8.25]]\n"
          ]
        }
      ],
      "source": [
        "#Reverse\n",
        "b = np.dot(a.T,e2)\n",
        "print(b)\n",
        "print(b+np.array([4,5.4]))\n"
      ]
    },
    {
      "cell_type": "markdown",
      "metadata": {
        "id": "0cxG0_DmX8Uz"
      },
      "source": [
        "# Exercise"
      ]
    },
    {
      "cell_type": "markdown",
      "metadata": {
        "id": "K-9m2oW2X8Uz"
      },
      "source": [
        "1. Generate data using make_regression, sample = 100, dim = 20, random_state=1234 <br/>\n",
        "2. Find PCA in data <br/>\n",
        " - PCA(.95) <br/>\n",
        " - fit <br/>\n",
        "3. show  <br/>\n",
        "print(\"pca.explained_variance_ratio_\", pca.explained_variance_ratio_) <br/>\n",
        "cs = np.cumsum(pca.explained_variance_ratio_) <br/>\n",
        "print(cs) <br/>\n",
        "print(pca.explained_variance_) <br/>\n",
        "print(pca.components_) <br/>\n",
        "\n",
        "Plot bar chart of cumulative variance"
      ]
    },
    {
      "cell_type": "code",
      "source": [
        "from sklearn.datasets import make_regression"
      ],
      "metadata": {
        "id": "c13ittNOJnlh"
      },
      "execution_count": 14,
      "outputs": []
    },
    {
      "cell_type": "code",
      "source": [
        "x1, y1 = make_regression(n_samples=100, n_features=20, random_state = 1234)"
      ],
      "metadata": {
        "id": "DgHU-Rk4KYdC"
      },
      "execution_count": 66,
      "outputs": []
    },
    {
      "cell_type": "code",
      "source": [
        "print(x1)"
      ],
      "metadata": {
        "id": "G2bbHlosK36j",
        "outputId": "5802ff04-f223-492d-d01a-7966055f971a",
        "colab": {
          "base_uri": "https://localhost:8080/"
        }
      },
      "execution_count": 67,
      "outputs": [
        {
          "output_type": "stream",
          "name": "stdout",
          "text": [
            "[[-0.28 0.18 0.37 ... -0.68 0.29 0.78]\n",
            " [-0.07 0.72 -1.51 ... -0.32 -0.32 -0.40]\n",
            " [-0.01 -1.15 -0.41 ... 0.73 -0.77 -2.23]\n",
            " ...\n",
            " [-0.88 -0.07 2.01 ... -0.23 -1.59 -0.24]\n",
            " [0.64 -0.25 0.44 ... 0.24 -0.48 0.68]\n",
            " [0.84 1.00 -0.78 ... 0.46 -0.42 0.65]]\n"
          ]
        }
      ]
    },
    {
      "cell_type": "code",
      "source": [
        "pca = PCA(.95)\n",
        "pca.fit(x1)"
      ],
      "metadata": {
        "id": "sWfh2AcHKjYc",
        "outputId": "6c317cff-a7c2-4dde-8530-803d5a766aa8",
        "colab": {
          "base_uri": "https://localhost:8080/"
        }
      },
      "execution_count": 68,
      "outputs": [
        {
          "output_type": "execute_result",
          "data": {
            "text/plain": [
              "PCA(n_components=0.95)"
            ]
          },
          "metadata": {},
          "execution_count": 68
        }
      ]
    },
    {
      "cell_type": "code",
      "source": [
        "print(\"pca.explained_variance_ratio_\", pca.explained_variance_ratio_)\n",
        "cs = np.cumsum(pca.explained_variance_ratio_)\n",
        "print(\"cumsum of variance\", cs)\n",
        "print(\"lambda = \", pca.explained_variance_)\n",
        "print(\"components \", pca.components_)\n",
        "print(\"n_components_remaining\", pca.n_components_)"
      ],
      "metadata": {
        "id": "GPBK_QpAMIo-",
        "outputId": "a2a258fd-7781-4eda-f364-15856fe74448",
        "colab": {
          "base_uri": "https://localhost:8080/"
        }
      },
      "execution_count": 69,
      "outputs": [
        {
          "output_type": "stream",
          "name": "stdout",
          "text": [
            "pca.explained_variance_ratio_ [0.09 0.09 0.08 0.08 0.07 0.07 0.06 0.06 0.05 0.05 0.05 0.04 0.03 0.03\n",
            " 0.03 0.03 0.03 0.02]\n",
            "cumsum of variance [0.09 0.18 0.26 0.34 0.41 0.47 0.54 0.59 0.65 0.69 0.74 0.78 0.81 0.85\n",
            " 0.88 0.91 0.94 0.96]\n",
            "lambda =  [1.78 1.70 1.60 1.48 1.33 1.27 1.18 1.12 1.01 0.90 0.87 0.75 0.67 0.66\n",
            " 0.63 0.58 0.54 0.43]\n",
            "components  [[0.11 -0.10 0.02 -0.17 -0.01 -0.23 0.43 -0.20 0.13 0.60 0.14 0.23 0.09\n",
            "  0.06 -0.14 -0.29 -0.17 0.00 0.02 0.27]\n",
            " [0.15 0.00 0.31 0.49 -0.28 0.44 0.20 -0.17 -0.06 0.00 -0.30 0.09 0.01\n",
            "  -0.25 -0.28 0.01 0.04 0.02 -0.15 0.21]\n",
            " [0.04 0.14 -0.40 -0.13 -0.04 -0.27 0.10 -0.02 -0.28 0.01 -0.16 0.03\n",
            "  -0.25 -0.29 -0.13 0.34 -0.22 0.27 -0.45 0.11]\n",
            " [0.23 0.35 -0.22 0.18 0.01 -0.13 -0.01 -0.17 -0.01 -0.20 0.36 -0.36 0.25\n",
            "  -0.09 -0.25 0.06 0.01 0.07 0.36 0.36]\n",
            " [-0.10 0.03 -0.11 0.28 0.47 0.04 -0.41 0.11 0.04 0.33 -0.16 0.18 -0.10\n",
            "  0.29 -0.25 0.08 0.18 0.27 0.04 0.25]\n",
            " [0.20 -0.26 0.19 0.41 -0.04 -0.33 -0.15 0.01 0.11 0.21 0.29 -0.14 -0.09\n",
            "  -0.21 0.49 0.15 0.16 0.06 -0.20 0.10]\n",
            " [0.21 -0.26 -0.21 -0.01 -0.17 -0.02 -0.47 -0.32 -0.18 -0.18 0.17 0.42\n",
            "  0.05 -0.14 -0.08 -0.40 -0.01 0.14 -0.01 -0.11]\n",
            " [-0.03 0.16 0.23 0.11 0.19 -0.02 0.10 -0.47 -0.11 0.07 -0.07 0.09 -0.05\n",
            "  0.01 0.20 0.22 -0.29 0.40 0.35 -0.39]\n",
            " [0.18 -0.15 -0.20 0.04 0.47 0.29 0.17 -0.22 -0.05 0.10 0.12 -0.44 -0.04\n",
            "  -0.05 -0.10 -0.25 0.10 -0.03 -0.32 -0.33]\n",
            " [-0.30 -0.24 -0.15 0.20 0.02 -0.19 0.14 0.10 0.40 -0.25 -0.23 -0.10 0.43\n",
            "  -0.07 -0.01 -0.20 -0.16 0.42 -0.11 -0.03]\n",
            " [-0.05 0.39 -0.07 0.15 0.27 0.22 0.14 0.40 -0.16 0.04 0.26 0.38 0.23\n",
            "  -0.32 0.28 -0.18 -0.07 0.03 -0.06 -0.04]\n",
            " [-0.17 -0.26 -0.17 0.19 0.33 -0.02 -0.04 -0.17 0.19 -0.11 -0.02 0.18\n",
            "  -0.06 -0.27 -0.05 0.23 -0.38 -0.57 0.13 0.10]\n",
            " [-0.18 -0.04 -0.25 0.15 -0.34 0.28 -0.09 -0.07 -0.02 0.27 0.33 0.02 0.36\n",
            "  0.33 -0.03 0.38 -0.18 -0.04 -0.21 -0.18]\n",
            " [-0.06 0.04 -0.45 0.23 -0.24 0.17 0.02 0.03 -0.09 0.15 -0.23 -0.21 -0.33\n",
            "  0.13 0.40 -0.33 -0.23 -0.02 0.25 0.15]\n",
            " [0.17 -0.31 0.15 0.22 0.13 -0.22 0.15 0.24 -0.62 -0.16 -0.04 -0.04 0.18\n",
            "  0.35 -0.05 -0.04 -0.25 -0.08 0.02 0.03]\n",
            " [-0.28 0.26 0.07 0.30 -0.02 -0.18 0.19 -0.16 0.11 -0.32 0.32 0.16 -0.40\n",
            "  0.35 -0.10 -0.20 0.01 -0.05 -0.28 -0.02]\n",
            " [-0.22 -0.40 0.02 -0.01 -0.09 0.17 0.15 0.32 -0.05 0.02 0.40 -0.04 -0.38\n",
            "  -0.22 -0.28 0.08 -0.02 0.30 0.31 -0.06]\n",
            " [-0.49 -0.18 -0.10 -0.09 0.07 0.04 0.20 -0.35 -0.37 -0.05 0.01 0.04 0.15\n",
            "  -0.06 0.22 0.06 0.49 0.01 0.05 0.29]]\n",
            "n_components_remaining 18\n"
          ]
        }
      ]
    },
    {
      "cell_type": "code",
      "source": [
        "plt.plot(cs)"
      ],
      "metadata": {
        "id": "9n1ISNCYMMC5",
        "outputId": "1f024091-f847-429c-b46b-9a5b7ecd3e47",
        "colab": {
          "base_uri": "https://localhost:8080/",
          "height": 286
        }
      },
      "execution_count": 39,
      "outputs": [
        {
          "output_type": "execute_result",
          "data": {
            "text/plain": [
              "[<matplotlib.lines.Line2D at 0x7f7d99e584d0>]"
            ]
          },
          "metadata": {},
          "execution_count": 39
        },
        {
          "output_type": "display_data",
          "data": {
            "text/plain": [
              "<Figure size 432x288 with 1 Axes>"
            ],
            "image/png": "[encoded data removed]"
          },
          "metadata": {
            "needs_background": "light"
          }
        }
      ]
    },
    {
      "cell_type": "code",
      "source": [
        "plt.bar(range(1,19), cs)\n",
        "plt.xlim([1, 18])"
      ],
      "metadata": {
        "id": "Qf1YG6FjM7II",
        "outputId": "4d4c0b89-a915-46db-e9ee-dbd3a6d96e50",
        "colab": {
          "base_uri": "https://localhost:8080/",
          "height": 285
        }
      },
      "execution_count": 63,
      "outputs": [
        {
          "output_type": "execute_result",
          "data": {
            "text/plain": [
              "(1.0, 18.0)"
            ]
          },
          "metadata": {},
          "execution_count": 63
        },
        {
          "output_type": "display_data",
          "data": {
            "text/plain": [
              "<Figure size 432x288 with 1 Axes>"
            ],
            "image/png": "[encoded data removed]"
          },
          "metadata": {
            "needs_background": "light"
          }
        }
      ]
    },
    {
      "cell_type": "markdown",
      "metadata": {
        "id": "Lvv7DwItX8U0"
      },
      "source": [
        "# Application"
      ]
    },
    {
      "cell_type": "code",
      "execution_count": 7,
      "metadata": {
        "id": "nFmFlU_-X8U0"
      },
      "outputs": [],
      "source": [
        "from sklearn.datasets import fetch_openml\n",
        "mnist = fetch_openml('mnist_784')"
      ]
    },
    {
      "cell_type": "code",
      "execution_count": 8,
      "metadata": {
        "id": "rTvtvNmTX8U0"
      },
      "outputs": [],
      "source": [
        "from sklearn.model_selection import train_test_split\n",
        "train_img, test_img, train_lbl, test_lbl = train_test_split(mnist.data,\n",
        "                                                           mnist.target,\n",
        "                                                           test_size = 0.2,\n",
        "                                                           random_state=0)\n",
        "from sklearn.preprocessing import StandardScaler\n",
        "scaler = StandardScaler()\n",
        "scaler.fit(train_img)\n",
        "train_img = scaler.transform(train_img)\n",
        "test_img = scaler.transform(test_img)"
      ]
    },
    {
      "cell_type": "code",
      "execution_count": 9,
      "metadata": {
        "id": "Jlw6TH9cX8U0",
        "outputId": "3eef732a-e181-45a9-83c8-64f9b43a3147",
        "colab": {
          "base_uri": "https://localhost:8080/"
        }
      },
      "outputs": [
        {
          "output_type": "stream",
          "name": "stdout",
          "text": [
            "39\n"
          ]
        }
      ],
      "source": [
        "from sklearn.decomposition import PCA\n",
        "pca = PCA(.50)\n",
        "pca.fit(train_img)\n",
        "print(pca.n_components_)\n",
        "train_img = pca.transform(train_img)\n",
        "test_img = pca.transform(test_img)"
      ]
    },
    {
      "cell_type": "code",
      "execution_count": 10,
      "metadata": {
        "id": "qSH4Dw0UX8U1",
        "outputId": "6e67f1bb-c07b-40ad-e177-be884716cfb7",
        "colab": {
          "base_uri": "https://localhost:8080/"
        }
      },
      "outputs": [
        {
          "output_type": "stream",
          "name": "stderr",
          "text": [
            "/usr/local/lib/python3.7/dist-packages/sklearn/linear_model/_logistic.py:818: ConvergenceWarning: lbfgs failed to converge (status=1):\n",
            "STOP: TOTAL NO. of ITERATIONS REACHED LIMIT.\n",
            "\n",
            "Increase the number of iterations (max_iter) or scale the data as shown in:\n",
            "    https://scikit-learn.org/stable/modules/preprocessing.html\n",
            "Please also refer to the documentation for alternative solver options:\n",
            "    https://scikit-learn.org/stable/modules/linear_model.html#logistic-regression\n",
            "  extra_warning_msg=_LOGISTIC_SOLVER_CONVERGENCE_MSG,\n"
          ]
        },
        {
          "output_type": "execute_result",
          "data": {
            "text/plain": [
              "LogisticRegression()"
            ]
          },
          "metadata": {},
          "execution_count": 10
        }
      ],
      "source": [
        "from sklearn.linear_model import LogisticRegression\n",
        "logisticRegr = LogisticRegression(solver='lbfgs')\n",
        "logisticRegr.fit(train_img, train_lbl)"
      ]
    },
    {
      "cell_type": "code",
      "execution_count": 11,
      "metadata": {
        "id": "VX22VR4IX8U1",
        "outputId": "4fb9bea5-7b74-481b-81f4-7a3fa9a2dd64",
        "colab": {
          "base_uri": "https://localhost:8080/"
        }
      },
      "outputs": [
        {
          "output_type": "stream",
          "name": "stdout",
          "text": [
            "['4']\n"
          ]
        }
      ],
      "source": [
        "print(logisticRegr.predict(test_img[1].reshape(1,-1)))"
      ]
    },
    {
      "cell_type": "code",
      "execution_count": 12,
      "metadata": {
        "id": "VLKpIOr5X8U1",
        "outputId": "f2bd6358-1aa6-4a38-89dd-87354088bde5",
        "colab": {
          "base_uri": "https://localhost:8080/"
        }
      },
      "outputs": [
        {
          "output_type": "execute_result",
          "data": {
            "text/plain": [
              "0.8946428571428572"
            ]
          },
          "metadata": {},
          "execution_count": 12
        }
      ],
      "source": [
        "logisticRegr.score(test_img,test_lbl)"
      ]
    }
  ],
  "metadata": {
    "kernelspec": {
      "display_name": "Python 3",
      "language": "python",
      "name": "python3"
    },
    "language_info": {
      "codemirror_mode": {
        "name": "ipython",
        "version": 3
      },
      "file_extension": ".py",
      "mimetype": "text/x-python",
      "name": "python",
      "nbconvert_exporter": "python",
      "pygments_lexer": "ipython3",
      "version": "3.7.4"
    },
    "colab": {
      "name": "PCA.ipynb",
      "provenance": [],
      "include_colab_link": true
    }
  },
  "nbformat": 4,
  "nbformat_minor": 0
}