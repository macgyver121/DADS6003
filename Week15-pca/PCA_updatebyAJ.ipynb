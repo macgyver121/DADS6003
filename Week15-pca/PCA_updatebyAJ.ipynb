{
  "cells": [
    {
      "cell_type": "markdown",
      "metadata": {
        "id": "view-in-github",
        "colab_type": "text"
      },
      "source": [
        "<a href=\"https://colab.research.google.com/github/macgyver121/DADS6003/blob/main/Week15-pca/PCA_updatebyAJ.ipynb\" target=\"_parent\"><img src=\"https://colab.research.google.com/assets/colab-badge.svg\" alt=\"Open In Colab\"/></a>"
      ]
    },
    {
      "cell_type": "markdown",
      "metadata": {
        "id": "hHFwgyW4X8Uu"
      },
      "source": [
        "# PCA"
      ]
    },
    {
      "cell_type": "code",
      "execution_count": null,
      "metadata": {
        "id": "5xc4Vc7iX8Uv",
        "outputId": "b5b548cb-93dc-4bc5-81fe-cd6b4215c46a",
        "colab": {
          "base_uri": "https://localhost:8080/",
          "height": 369
        }
      },
      "outputs": [
        {
          "output_type": "stream",
          "name": "stdout",
          "text": [
            "pca.explained_variance_ratio_ [0.97 0.03]\n",
            "cumsum of variance [0.97 1.00]\n",
            "eigenvalues =  [6.69 0.24]\n",
            "eigenvectors  [[0.69 0.72]\n",
            " [0.72 -0.69]]\n"
          ]
        },
        {
          "output_type": "execute_result",
          "data": {
            "text/plain": [
              "(0.7, 7.3, 2.75, 8.25)"
            ]
          },
          "metadata": {},
          "execution_count": 2
        },
        {
          "output_type": "display_data",
          "data": {
            "text/plain": [
              "<Figure size 432x288 with 1 Axes>"
            ],
            "image/png": "[encoded data removed]"
          },
          "metadata": {
            "needs_background": "light"
          }
        }
      ],
      "source": [
        "import numpy as np\n",
        "import matplotlib.pyplot as plt\n",
        "from sklearn.decomposition import PCA\n",
        "np.set_printoptions(formatter={'float': lambda x: \"{0:0.2f}\".format(x)})\n",
        "\n",
        "#X = np.array([[19.0, 63.0], [39.0, 74.0], [30.0, 87.0], [30.0, 23.0], [15.0, 35.0], [15.0, 43.0], [15.0,32.0],[30.0,73.0]])\n",
        "X = np.array([[1.0,3.0],\n",
        "              [2.0,3.0],\n",
        "              [3.0,4.0],\n",
        "              [3.0,5.0],\n",
        "              [4.0,4.0],\n",
        "              [4.0,6.0],\n",
        "              [5.0,6.0],\n",
        "              [5.0,7.0],\n",
        "              [6.0,8.0],\n",
        "              [7.0,8.0]])\n",
        "pca = PCA(n_components=2)\n",
        "pca.fit(X)\n",
        "\n",
        "print(\"pca.explained_variance_ratio_\", pca.explained_variance_ratio_)\n",
        "cs = np.cumsum(pca.explained_variance_ratio_)\n",
        "print(\"cumsum of variance\", cs)\n",
        "print(\"eigenvalues = \", pca.explained_variance_)\n",
        "print(\"eigenvectors \", pca.components_)\n",
        "#print(pca.fit_transform(X))\n",
        "\n",
        "def draw_vector(v0, v1, ax=None):\n",
        "    ax = ax or plt.gca()\n",
        "    arrowprops=dict(arrowstyle='->', linewidth=2, shrinkA=0, shrinkB=0)\n",
        "    ax.annotate('', v1, v0, arrowprops=arrowprops)\n",
        "\n",
        "# plot data\n",
        "plt.scatter(X[:, 0], X[:, 1], alpha=0.7)\n",
        "for length, vector in zip(pca.explained_variance_, pca.components_):\n",
        "    v = vector * np.sqrt(length)\n",
        "    draw_vector(pca.mean_, pca.mean_ + v)\n",
        "plt.axis('equal')"
      ]
    },
    {
      "cell_type": "markdown",
      "metadata": {
        "id": "u2r118HQX8Ux"
      },
      "source": [
        "Implement of Page 14 in lecture"
      ]
    },
    {
      "cell_type": "code",
      "execution_count": null,
      "metadata": {
        "id": "cmFHgWinX8Ux",
        "outputId": "c7b99a14-b3ff-4c71-a1a6-8755b6c5450c",
        "colab": {
          "base_uri": "https://localhost:8080/"
        }
      },
      "outputs": [
        {
          "output_type": "stream",
          "name": "stdout",
          "text": [
            "[[-3.81]\n",
            " [-3.12]\n",
            " [-1.70]\n",
            " [-0.98]\n",
            " [-1.01]\n",
            " [0.43]\n",
            " [1.13]\n",
            " [1.85]\n",
            " [3.26]\n",
            " [3.95]]\n",
            "original shape:    (10, 2)\n",
            "transformed shape: (10, 1)\n"
          ]
        }
      ],
      "source": [
        "pca = PCA(n_components=1)\n",
        "pca.fit(X)\n",
        "X_pca = pca.transform(X)\n",
        "print(X_pca)\n",
        "print(\"original shape:   \", X.shape)\n",
        "print(\"transformed shape:\", X_pca.shape)"
      ]
    },
    {
      "cell_type": "markdown",
      "source": [
        "Page 16 of lecture"
      ],
      "metadata": {
        "id": "rIIiqF2AHnpQ"
      }
    },
    {
      "cell_type": "code",
      "execution_count": null,
      "metadata": {
        "id": "qDwui925X8Ux",
        "outputId": "63b77e9c-90eb-4b0d-bd8f-bd7a43d0a135",
        "colab": {
          "base_uri": "https://localhost:8080/",
          "height": 612
        }
      },
      "outputs": [
        {
          "output_type": "stream",
          "name": "stdout",
          "text": [
            "X_approx [[1.36 2.65]\n",
            " [1.84 3.15]\n",
            " [2.82 4.17]\n",
            " [3.32 4.69]\n",
            " [3.30 4.67]\n",
            " [4.30 5.71]\n",
            " [4.78 6.21]\n",
            " [5.28 6.73]\n",
            " [6.26 7.75]\n",
            " [6.74 8.25]]\n",
            "X [[1.00 3.00]\n",
            " [2.00 3.00]\n",
            " [3.00 4.00]\n",
            " [3.00 5.00]\n",
            " [4.00 4.00]\n",
            " [4.00 6.00]\n",
            " [5.00 6.00]\n",
            " [5.00 7.00]\n",
            " [6.00 8.00]\n",
            " [7.00 8.00]]\n"
          ]
        },
        {
          "output_type": "display_data",
          "data": {
            "text/plain": [
              "<Figure size 432x288 with 1 Axes>"
            ],
            "image/png": "[encoded data removed]"
          },
          "metadata": {
            "needs_background": "light"
          }
        }
      ],
      "source": [
        "X_approx = pca.inverse_transform(X_pca)\n",
        "print(\"X_approx\", X_approx)\n",
        "print(\"X_original\",X)\n",
        "plt.scatter(X[:, 0], X[:, 1], alpha=0.2)\n",
        "#ต้องปัดทศนิยมก่อน Ceil function\n",
        "plt.scatter(X_approx[:, 0], X_approx[:, 1], alpha=1)\n",
        "plt.show()\n",
        "#plt.axis('equal');"
      ]
    },
    {
      "cell_type": "markdown",
      "metadata": {
        "id": "S19ys0sTX8Uy"
      },
      "source": [
        "# Implement PCA from scratch"
      ]
    },
    {
      "cell_type": "code",
      "execution_count": null,
      "metadata": {
        "id": "mqFo2IEJX8Uy",
        "outputId": "4cfd198a-f43d-47ea-d795-8d72d05cafe8",
        "colab": {
          "base_uri": "https://localhost:8080/"
        }
      },
      "outputs": [
        {
          "output_type": "stream",
          "name": "stdout",
          "text": [
            "[[3.33 3.22]\n",
            " [3.22 3.60]]\n",
            "[[1.00 3.00]\n",
            " [2.00 3.00]\n",
            " [3.00 4.00]\n",
            " [3.00 5.00]\n",
            " [4.00 4.00]\n",
            " [4.00 6.00]\n",
            " [5.00 6.00]\n",
            " [5.00 7.00]\n",
            " [6.00 8.00]\n",
            " [7.00 8.00]]\n",
            "evecs  [[-0.72 0.69]\n",
            " [0.69 0.72]]\n",
            "evals  [0.24 6.69]\n"
          ]
        }
      ],
      "source": [
        "import numpy as np\n",
        "from scipy import linalg as LA\n",
        "\n",
        "#array([[19.0, 63.0], [39.0, 74.0], [30.0, 87.0], [30.0, 23.0], [15.0, 35.0], [15.0, 43.0], [15.0,32.0],[30.0,73.0]])\n",
        "\n",
        "# Covariance\n",
        "def cov(x, y):\n",
        "    xbar, ybar = x.mean(), y.mean()\n",
        "    return np.sum((x - xbar)*(y - ybar))/(len(x)-1)\n",
        "\n",
        "# Covariance matrix\n",
        "def cov_mat(X):\n",
        "    return np.array([[cov(X[0], X[0]), cov(X[0], X[1])], \\\n",
        "                     [cov(X[1], X[0]), cov(X[1], X[1])]])\n",
        "\n",
        "# Calculate covariance matrix \n",
        "#X -= np.mean(X, axis = 0) \n",
        "#print(X)\n",
        "cc = cov_mat(X.T) # (or with np.cov(X.T))\n",
        "print(cc)\n",
        "#centering the data\n",
        "\n",
        "print(X)\n",
        "\n",
        "evals , evecs = LA.eigh(cc)\n",
        "print(\"evecs \",evecs)\n",
        "print(\"evals \",evals)"
      ]
    },
    {
      "cell_type": "markdown",
      "metadata": {
        "id": "4QINkydCX8Uy"
      },
      "source": [
        "# Projection step"
      ]
    },
    {
      "cell_type": "code",
      "execution_count": null,
      "metadata": {
        "id": "lH-Sr-XTX8Uy",
        "outputId": "3142e550-284c-4e16-eb3a-0eb116ec46d6",
        "colab": {
          "base_uri": "https://localhost:8080/"
        }
      },
      "outputs": [
        {
          "output_type": "stream",
          "name": "stdout",
          "text": [
            "e2  [[0.69 0.72]]\n",
            "[[-3.00 -2.40]\n",
            " [-2.00 -2.40]\n",
            " [-1.00 -1.40]\n",
            " [-1.00 -0.40]\n",
            " [0.00 -1.40]\n",
            " [0.00 0.60]\n",
            " [1.00 0.60]\n",
            " [1.00 1.60]\n",
            " [2.00 2.60]\n",
            " [3.00 2.60]]\n",
            "[[-3.81]\n",
            " [-3.12]\n",
            " [-1.70]\n",
            " [-0.98]\n",
            " [-1.01]\n",
            " [0.43]\n",
            " [1.13]\n",
            " [1.85]\n",
            " [3.26]\n",
            " [3.95]]\n"
          ]
        }
      ],
      "source": [
        "#idx = np.argsort(evals)[::-1]\n",
        "#evecs = evecs[:,idx]\n",
        "#evals = evals[idx]\n",
        "e2 = np.array([evecs[1,:]])\n",
        "print(\"e2 \",e2)\n",
        "X -= np.mean(X, axis = 0) \n",
        "print(X)\n",
        "a = np.dot(e2,X.T) \n",
        "print(a.T)"
      ]
    },
    {
      "cell_type": "markdown",
      "metadata": {
        "id": "ihcioBs9X8Uz"
      },
      "source": [
        "# Retrieving old data (x1,x2)"
      ]
    },
    {
      "cell_type": "code",
      "execution_count": null,
      "metadata": {
        "id": "AQgQvI1OX8Uz",
        "outputId": "7d21e047-472f-48b4-e533-1798e7058b74",
        "colab": {
          "base_uri": "https://localhost:8080/"
        }
      },
      "outputs": [
        {
          "output_type": "stream",
          "name": "stdout",
          "text": [
            "[[-2.64 -2.75]\n",
            " [-2.16 -2.25]\n",
            " [-1.18 -1.23]\n",
            " [-0.68 -0.71]\n",
            " [-0.70 -0.73]\n",
            " [0.30 0.31]\n",
            " [0.78 0.81]\n",
            " [1.28 1.33]\n",
            " [2.26 2.35]\n",
            " [2.74 2.85]]\n",
            "[[1.36 2.65]\n",
            " [1.84 3.15]\n",
            " [2.82 4.17]\n",
            " [3.32 4.69]\n",
            " [3.30 4.67]\n",
            " [4.30 5.71]\n",
            " [4.78 6.21]\n",
            " [5.28 6.73]\n",
            " [6.26 7.75]\n",
            " [6.74 8.25]]\n"
          ]
        }
      ],
      "source": [
        "#Reverse\n",
        "b = np.dot(a.T,e2)\n",
        "print(b)\n",
        "print(b+np.array([4,5.4]))\n"
      ]
    },
    {
      "cell_type": "markdown",
      "metadata": {
        "id": "0cxG0_DmX8Uz"
      },
      "source": [
        "# Exercise"
      ]
    },
    {
      "cell_type": "markdown",
      "metadata": {
        "id": "K-9m2oW2X8Uz"
      },
      "source": [
        "1. Generate data using make_regression, sample = 100, dim = 20, random_state=1234 <br/>\n",
        "2. Find PCA in data <br/>\n",
        " - PCA(.95) <br/>\n",
        " - fit <br/>\n",
        "3. show  <br/>\n",
        "print(\"pca.explained_variance_ratio_\", pca.explained_variance_ratio_) <br/>\n",
        "cs = np.cumsum(pca.explained_variance_ratio_) <br/>\n",
        "print(cs) <br/>\n",
        "print(pca.explained_variance_) <br/>\n",
        "print(pca.components_) <br/>\n",
        "Plot bar chart of cumulative variance"
      ]
    },
    {
      "cell_type": "markdown",
      "metadata": {
        "id": "Lvv7DwItX8U0"
      },
      "source": [
        "# Application"
      ]
    },
    {
      "cell_type": "code",
      "execution_count": null,
      "metadata": {
        "id": "nFmFlU_-X8U0"
      },
      "outputs": [],
      "source": [
        "from sklearn.datasets import fetch_openml\n",
        "mnist = fetch_openml('mnist_784')"
      ]
    },
    {
      "cell_type": "code",
      "execution_count": null,
      "metadata": {
        "id": "rTvtvNmTX8U0",
        "outputId": "6988f7f1-e0db-404a-f531-2f805b87a7d9",
        "colab": {
          "base_uri": "https://localhost:8080/"
        }
      },
      "outputs": [
        {
          "output_type": "stream",
          "name": "stdout",
          "text": [
            "(14000, 784)\n"
          ]
        }
      ],
      "source": [
        "from sklearn.model_selection import train_test_split\n",
        "train_img, test_img, train_lbl, test_lbl = train_test_split(mnist.data,\n",
        "                                                           mnist.target,\n",
        "                                                           test_size = 0.2,\n",
        "                                                           random_state=0)\n",
        "from sklearn.preprocessing import StandardScaler\n",
        "\n",
        "test_img_original = test_img.copy()\n",
        "print(test_img_original.shape)\n",
        "scaler = StandardScaler()\n",
        "scaler.fit(train_img)\n",
        "train_img = scaler.transform(train_img)\n",
        "test_img = scaler.transform(test_img)"
      ]
    },
    {
      "cell_type": "code",
      "execution_count": null,
      "metadata": {
        "id": "Jlw6TH9cX8U0",
        "outputId": "e7477966-335b-4812-d102-8293728d09fc",
        "colab": {
          "base_uri": "https://localhost:8080/"
        }
      },
      "outputs": [
        {
          "output_type": "stream",
          "name": "stdout",
          "text": [
            "327\n",
            "cumsum of variance [0.06 0.10 0.14 0.16 0.19 0.21 0.23 0.25 0.26 0.28 0.29 0.30 0.32 0.33\n",
            " 0.34 0.35 0.36 0.37 0.37 0.38 0.39 0.40 0.41 0.41 0.42 0.43 0.44 0.44\n",
            " 0.45 0.45 0.46 0.47 0.47 0.48 0.48 0.49 0.49 0.50 0.50 0.51 0.51 0.52\n",
            " 0.52 0.53 0.53 0.54 0.54 0.55 0.55 0.56 0.56 0.56 0.57 0.57 0.58 0.58\n",
            " 0.58 0.59 0.59 0.59 0.60 0.60 0.60 0.61 0.61 0.62 0.62 0.62 0.62 0.63\n",
            " 0.63 0.63 0.64 0.64 0.64 0.65 0.65 0.65 0.66 0.66 0.66 0.66 0.67 0.67\n",
            " 0.67 0.68 0.68 0.68 0.68 0.69 0.69 0.69 0.69 0.70 0.70 0.70 0.70 0.71\n",
            " 0.71 0.71 0.71 0.72 0.72 0.72 0.72 0.73 0.73 0.73 0.73 0.73 0.74 0.74\n",
            " 0.74 0.74 0.75 0.75 0.75 0.75 0.75 0.76 0.76 0.76 0.76 0.76 0.76 0.77\n",
            " 0.77 0.77 0.77 0.77 0.78 0.78 0.78 0.78 0.78 0.78 0.79 0.79 0.79 0.79\n",
            " 0.79 0.79 0.80 0.80 0.80 0.80 0.80 0.80 0.81 0.81 0.81 0.81 0.81 0.81\n",
            " 0.81 0.82 0.82 0.82 0.82 0.82 0.82 0.82 0.83 0.83 0.83 0.83 0.83 0.83\n",
            " 0.83 0.84 0.84 0.84 0.84 0.84 0.84 0.84 0.84 0.85 0.85 0.85 0.85 0.85\n",
            " 0.85 0.85 0.85 0.86 0.86 0.86 0.86 0.86 0.86 0.86 0.86 0.86 0.87 0.87\n",
            " 0.87 0.87 0.87 0.87 0.87 0.87 0.87 0.87 0.88 0.88 0.88 0.88 0.88 0.88\n",
            " 0.88 0.88 0.88 0.88 0.89 0.89 0.89 0.89 0.89 0.89 0.89 0.89 0.89 0.89\n",
            " 0.89 0.89 0.90 0.90 0.90 0.90 0.90 0.90 0.90 0.90 0.90 0.90 0.90 0.90\n",
            " 0.90 0.91 0.91 0.91 0.91 0.91 0.91 0.91 0.91 0.91 0.91 0.91 0.91 0.91\n",
            " 0.91 0.91 0.92 0.92 0.92 0.92 0.92 0.92 0.92 0.92 0.92 0.92 0.92 0.92\n",
            " 0.92 0.92 0.92 0.92 0.93 0.93 0.93 0.93 0.93 0.93 0.93 0.93 0.93 0.93\n",
            " 0.93 0.93 0.93 0.93 0.93 0.93 0.93 0.93 0.93 0.93 0.94 0.94 0.94 0.94\n",
            " 0.94 0.94 0.94 0.94 0.94 0.94 0.94 0.94 0.94 0.94 0.94 0.94 0.94 0.94\n",
            " 0.94 0.94 0.94 0.94 0.95 0.95 0.95 0.95 0.95 0.95 0.95 0.95 0.95 0.95\n",
            " 0.95 0.95 0.95 0.95 0.95]\n"
          ]
        }
      ],
      "source": [
        "from sklearn.decomposition import PCA\n",
        "pca = PCA(0.95)\n",
        "pca.fit(train_img)\n",
        "print(pca.n_components_) #327 components explain 95% of variance\n",
        "#print(pca.explained_variance_ratio_)\n",
        "cs = np.cumsum(pca.explained_variance_ratio_)\n",
        "print(\"cumsum of variance\", cs)\n",
        "train_img = pca.transform(train_img)\n",
        "test_img = pca.transform(test_img)"
      ]
    },
    {
      "cell_type": "code",
      "execution_count": null,
      "metadata": {
        "id": "qSH4Dw0UX8U1",
        "outputId": "ea85d0bc-2d64-4cff-d916-e90590319377",
        "colab": {
          "base_uri": "https://localhost:8080/"
        }
      },
      "outputs": [
        {
          "output_type": "stream",
          "name": "stderr",
          "text": [
            "/usr/local/lib/python3.7/dist-packages/sklearn/linear_model/_logistic.py:818: ConvergenceWarning: lbfgs failed to converge (status=1):\n",
            "STOP: TOTAL NO. of ITERATIONS REACHED LIMIT.\n",
            "\n",
            "Increase the number of iterations (max_iter) or scale the data as shown in:\n",
            "    https://scikit-learn.org/stable/modules/preprocessing.html\n",
            "Please also refer to the documentation for alternative solver options:\n",
            "    https://scikit-learn.org/stable/modules/linear_model.html#logistic-regression\n",
            "  extra_warning_msg=_LOGISTIC_SOLVER_CONVERGENCE_MSG,\n"
          ]
        },
        {
          "output_type": "execute_result",
          "data": {
            "text/plain": [
              "LogisticRegression()"
            ]
          },
          "metadata": {},
          "execution_count": 51
        }
      ],
      "source": [
        "from sklearn.linear_model import LogisticRegression\n",
        "logisticRegr = LogisticRegression(solver='lbfgs')\n",
        "logisticRegr.fit(train_img, train_lbl)"
      ]
    },
    {
      "cell_type": "code",
      "execution_count": null,
      "metadata": {
        "id": "VX22VR4IX8U1",
        "outputId": "8c7ef2a1-3cc5-418c-f02d-004066ec3e61",
        "colab": {
          "base_uri": "https://localhost:8080/"
        }
      },
      "outputs": [
        {
          "output_type": "stream",
          "name": "stdout",
          "text": [
            "['4']\n"
          ]
        }
      ],
      "source": [
        "print(logisticRegr.predict(test_img[1].reshape(1,-1)))"
      ]
    },
    {
      "cell_type": "code",
      "execution_count": null,
      "metadata": {
        "id": "VLKpIOr5X8U1",
        "outputId": "07c81ad6-04a3-4223-cb60-602bfe66b7f9",
        "colab": {
          "base_uri": "https://localhost:8080/"
        }
      },
      "outputs": [
        {
          "output_type": "execute_result",
          "data": {
            "text/plain": [
              "0.9187142857142857"
            ]
          },
          "metadata": {},
          "execution_count": 53
        }
      ],
      "source": [
        "logisticRegr.score(test_img,test_lbl)"
      ]
    },
    {
      "cell_type": "code",
      "source": [
        "n_rows = 5\n",
        "n_cols = 10\n",
        "max_index = n_rows*n_cols\n",
        "fig, axs = plt.subplots(nrows=n_rows, ncols=n_cols, figsize=(n_cols, n_rows),\n",
        "                        subplot_kw={'xticks': [], 'yticks': []})\n",
        "\n",
        "print(\"Note that the title of each image is the predicted result.\")\n",
        "for ax, i in zip(axs.flat, range(max_index)):\n",
        "    # Convert array size 784x1 to 28x28 to be able to plot\n",
        "    #print(type(test_img_original))\n",
        "    my_image = np.array(test_img_original.iloc[i], dtype='float')\n",
        "    pixels = my_image.reshape((28, 28))\n",
        "    \n",
        "    # Plot image with color mapping (cmap) in grayscale\n",
        "    ax.imshow(pixels, cmap='gray')\n",
        "    # Set title with its result\n",
        "    result = logisticRegr.predict(test_img[i].reshape(1,-1)) # convert dimension (327,) to (1,327)\n",
        "    ax.set_title(result[0])\n",
        "\n",
        "# Display plot\n",
        "plt.tight_layout()\n",
        "plt.show()"
      ],
      "metadata": {
        "id": "SyJKjXauK3LP",
        "outputId": "810f38cf-47e6-4be1-9ee4-0651730f37d9",
        "colab": {
          "base_uri": "https://localhost:8080/",
          "height": 387
        }
      },
      "execution_count": null,
      "outputs": [
        {
          "output_type": "stream",
          "name": "stdout",
          "text": [
            "Note that the title of each image is the predicted result.\n"
          ]
        },
        {
          "output_type": "display_data",
          "data": {
            "text/plain": [
              "<Figure size 720x360 with 50 Axes>"
            ],
            "image/png": "[encoded data removed]"
          },
          "metadata": {}
        }
      ]
    }
  ],
  "metadata": {
    "kernelspec": {
      "display_name": "Python 3",
      "language": "python",
      "name": "python3"
    },
    "language_info": {
      "codemirror_mode": {
        "name": "ipython",
        "version": 3
      },
      "file_extension": ".py",
      "mimetype": "text/x-python",
      "name": "python",
      "nbconvert_exporter": "python",
      "pygments_lexer": "ipython3",
      "version": "3.7.4"
    },
    "colab": {
      "name": "PCA.ipynb",
      "provenance": [],
      "include_colab_link": true
    }
  },
  "nbformat": 4,
  "nbformat_minor": 0
}