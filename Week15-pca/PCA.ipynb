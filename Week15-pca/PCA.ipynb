{
  "cells": [
    {
      "cell_type": "markdown",
      "metadata": {
        "id": "view-in-github",
        "colab_type": "text"
      },
      "source": [
        "<a href=\"https://colab.research.google.com/github/macgyver121/DADS6003/blob/main/Week15-pca/PCA.ipynb\" target=\"_parent\"><img src=\"https://colab.research.google.com/assets/colab-badge.svg\" alt=\"Open In Colab\"/></a>"
      ]
    },
    {
      "cell_type": "markdown",
      "metadata": {
        "id": "hHFwgyW4X8Uu"
      },
      "source": [
        "# PCA"
      ]
    },
    {
      "cell_type": "code",
      "execution_count": null,
      "metadata": {
        "id": "5xc4Vc7iX8Uv",
        "outputId": "b5b0de67-1e8b-4264-c242-36b2aef46197",
        "colab": {
          "base_uri": "https://localhost:8080/",
          "height": 369
        }
      },
      "outputs": [
        {
          "output_type": "stream",
          "name": "stdout",
          "text": [
            "pca.explained_variance_ratio_ [0.97 0.03]\n",
            "cumsum of variance [0.97 1.00]\n",
            "lambda =  [6.69 0.24]\n",
            "components  [[0.69 0.72]\n",
            " [0.72 -0.69]]\n"
          ]
        },
        {
          "output_type": "execute_result",
          "data": {
            "text/plain": [
              "(0.7, 7.3, 2.75, 8.25)"
            ]
          },
          "metadata": {},
          "execution_count": 16
        },
        {
          "output_type": "display_data",
          "data": {
            "text/plain": [
              "<Figure size 432x288 with 1 Axes>"
            ],
            "image/png": "[encoded data removed]"
          },
          "metadata": {
            "needs_background": "light"
          }
        }
      ],
      "source": [
        "import numpy as np\n",
        "import matplotlib.pyplot as plt\n",
        "from sklearn.decomposition import PCA\n",
        "np.set_printoptions(formatter={'float': lambda x: \"{0:0.2f}\".format(x)})\n",
        "\n",
        "#X = np.array([[19.0, 63.0], [39.0, 74.0], [30.0, 87.0], [30.0, 23.0], [15.0, 35.0], [15.0, 43.0], [15.0,32.0],[30.0,73.0]])\n",
        "X = np.array([[1.0,3.0],\n",
        "              [2.0,3.0],\n",
        "              [3.0,4.0],\n",
        "              [3.0,5.0],\n",
        "              [4.0,4.0],\n",
        "              [4.0,6.0],\n",
        "              [5.0,6.0],\n",
        "              [5.0,7.0],\n",
        "              [6.0,8.0],\n",
        "              [7.0,8.0]])\n",
        "pca = PCA(n_components=2)\n",
        "pca.fit(X)\n",
        "\n",
        "print(\"pca.explained_variance_ratio_\", pca.explained_variance_ratio_)\n",
        "cs = np.cumsum(pca.explained_variance_ratio_)\n",
        "print(\"cumsum of variance\", cs)\n",
        "print(\"lambda = \", pca.explained_variance_)\n",
        "print(\"components \", pca.components_)\n",
        "#print(pca.fit_transform(X))\n",
        "\n",
        "def draw_vector(v0, v1, ax=None):\n",
        "    ax = ax or plt.gca()\n",
        "    arrowprops=dict(arrowstyle='->', linewidth=2, shrinkA=0, shrinkB=0)\n",
        "    ax.annotate('', v1, v0, arrowprops=arrowprops)\n",
        "\n",
        "# plot data\n",
        "plt.scatter(X[:, 0], X[:, 1], alpha=0.7)\n",
        "for length, vector in zip(pca.explained_variance_, pca.components_):\n",
        "    v = vector * np.sqrt(length)\n",
        "    draw_vector(pca.mean_, pca.mean_ + v)\n",
        "plt.axis('equal')"
      ]
    },
    {
      "cell_type": "markdown",
      "metadata": {
        "id": "u2r118HQX8Ux"
      },
      "source": [
        "Page 12"
      ]
    },
    {
      "cell_type": "code",
      "execution_count": null,
      "metadata": {
        "id": "cmFHgWinX8Ux",
        "outputId": "3da54ec6-10bb-4c4b-eda9-e71ecafa6715",
        "colab": {
          "base_uri": "https://localhost:8080/"
        }
      },
      "outputs": [
        {
          "output_type": "stream",
          "name": "stdout",
          "text": [
            "[[-3.81]\n",
            " [-3.12]\n",
            " [-1.70]\n",
            " [-0.98]\n",
            " [-1.01]\n",
            " [0.43]\n",
            " [1.13]\n",
            " [1.85]\n",
            " [3.26]\n",
            " [3.95]]\n",
            "original shape:    (10, 2)\n",
            "transformed shape: (10, 1)\n"
          ]
        }
      ],
      "source": [
        "pca = PCA(n_components=1)\n",
        "pca.fit(X)\n",
        "X_pca = pca.transform(X)\n",
        "print(X_pca)\n",
        "print(\"original shape:   \", X.shape)\n",
        "print(\"transformed shape:\", X_pca.shape)"
      ]
    },
    {
      "cell_type": "code",
      "execution_count": null,
      "metadata": {
        "id": "qDwui925X8Ux",
        "outputId": "2816b362-ea23-40f4-b31d-528f4987c03c",
        "colab": {
          "base_uri": "https://localhost:8080/",
          "height": 612
        }
      },
      "outputs": [
        {
          "output_type": "stream",
          "name": "stdout",
          "text": [
            "X_approx [[1.36 2.65]\n",
            " [1.84 3.15]\n",
            " [2.82 4.17]\n",
            " [3.32 4.69]\n",
            " [3.30 4.67]\n",
            " [4.30 5.71]\n",
            " [4.78 6.21]\n",
            " [5.28 6.73]\n",
            " [6.26 7.75]\n",
            " [6.74 8.25]]\n",
            "X [[1.00 3.00]\n",
            " [2.00 3.00]\n",
            " [3.00 4.00]\n",
            " [3.00 5.00]\n",
            " [4.00 4.00]\n",
            " [4.00 6.00]\n",
            " [5.00 6.00]\n",
            " [5.00 7.00]\n",
            " [6.00 8.00]\n",
            " [7.00 8.00]]\n"
          ]
        },
        {
          "output_type": "display_data",
          "data": {
            "text/plain": [
              "<Figure size 432x288 with 1 Axes>"
            ],
            "image/png": "[encoded data removed]"
          },
          "metadata": {
            "needs_background": "light"
          }
        }
      ],
      "source": [
        "X_approx = pca.inverse_transform(X_pca)\n",
        "print(\"X_approx\", X_approx)\n",
        "print(\"X\",X)\n",
        "plt.scatter(X[:, 0], X[:, 1], alpha=0.2)\n",
        "plt.scatter(X_approx[:, 0], X_approx[:, 1], alpha=1)\n",
        "plt.show()\n",
        "#plt.axis('equal');"
      ]
    },
    {
      "cell_type": "markdown",
      "metadata": {
        "id": "S19ys0sTX8Uy"
      },
      "source": [
        "# Implement PCA from scratch"
      ]
    },
    {
      "cell_type": "code",
      "execution_count": null,
      "metadata": {
        "id": "mqFo2IEJX8Uy",
        "outputId": "76b19a19-537c-4d10-fc00-fcbef84805c4",
        "colab": {
          "base_uri": "https://localhost:8080/"
        }
      },
      "outputs": [
        {
          "output_type": "stream",
          "name": "stdout",
          "text": [
            "[[3.33 3.22]\n",
            " [3.22 3.60]]\n",
            "[[1.00 3.00]\n",
            " [2.00 3.00]\n",
            " [3.00 4.00]\n",
            " [3.00 5.00]\n",
            " [4.00 4.00]\n",
            " [4.00 6.00]\n",
            " [5.00 6.00]\n",
            " [5.00 7.00]\n",
            " [6.00 8.00]\n",
            " [7.00 8.00]]\n",
            "evecs  [[-0.72 0.69]\n",
            " [0.69 0.72]]\n",
            "evals  [0.24 6.69]\n"
          ]
        }
      ],
      "source": [
        "import numpy as np\n",
        "from scipy import linalg as LA\n",
        "\n",
        "#array([[19.0, 63.0], [39.0, 74.0], [30.0, 87.0], [30.0, 23.0], [15.0, 35.0], [15.0, 43.0], [15.0,32.0],[30.0,73.0]])\n",
        "\n",
        "# Covariance\n",
        "def cov(x, y):\n",
        "    xbar, ybar = x.mean(), y.mean()\n",
        "    return np.sum((x - xbar)*(y - ybar))/(len(x)-1)\n",
        "\n",
        "# Covariance matrix\n",
        "def cov_mat(X):\n",
        "    return np.array([[cov(X[0], X[0]), cov(X[0], X[1])], \\\n",
        "                     [cov(X[1], X[0]), cov(X[1], X[1])]])\n",
        "\n",
        "# Calculate covariance matrix \n",
        "#X -= np.mean(X, axis = 0) \n",
        "#print(X)\n",
        "cc = cov_mat(X.T) # (or with np.cov(X.T))\n",
        "print(cc)\n",
        "#centering the data\n",
        "\n",
        "print(X)\n",
        "\n",
        "evals , evecs = LA.eigh(cc)\n",
        "print(\"evecs \",evecs)\n",
        "print(\"evals \",evals)"
      ]
    },
    {
      "cell_type": "markdown",
      "metadata": {
        "id": "4QINkydCX8Uy"
      },
      "source": [
        "# Projection step"
      ]
    },
    {
      "cell_type": "code",
      "execution_count": null,
      "metadata": {
        "id": "lH-Sr-XTX8Uy",
        "outputId": "de582feb-b7c1-41ae-a52b-56eca09ddf35",
        "colab": {
          "base_uri": "https://localhost:8080/"
        }
      },
      "outputs": [
        {
          "output_type": "stream",
          "name": "stdout",
          "text": [
            "e2  [[0.69 0.72]]\n",
            "[[-3.00 -2.40]\n",
            " [-2.00 -2.40]\n",
            " [-1.00 -1.40]\n",
            " [-1.00 -0.40]\n",
            " [0.00 -1.40]\n",
            " [0.00 0.60]\n",
            " [1.00 0.60]\n",
            " [1.00 1.60]\n",
            " [2.00 2.60]\n",
            " [3.00 2.60]]\n",
            "[[-3.81]\n",
            " [-3.12]\n",
            " [-1.70]\n",
            " [-0.98]\n",
            " [-1.01]\n",
            " [0.43]\n",
            " [1.13]\n",
            " [1.85]\n",
            " [3.26]\n",
            " [3.95]]\n"
          ]
        }
      ],
      "source": [
        "#idx = np.argsort(evals)[::-1]\n",
        "#evecs = evecs[:,idx]\n",
        "#evals = evals[idx]\n",
        "e2 = np.array([evecs[1,:]])\n",
        "print(\"e2 \",e2)\n",
        "X -= np.mean(X, axis = 0) \n",
        "print(X)\n",
        "a = np.dot(e2,X.T) \n",
        "print(a.T)"
      ]
    },
    {
      "cell_type": "markdown",
      "metadata": {
        "id": "ihcioBs9X8Uz"
      },
      "source": [
        "# Retrieving old data (x1,x2)"
      ]
    },
    {
      "cell_type": "code",
      "execution_count": null,
      "metadata": {
        "id": "AQgQvI1OX8Uz",
        "outputId": "fb075216-82b3-4311-893a-9fea53b2d9e1",
        "colab": {
          "base_uri": "https://localhost:8080/"
        }
      },
      "outputs": [
        {
          "output_type": "stream",
          "name": "stdout",
          "text": [
            "[[-2.64 -2.75]\n",
            " [-2.16 -2.25]\n",
            " [-1.18 -1.23]\n",
            " [-0.68 -0.71]\n",
            " [-0.70 -0.73]\n",
            " [0.30 0.31]\n",
            " [0.78 0.81]\n",
            " [1.28 1.33]\n",
            " [2.26 2.35]\n",
            " [2.74 2.85]]\n",
            "[[1.36 2.65]\n",
            " [1.84 3.15]\n",
            " [2.82 4.17]\n",
            " [3.32 4.69]\n",
            " [3.30 4.67]\n",
            " [4.30 5.71]\n",
            " [4.78 6.21]\n",
            " [5.28 6.73]\n",
            " [6.26 7.75]\n",
            " [6.74 8.25]]\n"
          ]
        }
      ],
      "source": [
        "#Reverse\n",
        "b = np.dot(a.T,e2)\n",
        "print(b)\n",
        "print(b+np.array([4,5.4]))\n"
      ]
    },
    {
      "cell_type": "markdown",
      "metadata": {
        "id": "0cxG0_DmX8Uz"
      },
      "source": [
        "# Exercise"
      ]
    },
    {
      "cell_type": "markdown",
      "metadata": {
        "id": "K-9m2oW2X8Uz"
      },
      "source": [
        "1. Generate data using make_regression, sample = 100, dim = 20, random_state=1234 <br/>\n",
        "2. Find PCA in data <br/>\n",
        " - PCA(.95) <br/>\n",
        " - fit <br/>\n",
        "3. show  <br/>\n",
        "print(\"pca.explained_variance_ratio_\", pca.explained_variance_ratio_) <br/>\n",
        "cs = np.cumsum(pca.explained_variance_ratio_) <br/>\n",
        "print(cs) <br/>\n",
        "print(pca.explained_variance_) <br/>\n",
        "print(pca.components_) <br/>"
      ]
    },
    {
      "cell_type": "markdown",
      "metadata": {
        "id": "Lvv7DwItX8U0"
      },
      "source": [
        "# Application"
      ]
    },
    {
      "cell_type": "code",
      "execution_count": null,
      "metadata": {
        "id": "nFmFlU_-X8U0"
      },
      "outputs": [],
      "source": [
        "from sklearn.datasets import fetch_openml\n",
        "mnist = fetch_openml('mnist_784')"
      ]
    },
    {
      "cell_type": "code",
      "execution_count": null,
      "metadata": {
        "id": "rTvtvNmTX8U0"
      },
      "outputs": [],
      "source": [
        "from sklearn.model_selection import train_test_split\n",
        "train_img, test_img, train_lbl, test_lbl = train_test_split(mnist.data,\n",
        "                                                           mnist.target,\n",
        "                                                           test_size = 0.2,\n",
        "                                                           random_state=0)\n",
        "from sklearn.preprocessing import StandardScaler\n",
        "scaler = StandardScaler()\n",
        "scaler.fit(train_img)\n",
        "train_img = scaler.transform(train_img)\n",
        "test_img = scaler.transform(test_img)"
      ]
    },
    {
      "cell_type": "code",
      "execution_count": null,
      "metadata": {
        "id": "Jlw6TH9cX8U0",
        "outputId": "a0810808-be58-4fc2-e0d5-04759016c74f",
        "colab": {
          "base_uri": "https://localhost:8080/"
        }
      },
      "outputs": [
        {
          "output_type": "stream",
          "name": "stdout",
          "text": [
            "39\n"
          ]
        }
      ],
      "source": [
        "from sklearn.decomposition import PCA\n",
        "pca = PCA(.50)\n",
        "pca.fit(train_img)\n",
        "print(pca.n_components_)\n",
        "train_img = pca.transform(train_img)\n",
        "test_img = pca.transform(test_img)"
      ]
    },
    {
      "cell_type": "code",
      "execution_count": null,
      "metadata": {
        "id": "qSH4Dw0UX8U1",
        "outputId": "0a1f5aa7-71db-4fe3-9f45-bb71038436be",
        "colab": {
          "base_uri": "https://localhost:8080/"
        }
      },
      "outputs": [
        {
          "output_type": "stream",
          "name": "stderr",
          "text": [
            "/usr/local/lib/python3.7/dist-packages/sklearn/linear_model/_logistic.py:818: ConvergenceWarning: lbfgs failed to converge (status=1):\n",
            "STOP: TOTAL NO. of ITERATIONS REACHED LIMIT.\n",
            "\n",
            "Increase the number of iterations (max_iter) or scale the data as shown in:\n",
            "    https://scikit-learn.org/stable/modules/preprocessing.html\n",
            "Please also refer to the documentation for alternative solver options:\n",
            "    https://scikit-learn.org/stable/modules/linear_model.html#logistic-regression\n",
            "  extra_warning_msg=_LOGISTIC_SOLVER_CONVERGENCE_MSG,\n"
          ]
        },
        {
          "output_type": "execute_result",
          "data": {
            "text/plain": [
              "LogisticRegression()"
            ]
          },
          "metadata": {},
          "execution_count": 10
        }
      ],
      "source": [
        "from sklearn.linear_model import LogisticRegression\n",
        "logisticRegr = LogisticRegression(solver='lbfgs')\n",
        "logisticRegr.fit(train_img, train_lbl)"
      ]
    },
    {
      "cell_type": "code",
      "execution_count": null,
      "metadata": {
        "id": "VX22VR4IX8U1",
        "outputId": "6bbfb322-c67a-4c7d-9fc4-c99cf6b3a82e",
        "colab": {
          "base_uri": "https://localhost:8080/"
        }
      },
      "outputs": [
        {
          "output_type": "stream",
          "name": "stdout",
          "text": [
            "['4']\n"
          ]
        }
      ],
      "source": [
        "print(logisticRegr.predict(test_img[1].reshape(1,-1)))"
      ]
    },
    {
      "cell_type": "code",
      "execution_count": null,
      "metadata": {
        "id": "VLKpIOr5X8U1",
        "outputId": "8756394f-1af9-4a7f-96d6-88af734dd287",
        "colab": {
          "base_uri": "https://localhost:8080/"
        }
      },
      "outputs": [
        {
          "output_type": "execute_result",
          "data": {
            "text/plain": [
              "0.8946428571428572"
            ]
          },
          "metadata": {},
          "execution_count": 12
        }
      ],
      "source": [
        "logisticRegr.score(test_img,test_lbl)"
      ]
    }
  ],
  "metadata": {
    "kernelspec": {
      "display_name": "Python 3",
      "language": "python",
      "name": "python3"
    },
    "language_info": {
      "codemirror_mode": {
        "name": "ipython",
        "version": 3
      },
      "file_extension": ".py",
      "mimetype": "text/x-python",
      "name": "python",
      "nbconvert_exporter": "python",
      "pygments_lexer": "ipython3",
      "version": "3.7.4"
    },
    "colab": {
      "name": "PCA.ipynb",
      "provenance": [],
      "include_colab_link": true
    }
  },
  "nbformat": 4,
  "nbformat_minor": 0
}